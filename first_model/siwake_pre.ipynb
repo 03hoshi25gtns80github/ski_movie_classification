{
  "cells": [
    {
      "cell_type": "markdown",
      "metadata": {
        "id": "view-in-github",
        "colab_type": "text"
      },
      "source": [
        "<a href=\"https://colab.research.google.com/github/03hoshi25gtns80github/ski_movie_classification/blob/master/siwake_pre.ipynb\" target=\"_parent\"><img src=\"https://colab.research.google.com/assets/colab-badge.svg\" alt=\"Open In Colab\"/></a>"
      ]
    },
    {
      "cell_type": "code",
      "execution_count": null,
      "metadata": {
        "id": "UMNyGyRCNGqD"
      },
      "outputs": [],
      "source": [
        "!pip install moviepy\n",
        "!pip install SpeechRecognition\n",
        "!apt-get install ffmpeg\n",
        "!pip install noisereduce\n",
        "!pip install openpyxl\n",
        "!pip install pykakasi"
      ]
    },
    {
      "cell_type": "code",
      "execution_count": null,
      "metadata": {
        "colab": {
          "base_uri": "https://localhost:8080/"
        },
        "id": "02dMZ1BnNdBj",
        "outputId": "4aaa5730-6126-40c7-a154-6e635a401667"
      },
      "outputs": [
        {
          "output_type": "stream",
          "name": "stdout",
          "text": [
            "Drive already mounted at /content/drive; to attempt to forcibly remount, call drive.mount(\"/content/drive\", force_remount=True).\n"
          ]
        }
      ],
      "source": [
        "from google.colab import drive\n",
        "drive.mount('/content/drive')"
      ]
    },
    {
      "cell_type": "code",
      "execution_count": null,
      "metadata": {
        "id": "NCaZatc1b-R_",
        "colab": {
          "base_uri": "https://localhost:8080/"
        },
        "outputId": "06f6b33f-4048-42ff-a2b2-7671285928c4"
      },
      "outputs": [
        {
          "output_type": "stream",
          "name": "stdout",
          "text": [
            "Moviepy - Building video /content/drive/MyDrive/siwake/data/temp_video.mp4.\n",
            "MoviePy - Writing audio in temp_videoTEMP_MPY_wvf_snd.mp4\n"
          ]
        },
        {
          "output_type": "stream",
          "name": "stderr",
          "text": []
        },
        {
          "output_type": "stream",
          "name": "stdout",
          "text": [
            "MoviePy - Done.\n",
            "Moviepy - Writing video /content/drive/MyDrive/siwake/data/temp_video.mp4\n",
            "\n"
          ]
        },
        {
          "output_type": "stream",
          "name": "stderr",
          "text": []
        },
        {
          "output_type": "stream",
          "name": "stdout",
          "text": [
            "Moviepy - Done !\n",
            "Moviepy - video ready /content/drive/MyDrive/siwake/data/temp_video.mp4\n",
            "MoviePy - Writing audio in /content/drive/MyDrive/siwake/data/temp_audio.wav\n"
          ]
        },
        {
          "output_type": "stream",
          "name": "stderr",
          "text": [
            "                                                                    "
          ]
        },
        {
          "output_type": "stream",
          "name": "stdout",
          "text": [
            "MoviePy - Done.\n"
          ]
        },
        {
          "output_type": "stream",
          "name": "stderr",
          "text": [
            "\r"
          ]
        },
        {
          "output_type": "stream",
          "name": "stdout",
          "text": [
            "Moviepy - Building video /content/drive/MyDrive/siwake/data/temp_video.mp4.\n",
            "MoviePy - Writing audio in temp_videoTEMP_MPY_wvf_snd.mp4\n"
          ]
        },
        {
          "output_type": "stream",
          "name": "stderr",
          "text": []
        },
        {
          "output_type": "stream",
          "name": "stdout",
          "text": [
            "MoviePy - Done.\n",
            "Moviepy - Writing video /content/drive/MyDrive/siwake/data/temp_video.mp4\n",
            "\n"
          ]
        },
        {
          "output_type": "stream",
          "name": "stderr",
          "text": []
        },
        {
          "output_type": "stream",
          "name": "stdout",
          "text": [
            "Moviepy - Done !\n",
            "Moviepy - video ready /content/drive/MyDrive/siwake/data/temp_video.mp4\n",
            "MoviePy - Writing audio in /content/drive/MyDrive/siwake/data/temp_audio.wav\n"
          ]
        },
        {
          "output_type": "stream",
          "name": "stderr",
          "text": []
        },
        {
          "output_type": "stream",
          "name": "stdout",
          "text": [
            "MoviePy - Done.\n",
            "Moviepy - Building video /content/drive/MyDrive/siwake/data/temp_video.mp4.\n",
            "MoviePy - Writing audio in temp_videoTEMP_MPY_wvf_snd.mp4\n"
          ]
        },
        {
          "output_type": "stream",
          "name": "stderr",
          "text": []
        },
        {
          "output_type": "stream",
          "name": "stdout",
          "text": [
            "MoviePy - Done.\n",
            "Moviepy - Writing video /content/drive/MyDrive/siwake/data/temp_video.mp4\n",
            "\n"
          ]
        },
        {
          "output_type": "stream",
          "name": "stderr",
          "text": []
        },
        {
          "output_type": "stream",
          "name": "stdout",
          "text": [
            "Moviepy - Done !\n",
            "Moviepy - video ready /content/drive/MyDrive/siwake/data/temp_video.mp4\n",
            "MoviePy - Writing audio in /content/drive/MyDrive/siwake/data/temp_audio.wav\n"
          ]
        },
        {
          "output_type": "stream",
          "name": "stderr",
          "text": [
            "                                                        "
          ]
        },
        {
          "output_type": "stream",
          "name": "stdout",
          "text": [
            "MoviePy - Done.\n"
          ]
        },
        {
          "output_type": "stream",
          "name": "stderr",
          "text": [
            "\r"
          ]
        },
        {
          "output_type": "stream",
          "name": "stdout",
          "text": [
            "Moviepy - Building video /content/drive/MyDrive/siwake/data/temp_video.mp4.\n",
            "MoviePy - Writing audio in temp_videoTEMP_MPY_wvf_snd.mp4\n"
          ]
        },
        {
          "output_type": "stream",
          "name": "stderr",
          "text": []
        },
        {
          "output_type": "stream",
          "name": "stdout",
          "text": [
            "MoviePy - Done.\n",
            "Moviepy - Writing video /content/drive/MyDrive/siwake/data/temp_video.mp4\n",
            "\n"
          ]
        },
        {
          "output_type": "stream",
          "name": "stderr",
          "text": []
        },
        {
          "output_type": "stream",
          "name": "stdout",
          "text": [
            "Moviepy - Done !\n",
            "Moviepy - video ready /content/drive/MyDrive/siwake/data/temp_video.mp4\n",
            "MoviePy - Writing audio in /content/drive/MyDrive/siwake/data/temp_audio.wav\n"
          ]
        },
        {
          "output_type": "stream",
          "name": "stderr",
          "text": [
            "                                                                    "
          ]
        },
        {
          "output_type": "stream",
          "name": "stdout",
          "text": [
            "MoviePy - Done.\n"
          ]
        },
        {
          "output_type": "stream",
          "name": "stderr",
          "text": [
            "\r"
          ]
        },
        {
          "output_type": "stream",
          "name": "stdout",
          "text": [
            "Moviepy - Building video /content/drive/MyDrive/siwake/data/temp_video.mp4.\n",
            "MoviePy - Writing audio in temp_videoTEMP_MPY_wvf_snd.mp4\n"
          ]
        },
        {
          "output_type": "stream",
          "name": "stderr",
          "text": []
        },
        {
          "output_type": "stream",
          "name": "stdout",
          "text": [
            "MoviePy - Done.\n",
            "Moviepy - Writing video /content/drive/MyDrive/siwake/data/temp_video.mp4\n",
            "\n"
          ]
        },
        {
          "output_type": "stream",
          "name": "stderr",
          "text": []
        },
        {
          "output_type": "stream",
          "name": "stdout",
          "text": [
            "Moviepy - Done !\n",
            "Moviepy - video ready /content/drive/MyDrive/siwake/data/temp_video.mp4\n",
            "MoviePy - Writing audio in /content/drive/MyDrive/siwake/data/temp_audio.wav\n"
          ]
        },
        {
          "output_type": "stream",
          "name": "stderr",
          "text": [
            "                                                        "
          ]
        },
        {
          "output_type": "stream",
          "name": "stdout",
          "text": [
            "MoviePy - Done.\n"
          ]
        },
        {
          "output_type": "stream",
          "name": "stderr",
          "text": [
            "\r"
          ]
        },
        {
          "output_type": "stream",
          "name": "stdout",
          "text": [
            "Moviepy - Building video /content/drive/MyDrive/siwake/data/temp_video.mp4.\n",
            "MoviePy - Writing audio in temp_videoTEMP_MPY_wvf_snd.mp4\n"
          ]
        },
        {
          "output_type": "stream",
          "name": "stderr",
          "text": []
        },
        {
          "output_type": "stream",
          "name": "stdout",
          "text": [
            "MoviePy - Done.\n",
            "Moviepy - Writing video /content/drive/MyDrive/siwake/data/temp_video.mp4\n",
            "\n"
          ]
        },
        {
          "output_type": "stream",
          "name": "stderr",
          "text": []
        },
        {
          "output_type": "stream",
          "name": "stdout",
          "text": [
            "Moviepy - Done !\n",
            "Moviepy - video ready /content/drive/MyDrive/siwake/data/temp_video.mp4\n",
            "MoviePy - Writing audio in /content/drive/MyDrive/siwake/data/temp_audio.wav\n"
          ]
        },
        {
          "output_type": "stream",
          "name": "stderr",
          "text": []
        },
        {
          "output_type": "stream",
          "name": "stdout",
          "text": [
            "MoviePy - Done.\n",
            "Moviepy - Building video /content/drive/MyDrive/siwake/data/temp_video.mp4.\n",
            "MoviePy - Writing audio in temp_videoTEMP_MPY_wvf_snd.mp4\n"
          ]
        },
        {
          "output_type": "stream",
          "name": "stderr",
          "text": []
        },
        {
          "output_type": "stream",
          "name": "stdout",
          "text": [
            "MoviePy - Done.\n",
            "Moviepy - Writing video /content/drive/MyDrive/siwake/data/temp_video.mp4\n",
            "\n"
          ]
        },
        {
          "output_type": "stream",
          "name": "stderr",
          "text": []
        },
        {
          "output_type": "stream",
          "name": "stdout",
          "text": [
            "Moviepy - Done !\n",
            "Moviepy - video ready /content/drive/MyDrive/siwake/data/temp_video.mp4\n",
            "MoviePy - Writing audio in /content/drive/MyDrive/siwake/data/temp_audio.wav\n"
          ]
        },
        {
          "output_type": "stream",
          "name": "stderr",
          "text": [
            "                                                                    "
          ]
        },
        {
          "output_type": "stream",
          "name": "stdout",
          "text": [
            "MoviePy - Done.\n"
          ]
        },
        {
          "output_type": "stream",
          "name": "stderr",
          "text": [
            "\r"
          ]
        },
        {
          "output_type": "stream",
          "name": "stdout",
          "text": [
            "Moviepy - Building video /content/drive/MyDrive/siwake/data/temp_video.mp4.\n",
            "MoviePy - Writing audio in temp_videoTEMP_MPY_wvf_snd.mp4\n"
          ]
        },
        {
          "output_type": "stream",
          "name": "stderr",
          "text": []
        },
        {
          "output_type": "stream",
          "name": "stdout",
          "text": [
            "MoviePy - Done.\n",
            "Moviepy - Writing video /content/drive/MyDrive/siwake/data/temp_video.mp4\n",
            "\n"
          ]
        },
        {
          "output_type": "stream",
          "name": "stderr",
          "text": []
        },
        {
          "output_type": "stream",
          "name": "stdout",
          "text": [
            "Moviepy - Done !\n",
            "Moviepy - video ready /content/drive/MyDrive/siwake/data/temp_video.mp4\n",
            "MoviePy - Writing audio in /content/drive/MyDrive/siwake/data/temp_audio.wav\n"
          ]
        },
        {
          "output_type": "stream",
          "name": "stderr",
          "text": [
            "                                                        "
          ]
        },
        {
          "output_type": "stream",
          "name": "stdout",
          "text": [
            "MoviePy - Done.\n"
          ]
        },
        {
          "output_type": "stream",
          "name": "stderr",
          "text": [
            "\r"
          ]
        },
        {
          "output_type": "stream",
          "name": "stdout",
          "text": [
            "Moviepy - Building video /content/drive/MyDrive/siwake/data/temp_video.mp4.\n",
            "MoviePy - Writing audio in temp_videoTEMP_MPY_wvf_snd.mp4\n"
          ]
        },
        {
          "output_type": "stream",
          "name": "stderr",
          "text": []
        },
        {
          "output_type": "stream",
          "name": "stdout",
          "text": [
            "MoviePy - Done.\n",
            "Moviepy - Writing video /content/drive/MyDrive/siwake/data/temp_video.mp4\n",
            "\n"
          ]
        },
        {
          "output_type": "stream",
          "name": "stderr",
          "text": [
            "t:  54%|█████▍    | 227/420 [00:30<00:22,  8.73it/s, now=None]WARNING:py.warnings:/usr/local/lib/python3.10/dist-packages/moviepy/video/io/ffmpeg_reader.py:123: UserWarning: Warning: in file /content/drive/MyDrive/siwake/video/takahiro (4) (5).MTS, 6220800 bytes wanted but 0 bytes read,at frame 226/453, at time 3.77/7.55 sec. Using the last valid frame instead.\n",
            "  warnings.warn(\"Warning: in file %s, \"%(self.filename)+\n",
            "\n",
            "t:  54%|█████▍    | 228/420 [00:30<00:25,  7.48it/s, now=None]WARNING:py.warnings:/usr/local/lib/python3.10/dist-packages/moviepy/video/io/ffmpeg_reader.py:123: UserWarning: Warning: in file /content/drive/MyDrive/siwake/video/takahiro (4) (5).MTS, 6220800 bytes wanted but 0 bytes read,at frame 227/453, at time 3.79/7.55 sec. Using the last valid frame instead.\n",
            "  warnings.warn(\"Warning: in file %s, \"%(self.filename)+\n",
            "\n",
            "t:  55%|█████▍    | 229/420 [00:30<00:24,  7.79it/s, now=None]WARNING:py.warnings:/usr/local/lib/python3.10/dist-packages/moviepy/video/io/ffmpeg_reader.py:123: UserWarning: Warning: in file /content/drive/MyDrive/siwake/video/takahiro (4) (5).MTS, 6220800 bytes wanted but 0 bytes read,at frame 228/453, at time 3.80/7.55 sec. Using the last valid frame instead.\n",
            "  warnings.warn(\"Warning: in file %s, \"%(self.filename)+\n",
            "\n",
            "WARNING:py.warnings:/usr/local/lib/python3.10/dist-packages/moviepy/video/io/ffmpeg_reader.py:123: UserWarning: Warning: in file /content/drive/MyDrive/siwake/video/takahiro (4) (5).MTS, 6220800 bytes wanted but 0 bytes read,at frame 229/453, at time 3.82/7.55 sec. Using the last valid frame instead.\n",
            "  warnings.warn(\"Warning: in file %s, \"%(self.filename)+\n",
            "\n",
            "t:  55%|█████▌    | 231/420 [00:31<00:25,  7.54it/s, now=None]WARNING:py.warnings:/usr/local/lib/python3.10/dist-packages/moviepy/video/io/ffmpeg_reader.py:123: UserWarning: Warning: in file /content/drive/MyDrive/siwake/video/takahiro (4) (5).MTS, 6220800 bytes wanted but 0 bytes read,at frame 230/453, at time 3.84/7.55 sec. Using the last valid frame instead.\n",
            "  warnings.warn(\"Warning: in file %s, \"%(self.filename)+\n",
            "\n",
            "WARNING:py.warnings:/usr/local/lib/python3.10/dist-packages/moviepy/video/io/ffmpeg_reader.py:123: UserWarning: Warning: in file /content/drive/MyDrive/siwake/video/takahiro (4) (5).MTS, 6220800 bytes wanted but 0 bytes read,at frame 231/453, at time 3.85/7.55 sec. Using the last valid frame instead.\n",
            "  warnings.warn(\"Warning: in file %s, \"%(self.filename)+\n",
            "\n",
            "t:  55%|█████▌    | 233/420 [00:31<00:23,  8.10it/s, now=None]WARNING:py.warnings:/usr/local/lib/python3.10/dist-packages/moviepy/video/io/ffmpeg_reader.py:123: UserWarning: Warning: in file /content/drive/MyDrive/siwake/video/takahiro (4) (5).MTS, 6220800 bytes wanted but 0 bytes read,at frame 232/453, at time 3.87/7.55 sec. Using the last valid frame instead.\n",
            "  warnings.warn(\"Warning: in file %s, \"%(self.filename)+\n",
            "\n",
            "t:  56%|█████▌    | 234/420 [00:31<00:22,  8.24it/s, now=None]WARNING:py.warnings:/usr/local/lib/python3.10/dist-packages/moviepy/video/io/ffmpeg_reader.py:123: UserWarning: Warning: in file /content/drive/MyDrive/siwake/video/takahiro (4) (5).MTS, 6220800 bytes wanted but 0 bytes read,at frame 233/453, at time 3.89/7.55 sec. Using the last valid frame instead.\n",
            "  warnings.warn(\"Warning: in file %s, \"%(self.filename)+\n",
            "\n",
            "WARNING:py.warnings:/usr/local/lib/python3.10/dist-packages/moviepy/video/io/ffmpeg_reader.py:123: UserWarning: Warning: in file /content/drive/MyDrive/siwake/video/takahiro (4) (5).MTS, 6220800 bytes wanted but 0 bytes read,at frame 234/453, at time 3.90/7.55 sec. Using the last valid frame instead.\n",
            "  warnings.warn(\"Warning: in file %s, \"%(self.filename)+\n",
            "\n",
            "t:  56%|█████▌    | 236/420 [00:31<00:22,  8.24it/s, now=None]WARNING:py.warnings:/usr/local/lib/python3.10/dist-packages/moviepy/video/io/ffmpeg_reader.py:123: UserWarning: Warning: in file /content/drive/MyDrive/siwake/video/takahiro (4) (5).MTS, 6220800 bytes wanted but 0 bytes read,at frame 235/453, at time 3.92/7.55 sec. Using the last valid frame instead.\n",
            "  warnings.warn(\"Warning: in file %s, \"%(self.filename)+\n",
            "\n",
            "WARNING:py.warnings:/usr/local/lib/python3.10/dist-packages/moviepy/video/io/ffmpeg_reader.py:123: UserWarning: Warning: in file /content/drive/MyDrive/siwake/video/takahiro (4) (5).MTS, 6220800 bytes wanted but 0 bytes read,at frame 236/453, at time 3.94/7.55 sec. Using the last valid frame instead.\n",
            "  warnings.warn(\"Warning: in file %s, \"%(self.filename)+\n",
            "\n",
            "t:  57%|█████▋    | 238/420 [00:31<00:22,  8.10it/s, now=None]WARNING:py.warnings:/usr/local/lib/python3.10/dist-packages/moviepy/video/io/ffmpeg_reader.py:123: UserWarning: Warning: in file /content/drive/MyDrive/siwake/video/takahiro (4) (5).MTS, 6220800 bytes wanted but 0 bytes read,at frame 237/453, at time 3.95/7.55 sec. Using the last valid frame instead.\n",
            "  warnings.warn(\"Warning: in file %s, \"%(self.filename)+\n",
            "\n",
            "WARNING:py.warnings:/usr/local/lib/python3.10/dist-packages/moviepy/video/io/ffmpeg_reader.py:123: UserWarning: Warning: in file /content/drive/MyDrive/siwake/video/takahiro (4) (5).MTS, 6220800 bytes wanted but 0 bytes read,at frame 238/453, at time 3.97/7.55 sec. Using the last valid frame instead.\n",
            "  warnings.warn(\"Warning: in file %s, \"%(self.filename)+\n",
            "\n",
            "t:  57%|█████▋    | 240/420 [00:32<00:21,  8.33it/s, now=None]WARNING:py.warnings:/usr/local/lib/python3.10/dist-packages/moviepy/video/io/ffmpeg_reader.py:123: UserWarning: Warning: in file /content/drive/MyDrive/siwake/video/takahiro (4) (5).MTS, 6220800 bytes wanted but 0 bytes read,at frame 239/453, at time 3.99/7.55 sec. Using the last valid frame instead.\n",
            "  warnings.warn(\"Warning: in file %s, \"%(self.filename)+\n",
            "\n",
            "t:  57%|█████▋    | 241/420 [00:32<00:23,  7.72it/s, now=None]WARNING:py.warnings:/usr/local/lib/python3.10/dist-packages/moviepy/video/io/ffmpeg_reader.py:123: UserWarning: Warning: in file /content/drive/MyDrive/siwake/video/takahiro (4) (5).MTS, 6220800 bytes wanted but 0 bytes read,at frame 240/453, at time 4.00/7.55 sec. Using the last valid frame instead.\n",
            "  warnings.warn(\"Warning: in file %s, \"%(self.filename)+\n",
            "\n",
            "WARNING:py.warnings:/usr/local/lib/python3.10/dist-packages/moviepy/video/io/ffmpeg_reader.py:123: UserWarning: Warning: in file /content/drive/MyDrive/siwake/video/takahiro (4) (5).MTS, 6220800 bytes wanted but 0 bytes read,at frame 241/453, at time 4.02/7.55 sec. Using the last valid frame instead.\n",
            "  warnings.warn(\"Warning: in file %s, \"%(self.filename)+\n",
            "\n",
            "t:  58%|█████▊    | 243/420 [00:32<00:21,  8.06it/s, now=None]WARNING:py.warnings:/usr/local/lib/python3.10/dist-packages/moviepy/video/io/ffmpeg_reader.py:123: UserWarning: Warning: in file /content/drive/MyDrive/siwake/video/takahiro (4) (5).MTS, 6220800 bytes wanted but 0 bytes read,at frame 242/453, at time 4.04/7.55 sec. Using the last valid frame instead.\n",
            "  warnings.warn(\"Warning: in file %s, \"%(self.filename)+\n",
            "\n",
            "WARNING:py.warnings:/usr/local/lib/python3.10/dist-packages/moviepy/video/io/ffmpeg_reader.py:123: UserWarning: Warning: in file /content/drive/MyDrive/siwake/video/takahiro (4) (5).MTS, 6220800 bytes wanted but 0 bytes read,at frame 243/453, at time 4.05/7.55 sec. Using the last valid frame instead.\n",
            "  warnings.warn(\"Warning: in file %s, \"%(self.filename)+\n",
            "\n",
            "t:  58%|█████▊    | 245/420 [00:32<00:21,  8.01it/s, now=None]WARNING:py.warnings:/usr/local/lib/python3.10/dist-packages/moviepy/video/io/ffmpeg_reader.py:123: UserWarning: Warning: in file /content/drive/MyDrive/siwake/video/takahiro (4) (5).MTS, 6220800 bytes wanted but 0 bytes read,at frame 244/453, at time 4.07/7.55 sec. Using the last valid frame instead.\n",
            "  warnings.warn(\"Warning: in file %s, \"%(self.filename)+\n",
            "\n",
            "t:  59%|█████▊    | 246/420 [00:32<00:21,  8.22it/s, now=None]WARNING:py.warnings:/usr/local/lib/python3.10/dist-packages/moviepy/video/io/ffmpeg_reader.py:123: UserWarning: Warning: in file /content/drive/MyDrive/siwake/video/takahiro (4) (5).MTS, 6220800 bytes wanted but 0 bytes read,at frame 245/453, at time 4.09/7.55 sec. Using the last valid frame instead.\n",
            "  warnings.warn(\"Warning: in file %s, \"%(self.filename)+\n",
            "\n",
            "WARNING:py.warnings:/usr/local/lib/python3.10/dist-packages/moviepy/video/io/ffmpeg_reader.py:123: UserWarning: Warning: in file /content/drive/MyDrive/siwake/video/takahiro (4) (5).MTS, 6220800 bytes wanted but 0 bytes read,at frame 246/453, at time 4.10/7.55 sec. Using the last valid frame instead.\n",
            "  warnings.warn(\"Warning: in file %s, \"%(self.filename)+\n",
            "\n",
            "t:  59%|█████▉    | 248/420 [00:33<00:20,  8.49it/s, now=None]WARNING:py.warnings:/usr/local/lib/python3.10/dist-packages/moviepy/video/io/ffmpeg_reader.py:123: UserWarning: Warning: in file /content/drive/MyDrive/siwake/video/takahiro (4) (5).MTS, 6220800 bytes wanted but 0 bytes read,at frame 247/453, at time 4.12/7.55 sec. Using the last valid frame instead.\n",
            "  warnings.warn(\"Warning: in file %s, \"%(self.filename)+\n",
            "\n",
            "t:  59%|█████▉    | 249/420 [00:33<00:21,  7.97it/s, now=None]WARNING:py.warnings:/usr/local/lib/python3.10/dist-packages/moviepy/video/io/ffmpeg_reader.py:123: UserWarning: Warning: in file /content/drive/MyDrive/siwake/video/takahiro (4) (5).MTS, 6220800 bytes wanted but 0 bytes read,at frame 248/453, at time 4.14/7.55 sec. Using the last valid frame instead.\n",
            "  warnings.warn(\"Warning: in file %s, \"%(self.filename)+\n",
            "\n",
            "t:  60%|█████▉    | 250/420 [00:33<00:21,  7.85it/s, now=None]WARNING:py.warnings:/usr/local/lib/python3.10/dist-packages/moviepy/video/io/ffmpeg_reader.py:123: UserWarning: Warning: in file /content/drive/MyDrive/siwake/video/takahiro (4) (5).MTS, 6220800 bytes wanted but 0 bytes read,at frame 249/453, at time 4.15/7.55 sec. Using the last valid frame instead.\n",
            "  warnings.warn(\"Warning: in file %s, \"%(self.filename)+\n",
            "\n",
            "WARNING:py.warnings:/usr/local/lib/python3.10/dist-packages/moviepy/video/io/ffmpeg_reader.py:123: UserWarning: Warning: in file /content/drive/MyDrive/siwake/video/takahiro (4) (5).MTS, 6220800 bytes wanted but 0 bytes read,at frame 250/453, at time 4.17/7.55 sec. Using the last valid frame instead.\n",
            "  warnings.warn(\"Warning: in file %s, \"%(self.filename)+\n",
            "\n",
            "t:  60%|██████    | 252/420 [00:33<00:20,  8.29it/s, now=None]WARNING:py.warnings:/usr/local/lib/python3.10/dist-packages/moviepy/video/io/ffmpeg_reader.py:123: UserWarning: Warning: in file /content/drive/MyDrive/siwake/video/takahiro (4) (5).MTS, 6220800 bytes wanted but 0 bytes read,at frame 251/453, at time 4.19/7.55 sec. Using the last valid frame instead.\n",
            "  warnings.warn(\"Warning: in file %s, \"%(self.filename)+\n",
            "\n",
            "t:  60%|██████    | 253/420 [00:33<00:22,  7.40it/s, now=None]WARNING:py.warnings:/usr/local/lib/python3.10/dist-packages/moviepy/video/io/ffmpeg_reader.py:123: UserWarning: Warning: in file /content/drive/MyDrive/siwake/video/takahiro (4) (5).MTS, 6220800 bytes wanted but 0 bytes read,at frame 252/453, at time 4.20/7.55 sec. Using the last valid frame instead.\n",
            "  warnings.warn(\"Warning: in file %s, \"%(self.filename)+\n",
            "\n",
            "WARNING:py.warnings:/usr/local/lib/python3.10/dist-packages/moviepy/video/io/ffmpeg_reader.py:123: UserWarning: Warning: in file /content/drive/MyDrive/siwake/video/takahiro (4) (5).MTS, 6220800 bytes wanted but 0 bytes read,at frame 253/453, at time 4.22/7.55 sec. Using the last valid frame instead.\n",
            "  warnings.warn(\"Warning: in file %s, \"%(self.filename)+\n",
            "\n",
            "t:  61%|██████    | 255/420 [00:33<00:17,  9.39it/s, now=None]WARNING:py.warnings:/usr/local/lib/python3.10/dist-packages/moviepy/video/io/ffmpeg_reader.py:123: UserWarning: Warning: in file /content/drive/MyDrive/siwake/video/takahiro (4) (5).MTS, 6220800 bytes wanted but 0 bytes read,at frame 254/453, at time 4.24/7.55 sec. Using the last valid frame instead.\n",
            "  warnings.warn(\"Warning: in file %s, \"%(self.filename)+\n",
            "\n",
            "WARNING:py.warnings:/usr/local/lib/python3.10/dist-packages/moviepy/video/io/ffmpeg_reader.py:123: UserWarning: Warning: in file /content/drive/MyDrive/siwake/video/takahiro (4) (5).MTS, 6220800 bytes wanted but 0 bytes read,at frame 255/453, at time 4.25/7.55 sec. Using the last valid frame instead.\n",
            "  warnings.warn(\"Warning: in file %s, \"%(self.filename)+\n",
            "\n",
            "t:  61%|██████    | 257/420 [00:34<00:21,  7.48it/s, now=None]WARNING:py.warnings:/usr/local/lib/python3.10/dist-packages/moviepy/video/io/ffmpeg_reader.py:123: UserWarning: Warning: in file /content/drive/MyDrive/siwake/video/takahiro (4) (5).MTS, 6220800 bytes wanted but 0 bytes read,at frame 256/453, at time 4.27/7.55 sec. Using the last valid frame instead.\n",
            "  warnings.warn(\"Warning: in file %s, \"%(self.filename)+\n",
            "\n",
            "t:  61%|██████▏   | 258/420 [00:34<00:21,  7.66it/s, now=None]WARNING:py.warnings:/usr/local/lib/python3.10/dist-packages/moviepy/video/io/ffmpeg_reader.py:123: UserWarning: Warning: in file /content/drive/MyDrive/siwake/video/takahiro (4) (5).MTS, 6220800 bytes wanted but 0 bytes read,at frame 257/453, at time 4.29/7.55 sec. Using the last valid frame instead.\n",
            "  warnings.warn(\"Warning: in file %s, \"%(self.filename)+\n",
            "\n",
            "WARNING:py.warnings:/usr/local/lib/python3.10/dist-packages/moviepy/video/io/ffmpeg_reader.py:123: UserWarning: Warning: in file /content/drive/MyDrive/siwake/video/takahiro (4) (5).MTS, 6220800 bytes wanted but 0 bytes read,at frame 258/453, at time 4.30/7.55 sec. Using the last valid frame instead.\n",
            "  warnings.warn(\"Warning: in file %s, \"%(self.filename)+\n",
            "\n",
            "t:  62%|██████▏   | 260/420 [00:34<00:20,  7.89it/s, now=None]WARNING:py.warnings:/usr/local/lib/python3.10/dist-packages/moviepy/video/io/ffmpeg_reader.py:123: UserWarning: Warning: in file /content/drive/MyDrive/siwake/video/takahiro (4) (5).MTS, 6220800 bytes wanted but 0 bytes read,at frame 259/453, at time 4.32/7.55 sec. Using the last valid frame instead.\n",
            "  warnings.warn(\"Warning: in file %s, \"%(self.filename)+\n",
            "\n",
            "t:  62%|██████▏   | 261/420 [00:34<00:20,  7.93it/s, now=None]WARNING:py.warnings:/usr/local/lib/python3.10/dist-packages/moviepy/video/io/ffmpeg_reader.py:123: UserWarning: Warning: in file /content/drive/MyDrive/siwake/video/takahiro (4) (5).MTS, 6220800 bytes wanted but 0 bytes read,at frame 260/453, at time 4.34/7.55 sec. Using the last valid frame instead.\n",
            "  warnings.warn(\"Warning: in file %s, \"%(self.filename)+\n",
            "\n",
            "t:  62%|██████▏   | 262/420 [00:34<00:20,  7.76it/s, now=None]WARNING:py.warnings:/usr/local/lib/python3.10/dist-packages/moviepy/video/io/ffmpeg_reader.py:123: UserWarning: Warning: in file /content/drive/MyDrive/siwake/video/takahiro (4) (5).MTS, 6220800 bytes wanted but 0 bytes read,at frame 261/453, at time 4.35/7.55 sec. Using the last valid frame instead.\n",
            "  warnings.warn(\"Warning: in file %s, \"%(self.filename)+\n",
            "\n",
            "WARNING:py.warnings:/usr/local/lib/python3.10/dist-packages/moviepy/video/io/ffmpeg_reader.py:123: UserWarning: Warning: in file /content/drive/MyDrive/siwake/video/takahiro (4) (5).MTS, 6220800 bytes wanted but 0 bytes read,at frame 262/453, at time 4.37/7.55 sec. Using the last valid frame instead.\n",
            "  warnings.warn(\"Warning: in file %s, \"%(self.filename)+\n",
            "\n",
            "t:  63%|██████▎   | 264/420 [00:35<00:20,  7.69it/s, now=None]WARNING:py.warnings:/usr/local/lib/python3.10/dist-packages/moviepy/video/io/ffmpeg_reader.py:123: UserWarning: Warning: in file /content/drive/MyDrive/siwake/video/takahiro (4) (5).MTS, 6220800 bytes wanted but 0 bytes read,at frame 263/453, at time 4.39/7.55 sec. Using the last valid frame instead.\n",
            "  warnings.warn(\"Warning: in file %s, \"%(self.filename)+\n",
            "\n",
            "t:  63%|██████▎   | 265/420 [00:35<00:21,  7.35it/s, now=None]WARNING:py.warnings:/usr/local/lib/python3.10/dist-packages/moviepy/video/io/ffmpeg_reader.py:123: UserWarning: Warning: in file /content/drive/MyDrive/siwake/video/takahiro (4) (5).MTS, 6220800 bytes wanted but 0 bytes read,at frame 264/453, at time 4.40/7.55 sec. Using the last valid frame instead.\n",
            "  warnings.warn(\"Warning: in file %s, \"%(self.filename)+\n",
            "\n",
            "t:  63%|██████▎   | 266/420 [00:35<00:20,  7.57it/s, now=None]WARNING:py.warnings:/usr/local/lib/python3.10/dist-packages/moviepy/video/io/ffmpeg_reader.py:123: UserWarning: Warning: in file /content/drive/MyDrive/siwake/video/takahiro (4) (5).MTS, 6220800 bytes wanted but 0 bytes read,at frame 265/453, at time 4.42/7.55 sec. Using the last valid frame instead.\n",
            "  warnings.warn(\"Warning: in file %s, \"%(self.filename)+\n",
            "\n",
            "WARNING:py.warnings:/usr/local/lib/python3.10/dist-packages/moviepy/video/io/ffmpeg_reader.py:123: UserWarning: Warning: in file /content/drive/MyDrive/siwake/video/takahiro (4) (5).MTS, 6220800 bytes wanted but 0 bytes read,at frame 266/453, at time 4.44/7.55 sec. Using the last valid frame instead.\n",
            "  warnings.warn(\"Warning: in file %s, \"%(self.filename)+\n",
            "\n",
            "t:  64%|██████▍   | 268/420 [00:35<00:25,  5.89it/s, now=None]WARNING:py.warnings:/usr/local/lib/python3.10/dist-packages/moviepy/video/io/ffmpeg_reader.py:123: UserWarning: Warning: in file /content/drive/MyDrive/siwake/video/takahiro (4) (5).MTS, 6220800 bytes wanted but 0 bytes read,at frame 267/453, at time 4.45/7.55 sec. Using the last valid frame instead.\n",
            "  warnings.warn(\"Warning: in file %s, \"%(self.filename)+\n",
            "\n",
            "t:  64%|██████▍   | 269/420 [00:36<00:24,  6.29it/s, now=None]WARNING:py.warnings:/usr/local/lib/python3.10/dist-packages/moviepy/video/io/ffmpeg_reader.py:123: UserWarning: Warning: in file /content/drive/MyDrive/siwake/video/takahiro (4) (5).MTS, 6220800 bytes wanted but 0 bytes read,at frame 268/453, at time 4.47/7.55 sec. Using the last valid frame instead.\n",
            "  warnings.warn(\"Warning: in file %s, \"%(self.filename)+\n",
            "\n",
            "t:  64%|██████▍   | 270/420 [00:36<00:21,  6.84it/s, now=None]WARNING:py.warnings:/usr/local/lib/python3.10/dist-packages/moviepy/video/io/ffmpeg_reader.py:123: UserWarning: Warning: in file /content/drive/MyDrive/siwake/video/takahiro (4) (5).MTS, 6220800 bytes wanted but 0 bytes read,at frame 269/453, at time 4.49/7.55 sec. Using the last valid frame instead.\n",
            "  warnings.warn(\"Warning: in file %s, \"%(self.filename)+\n",
            "\n",
            "t:  65%|██████▍   | 271/420 [00:36<00:21,  6.97it/s, now=None]WARNING:py.warnings:/usr/local/lib/python3.10/dist-packages/moviepy/video/io/ffmpeg_reader.py:123: UserWarning: Warning: in file /content/drive/MyDrive/siwake/video/takahiro (4) (5).MTS, 6220800 bytes wanted but 0 bytes read,at frame 270/453, at time 4.50/7.55 sec. Using the last valid frame instead.\n",
            "  warnings.warn(\"Warning: in file %s, \"%(self.filename)+\n",
            "\n",
            "t:  65%|██████▍   | 272/420 [00:36<00:23,  6.35it/s, now=None]WARNING:py.warnings:/usr/local/lib/python3.10/dist-packages/moviepy/video/io/ffmpeg_reader.py:123: UserWarning: Warning: in file /content/drive/MyDrive/siwake/video/takahiro (4) (5).MTS, 6220800 bytes wanted but 0 bytes read,at frame 271/453, at time 4.52/7.55 sec. Using the last valid frame instead.\n",
            "  warnings.warn(\"Warning: in file %s, \"%(self.filename)+\n",
            "\n",
            "t:  65%|██████▌   | 273/420 [00:36<00:24,  5.91it/s, now=None]WARNING:py.warnings:/usr/local/lib/python3.10/dist-packages/moviepy/video/io/ffmpeg_reader.py:123: UserWarning: Warning: in file /content/drive/MyDrive/siwake/video/takahiro (4) (5).MTS, 6220800 bytes wanted but 0 bytes read,at frame 272/453, at time 4.54/7.55 sec. Using the last valid frame instead.\n",
            "  warnings.warn(\"Warning: in file %s, \"%(self.filename)+\n",
            "\n",
            "t:  65%|██████▌   | 274/420 [00:36<00:27,  5.29it/s, now=None]WARNING:py.warnings:/usr/local/lib/python3.10/dist-packages/moviepy/video/io/ffmpeg_reader.py:123: UserWarning: Warning: in file /content/drive/MyDrive/siwake/video/takahiro (4) (5).MTS, 6220800 bytes wanted but 0 bytes read,at frame 273/453, at time 4.55/7.55 sec. Using the last valid frame instead.\n",
            "  warnings.warn(\"Warning: in file %s, \"%(self.filename)+\n",
            "\n",
            "t:  65%|██████▌   | 275/420 [00:37<00:28,  5.00it/s, now=None]WARNING:py.warnings:/usr/local/lib/python3.10/dist-packages/moviepy/video/io/ffmpeg_reader.py:123: UserWarning: Warning: in file /content/drive/MyDrive/siwake/video/takahiro (4) (5).MTS, 6220800 bytes wanted but 0 bytes read,at frame 274/453, at time 4.57/7.55 sec. Using the last valid frame instead.\n",
            "  warnings.warn(\"Warning: in file %s, \"%(self.filename)+\n",
            "\n",
            "WARNING:py.warnings:/usr/local/lib/python3.10/dist-packages/moviepy/video/io/ffmpeg_reader.py:123: UserWarning: Warning: in file /content/drive/MyDrive/siwake/video/takahiro (4) (5).MTS, 6220800 bytes wanted but 0 bytes read,at frame 275/453, at time 4.59/7.55 sec. Using the last valid frame instead.\n",
            "  warnings.warn(\"Warning: in file %s, \"%(self.filename)+\n",
            "\n",
            "t:  66%|██████▌   | 277/420 [00:37<00:20,  6.86it/s, now=None]WARNING:py.warnings:/usr/local/lib/python3.10/dist-packages/moviepy/video/io/ffmpeg_reader.py:123: UserWarning: Warning: in file /content/drive/MyDrive/siwake/video/takahiro (4) (5).MTS, 6220800 bytes wanted but 0 bytes read,at frame 276/453, at time 4.60/7.55 sec. Using the last valid frame instead.\n",
            "  warnings.warn(\"Warning: in file %s, \"%(self.filename)+\n",
            "\n",
            "t:  66%|██████▌   | 278/420 [00:37<00:26,  5.28it/s, now=None]WARNING:py.warnings:/usr/local/lib/python3.10/dist-packages/moviepy/video/io/ffmpeg_reader.py:123: UserWarning: Warning: in file /content/drive/MyDrive/siwake/video/takahiro (4) (5).MTS, 6220800 bytes wanted but 0 bytes read,at frame 277/453, at time 4.62/7.55 sec. Using the last valid frame instead.\n",
            "  warnings.warn(\"Warning: in file %s, \"%(self.filename)+\n",
            "\n",
            "t:  66%|██████▋   | 279/420 [00:37<00:23,  5.89it/s, now=None]WARNING:py.warnings:/usr/local/lib/python3.10/dist-packages/moviepy/video/io/ffmpeg_reader.py:123: UserWarning: Warning: in file /content/drive/MyDrive/siwake/video/takahiro (4) (5).MTS, 6220800 bytes wanted but 0 bytes read,at frame 278/453, at time 4.64/7.55 sec. Using the last valid frame instead.\n",
            "  warnings.warn(\"Warning: in file %s, \"%(self.filename)+\n",
            "\n",
            "WARNING:py.warnings:/usr/local/lib/python3.10/dist-packages/moviepy/video/io/ffmpeg_reader.py:123: UserWarning: Warning: in file /content/drive/MyDrive/siwake/video/takahiro (4) (5).MTS, 6220800 bytes wanted but 0 bytes read,at frame 279/453, at time 4.65/7.55 sec. Using the last valid frame instead.\n",
            "  warnings.warn(\"Warning: in file %s, \"%(self.filename)+\n",
            "\n",
            "t:  67%|██████▋   | 281/420 [00:38<00:38,  3.57it/s, now=None]WARNING:py.warnings:/usr/local/lib/python3.10/dist-packages/moviepy/video/io/ffmpeg_reader.py:123: UserWarning: Warning: in file /content/drive/MyDrive/siwake/video/takahiro (4) (5).MTS, 6220800 bytes wanted but 0 bytes read,at frame 280/453, at time 4.67/7.55 sec. Using the last valid frame instead.\n",
            "  warnings.warn(\"Warning: in file %s, \"%(self.filename)+\n",
            "\n",
            "t:  67%|██████▋   | 282/420 [00:38<00:32,  4.19it/s, now=None]WARNING:py.warnings:/usr/local/lib/python3.10/dist-packages/moviepy/video/io/ffmpeg_reader.py:123: UserWarning: Warning: in file /content/drive/MyDrive/siwake/video/takahiro (4) (5).MTS, 6220800 bytes wanted but 0 bytes read,at frame 281/453, at time 4.69/7.55 sec. Using the last valid frame instead.\n",
            "  warnings.warn(\"Warning: in file %s, \"%(self.filename)+\n",
            "\n",
            "t:  67%|██████▋   | 283/420 [00:38<00:29,  4.57it/s, now=None]WARNING:py.warnings:/usr/local/lib/python3.10/dist-packages/moviepy/video/io/ffmpeg_reader.py:123: UserWarning: Warning: in file /content/drive/MyDrive/siwake/video/takahiro (4) (5).MTS, 6220800 bytes wanted but 0 bytes read,at frame 282/453, at time 4.70/7.55 sec. Using the last valid frame instead.\n",
            "  warnings.warn(\"Warning: in file %s, \"%(self.filename)+\n",
            "\n",
            "t:  68%|██████▊   | 284/420 [00:39<00:32,  4.21it/s, now=None]WARNING:py.warnings:/usr/local/lib/python3.10/dist-packages/moviepy/video/io/ffmpeg_reader.py:123: UserWarning: Warning: in file /content/drive/MyDrive/siwake/video/takahiro (4) (5).MTS, 6220800 bytes wanted but 0 bytes read,at frame 283/453, at time 4.72/7.55 sec. Using the last valid frame instead.\n",
            "  warnings.warn(\"Warning: in file %s, \"%(self.filename)+\n",
            "\n",
            "WARNING:py.warnings:/usr/local/lib/python3.10/dist-packages/moviepy/video/io/ffmpeg_reader.py:123: UserWarning: Warning: in file /content/drive/MyDrive/siwake/video/takahiro (4) (5).MTS, 6220800 bytes wanted but 0 bytes read,at frame 284/453, at time 4.74/7.55 sec. Using the last valid frame instead.\n",
            "  warnings.warn(\"Warning: in file %s, \"%(self.filename)+\n",
            "\n",
            "WARNING:py.warnings:/usr/local/lib/python3.10/dist-packages/moviepy/video/io/ffmpeg_reader.py:123: UserWarning: Warning: in file /content/drive/MyDrive/siwake/video/takahiro (4) (5).MTS, 6220800 bytes wanted but 0 bytes read,at frame 285/453, at time 4.75/7.55 sec. Using the last valid frame instead.\n",
            "  warnings.warn(\"Warning: in file %s, \"%(self.filename)+\n",
            "\n",
            "t:  68%|██████▊   | 287/420 [00:39<00:23,  5.56it/s, now=None]WARNING:py.warnings:/usr/local/lib/python3.10/dist-packages/moviepy/video/io/ffmpeg_reader.py:123: UserWarning: Warning: in file /content/drive/MyDrive/siwake/video/takahiro (4) (5).MTS, 6220800 bytes wanted but 0 bytes read,at frame 286/453, at time 4.77/7.55 sec. Using the last valid frame instead.\n",
            "  warnings.warn(\"Warning: in file %s, \"%(self.filename)+\n",
            "\n",
            "WARNING:py.warnings:/usr/local/lib/python3.10/dist-packages/moviepy/video/io/ffmpeg_reader.py:123: UserWarning: Warning: in file /content/drive/MyDrive/siwake/video/takahiro (4) (5).MTS, 6220800 bytes wanted but 0 bytes read,at frame 287/453, at time 4.79/7.55 sec. Using the last valid frame instead.\n",
            "  warnings.warn(\"Warning: in file %s, \"%(self.filename)+\n",
            "\n",
            "WARNING:py.warnings:/usr/local/lib/python3.10/dist-packages/moviepy/video/io/ffmpeg_reader.py:123: UserWarning: Warning: in file /content/drive/MyDrive/siwake/video/takahiro (4) (5).MTS, 6220800 bytes wanted but 0 bytes read,at frame 288/453, at time 4.80/7.55 sec. Using the last valid frame instead.\n",
            "  warnings.warn(\"Warning: in file %s, \"%(self.filename)+\n",
            "\n",
            "t:  69%|██████▉   | 290/420 [00:39<00:19,  6.84it/s, now=None]WARNING:py.warnings:/usr/local/lib/python3.10/dist-packages/moviepy/video/io/ffmpeg_reader.py:123: UserWarning: Warning: in file /content/drive/MyDrive/siwake/video/takahiro (4) (5).MTS, 6220800 bytes wanted but 0 bytes read,at frame 289/453, at time 4.82/7.55 sec. Using the last valid frame instead.\n",
            "  warnings.warn(\"Warning: in file %s, \"%(self.filename)+\n",
            "\n",
            "t:  69%|██████▉   | 291/420 [00:39<00:18,  6.90it/s, now=None]WARNING:py.warnings:/usr/local/lib/python3.10/dist-packages/moviepy/video/io/ffmpeg_reader.py:123: UserWarning: Warning: in file /content/drive/MyDrive/siwake/video/takahiro (4) (5).MTS, 6220800 bytes wanted but 0 bytes read,at frame 290/453, at time 4.84/7.55 sec. Using the last valid frame instead.\n",
            "  warnings.warn(\"Warning: in file %s, \"%(self.filename)+\n",
            "\n",
            "WARNING:py.warnings:/usr/local/lib/python3.10/dist-packages/moviepy/video/io/ffmpeg_reader.py:123: UserWarning: Warning: in file /content/drive/MyDrive/siwake/video/takahiro (4) (5).MTS, 6220800 bytes wanted but 0 bytes read,at frame 291/453, at time 4.85/7.55 sec. Using the last valid frame instead.\n",
            "  warnings.warn(\"Warning: in file %s, \"%(self.filename)+\n",
            "\n",
            "WARNING:py.warnings:/usr/local/lib/python3.10/dist-packages/moviepy/video/io/ffmpeg_reader.py:123: UserWarning: Warning: in file /content/drive/MyDrive/siwake/video/takahiro (4) (5).MTS, 6220800 bytes wanted but 0 bytes read,at frame 292/453, at time 4.87/7.55 sec. Using the last valid frame instead.\n",
            "  warnings.warn(\"Warning: in file %s, \"%(self.filename)+\n",
            "\n",
            "t:  70%|███████   | 294/420 [00:40<00:15,  8.02it/s, now=None]WARNING:py.warnings:/usr/local/lib/python3.10/dist-packages/moviepy/video/io/ffmpeg_reader.py:123: UserWarning: Warning: in file /content/drive/MyDrive/siwake/video/takahiro (4) (5).MTS, 6220800 bytes wanted but 0 bytes read,at frame 293/453, at time 4.89/7.55 sec. Using the last valid frame instead.\n",
            "  warnings.warn(\"Warning: in file %s, \"%(self.filename)+\n",
            "\n",
            "WARNING:py.warnings:/usr/local/lib/python3.10/dist-packages/moviepy/video/io/ffmpeg_reader.py:123: UserWarning: Warning: in file /content/drive/MyDrive/siwake/video/takahiro (4) (5).MTS, 6220800 bytes wanted but 0 bytes read,at frame 294/453, at time 4.90/7.55 sec. Using the last valid frame instead.\n",
            "  warnings.warn(\"Warning: in file %s, \"%(self.filename)+\n",
            "\n",
            "t:  70%|███████   | 296/420 [00:40<00:12,  9.59it/s, now=None]WARNING:py.warnings:/usr/local/lib/python3.10/dist-packages/moviepy/video/io/ffmpeg_reader.py:123: UserWarning: Warning: in file /content/drive/MyDrive/siwake/video/takahiro (4) (5).MTS, 6220800 bytes wanted but 0 bytes read,at frame 295/453, at time 4.92/7.55 sec. Using the last valid frame instead.\n",
            "  warnings.warn(\"Warning: in file %s, \"%(self.filename)+\n",
            "\n",
            "WARNING:py.warnings:/usr/local/lib/python3.10/dist-packages/moviepy/video/io/ffmpeg_reader.py:123: UserWarning: Warning: in file /content/drive/MyDrive/siwake/video/takahiro (4) (5).MTS, 6220800 bytes wanted but 0 bytes read,at frame 296/453, at time 4.94/7.55 sec. Using the last valid frame instead.\n",
            "  warnings.warn(\"Warning: in file %s, \"%(self.filename)+\n",
            "\n",
            "t:  71%|███████   | 298/420 [00:40<00:13,  8.78it/s, now=None]WARNING:py.warnings:/usr/local/lib/python3.10/dist-packages/moviepy/video/io/ffmpeg_reader.py:123: UserWarning: Warning: in file /content/drive/MyDrive/siwake/video/takahiro (4) (5).MTS, 6220800 bytes wanted but 0 bytes read,at frame 297/453, at time 4.95/7.55 sec. Using the last valid frame instead.\n",
            "  warnings.warn(\"Warning: in file %s, \"%(self.filename)+\n",
            "\n",
            "WARNING:py.warnings:/usr/local/lib/python3.10/dist-packages/moviepy/video/io/ffmpeg_reader.py:123: UserWarning: Warning: in file /content/drive/MyDrive/siwake/video/takahiro (4) (5).MTS, 6220800 bytes wanted but 0 bytes read,at frame 298/453, at time 4.97/7.55 sec. Using the last valid frame instead.\n",
            "  warnings.warn(\"Warning: in file %s, \"%(self.filename)+\n",
            "\n",
            "t:  71%|███████▏  | 300/420 [00:40<00:12,  9.58it/s, now=None]WARNING:py.warnings:/usr/local/lib/python3.10/dist-packages/moviepy/video/io/ffmpeg_reader.py:123: UserWarning: Warning: in file /content/drive/MyDrive/siwake/video/takahiro (4) (5).MTS, 6220800 bytes wanted but 0 bytes read,at frame 299/453, at time 4.99/7.55 sec. Using the last valid frame instead.\n",
            "  warnings.warn(\"Warning: in file %s, \"%(self.filename)+\n",
            "\n",
            "WARNING:py.warnings:/usr/local/lib/python3.10/dist-packages/moviepy/video/io/ffmpeg_reader.py:123: UserWarning: Warning: in file /content/drive/MyDrive/siwake/video/takahiro (4) (5).MTS, 6220800 bytes wanted but 0 bytes read,at frame 300/453, at time 5.01/7.55 sec. Using the last valid frame instead.\n",
            "  warnings.warn(\"Warning: in file %s, \"%(self.filename)+\n",
            "\n",
            "t:  72%|███████▏  | 302/420 [00:41<00:13,  8.97it/s, now=None]WARNING:py.warnings:/usr/local/lib/python3.10/dist-packages/moviepy/video/io/ffmpeg_reader.py:123: UserWarning: Warning: in file /content/drive/MyDrive/siwake/video/takahiro (4) (5).MTS, 6220800 bytes wanted but 0 bytes read,at frame 301/453, at time 5.02/7.55 sec. Using the last valid frame instead.\n",
            "  warnings.warn(\"Warning: in file %s, \"%(self.filename)+\n",
            "\n",
            "WARNING:py.warnings:/usr/local/lib/python3.10/dist-packages/moviepy/video/io/ffmpeg_reader.py:123: UserWarning: Warning: in file /content/drive/MyDrive/siwake/video/takahiro (4) (5).MTS, 6220800 bytes wanted but 0 bytes read,at frame 302/453, at time 5.04/7.55 sec. Using the last valid frame instead.\n",
            "  warnings.warn(\"Warning: in file %s, \"%(self.filename)+\n",
            "\n",
            "t:  72%|███████▏  | 304/420 [00:41<00:11,  9.72it/s, now=None]WARNING:py.warnings:/usr/local/lib/python3.10/dist-packages/moviepy/video/io/ffmpeg_reader.py:123: UserWarning: Warning: in file /content/drive/MyDrive/siwake/video/takahiro (4) (5).MTS, 6220800 bytes wanted but 0 bytes read,at frame 303/453, at time 5.06/7.55 sec. Using the last valid frame instead.\n",
            "  warnings.warn(\"Warning: in file %s, \"%(self.filename)+\n",
            "\n",
            "WARNING:py.warnings:/usr/local/lib/python3.10/dist-packages/moviepy/video/io/ffmpeg_reader.py:123: UserWarning: Warning: in file /content/drive/MyDrive/siwake/video/takahiro (4) (5).MTS, 6220800 bytes wanted but 0 bytes read,at frame 304/453, at time 5.07/7.55 sec. Using the last valid frame instead.\n",
            "  warnings.warn(\"Warning: in file %s, \"%(self.filename)+\n",
            "\n",
            "t:  73%|███████▎  | 306/420 [00:41<00:11,  9.55it/s, now=None]WARNING:py.warnings:/usr/local/lib/python3.10/dist-packages/moviepy/video/io/ffmpeg_reader.py:123: UserWarning: Warning: in file /content/drive/MyDrive/siwake/video/takahiro (4) (5).MTS, 6220800 bytes wanted but 0 bytes read,at frame 305/453, at time 5.09/7.55 sec. Using the last valid frame instead.\n",
            "  warnings.warn(\"Warning: in file %s, \"%(self.filename)+\n",
            "\n",
            "WARNING:py.warnings:/usr/local/lib/python3.10/dist-packages/moviepy/video/io/ffmpeg_reader.py:123: UserWarning: Warning: in file /content/drive/MyDrive/siwake/video/takahiro (4) (5).MTS, 6220800 bytes wanted but 0 bytes read,at frame 306/453, at time 5.11/7.55 sec. Using the last valid frame instead.\n",
            "  warnings.warn(\"Warning: in file %s, \"%(self.filename)+\n",
            "\n",
            "t:  73%|███████▎  | 308/420 [00:41<00:10, 10.51it/s, now=None]WARNING:py.warnings:/usr/local/lib/python3.10/dist-packages/moviepy/video/io/ffmpeg_reader.py:123: UserWarning: Warning: in file /content/drive/MyDrive/siwake/video/takahiro (4) (5).MTS, 6220800 bytes wanted but 0 bytes read,at frame 307/453, at time 5.12/7.55 sec. Using the last valid frame instead.\n",
            "  warnings.warn(\"Warning: in file %s, \"%(self.filename)+\n",
            "\n",
            "WARNING:py.warnings:/usr/local/lib/python3.10/dist-packages/moviepy/video/io/ffmpeg_reader.py:123: UserWarning: Warning: in file /content/drive/MyDrive/siwake/video/takahiro (4) (5).MTS, 6220800 bytes wanted but 0 bytes read,at frame 308/453, at time 5.14/7.55 sec. Using the last valid frame instead.\n",
            "  warnings.warn(\"Warning: in file %s, \"%(self.filename)+\n",
            "\n",
            "t:  74%|███████▍  | 310/420 [00:41<00:11,  9.76it/s, now=None]WARNING:py.warnings:/usr/local/lib/python3.10/dist-packages/moviepy/video/io/ffmpeg_reader.py:123: UserWarning: Warning: in file /content/drive/MyDrive/siwake/video/takahiro (4) (5).MTS, 6220800 bytes wanted but 0 bytes read,at frame 309/453, at time 5.16/7.55 sec. Using the last valid frame instead.\n",
            "  warnings.warn(\"Warning: in file %s, \"%(self.filename)+\n",
            "\n",
            "WARNING:py.warnings:/usr/local/lib/python3.10/dist-packages/moviepy/video/io/ffmpeg_reader.py:123: UserWarning: Warning: in file /content/drive/MyDrive/siwake/video/takahiro (4) (5).MTS, 6220800 bytes wanted but 0 bytes read,at frame 310/453, at time 5.17/7.55 sec. Using the last valid frame instead.\n",
            "  warnings.warn(\"Warning: in file %s, \"%(self.filename)+\n",
            "\n",
            "t:  74%|███████▍  | 312/420 [00:41<00:09, 10.86it/s, now=None]WARNING:py.warnings:/usr/local/lib/python3.10/dist-packages/moviepy/video/io/ffmpeg_reader.py:123: UserWarning: Warning: in file /content/drive/MyDrive/siwake/video/takahiro (4) (5).MTS, 6220800 bytes wanted but 0 bytes read,at frame 311/453, at time 5.19/7.55 sec. Using the last valid frame instead.\n",
            "  warnings.warn(\"Warning: in file %s, \"%(self.filename)+\n",
            "\n",
            "WARNING:py.warnings:/usr/local/lib/python3.10/dist-packages/moviepy/video/io/ffmpeg_reader.py:123: UserWarning: Warning: in file /content/drive/MyDrive/siwake/video/takahiro (4) (5).MTS, 6220800 bytes wanted but 0 bytes read,at frame 312/453, at time 5.21/7.55 sec. Using the last valid frame instead.\n",
            "  warnings.warn(\"Warning: in file %s, \"%(self.filename)+\n",
            "\n",
            "t:  75%|███████▍  | 314/420 [00:42<00:10, 10.25it/s, now=None]WARNING:py.warnings:/usr/local/lib/python3.10/dist-packages/moviepy/video/io/ffmpeg_reader.py:123: UserWarning: Warning: in file /content/drive/MyDrive/siwake/video/takahiro (4) (5).MTS, 6220800 bytes wanted but 0 bytes read,at frame 313/453, at time 5.22/7.55 sec. Using the last valid frame instead.\n",
            "  warnings.warn(\"Warning: in file %s, \"%(self.filename)+\n",
            "\n",
            "WARNING:py.warnings:/usr/local/lib/python3.10/dist-packages/moviepy/video/io/ffmpeg_reader.py:123: UserWarning: Warning: in file /content/drive/MyDrive/siwake/video/takahiro (4) (5).MTS, 6220800 bytes wanted but 0 bytes read,at frame 314/453, at time 5.24/7.55 sec. Using the last valid frame instead.\n",
            "  warnings.warn(\"Warning: in file %s, \"%(self.filename)+\n",
            "\n",
            "t:  75%|███████▌  | 316/420 [00:42<00:09, 11.31it/s, now=None]WARNING:py.warnings:/usr/local/lib/python3.10/dist-packages/moviepy/video/io/ffmpeg_reader.py:123: UserWarning: Warning: in file /content/drive/MyDrive/siwake/video/takahiro (4) (5).MTS, 6220800 bytes wanted but 0 bytes read,at frame 315/453, at time 5.26/7.55 sec. Using the last valid frame instead.\n",
            "  warnings.warn(\"Warning: in file %s, \"%(self.filename)+\n",
            "\n",
            "WARNING:py.warnings:/usr/local/lib/python3.10/dist-packages/moviepy/video/io/ffmpeg_reader.py:123: UserWarning: Warning: in file /content/drive/MyDrive/siwake/video/takahiro (4) (5).MTS, 6220800 bytes wanted but 0 bytes read,at frame 316/453, at time 5.27/7.55 sec. Using the last valid frame instead.\n",
            "  warnings.warn(\"Warning: in file %s, \"%(self.filename)+\n",
            "\n",
            "t:  76%|███████▌  | 318/420 [00:42<00:10, 10.06it/s, now=None]WARNING:py.warnings:/usr/local/lib/python3.10/dist-packages/moviepy/video/io/ffmpeg_reader.py:123: UserWarning: Warning: in file /content/drive/MyDrive/siwake/video/takahiro (4) (5).MTS, 6220800 bytes wanted but 0 bytes read,at frame 317/453, at time 5.29/7.55 sec. Using the last valid frame instead.\n",
            "  warnings.warn(\"Warning: in file %s, \"%(self.filename)+\n",
            "\n",
            "WARNING:py.warnings:/usr/local/lib/python3.10/dist-packages/moviepy/video/io/ffmpeg_reader.py:123: UserWarning: Warning: in file /content/drive/MyDrive/siwake/video/takahiro (4) (5).MTS, 6220800 bytes wanted but 0 bytes read,at frame 318/453, at time 5.31/7.55 sec. Using the last valid frame instead.\n",
            "  warnings.warn(\"Warning: in file %s, \"%(self.filename)+\n",
            "\n",
            "t:  76%|███████▌  | 320/420 [00:42<00:08, 11.30it/s, now=None]WARNING:py.warnings:/usr/local/lib/python3.10/dist-packages/moviepy/video/io/ffmpeg_reader.py:123: UserWarning: Warning: in file /content/drive/MyDrive/siwake/video/takahiro (4) (5).MTS, 6220800 bytes wanted but 0 bytes read,at frame 319/453, at time 5.32/7.55 sec. Using the last valid frame instead.\n",
            "  warnings.warn(\"Warning: in file %s, \"%(self.filename)+\n",
            "\n",
            "WARNING:py.warnings:/usr/local/lib/python3.10/dist-packages/moviepy/video/io/ffmpeg_reader.py:123: UserWarning: Warning: in file /content/drive/MyDrive/siwake/video/takahiro (4) (5).MTS, 6220800 bytes wanted but 0 bytes read,at frame 320/453, at time 5.34/7.55 sec. Using the last valid frame instead.\n",
            "  warnings.warn(\"Warning: in file %s, \"%(self.filename)+\n",
            "\n",
            "t:  77%|███████▋  | 322/420 [00:42<00:09, 10.62it/s, now=None]WARNING:py.warnings:/usr/local/lib/python3.10/dist-packages/moviepy/video/io/ffmpeg_reader.py:123: UserWarning: Warning: in file /content/drive/MyDrive/siwake/video/takahiro (4) (5).MTS, 6220800 bytes wanted but 0 bytes read,at frame 321/453, at time 5.36/7.55 sec. Using the last valid frame instead.\n",
            "  warnings.warn(\"Warning: in file %s, \"%(self.filename)+\n",
            "\n",
            "WARNING:py.warnings:/usr/local/lib/python3.10/dist-packages/moviepy/video/io/ffmpeg_reader.py:123: UserWarning: Warning: in file /content/drive/MyDrive/siwake/video/takahiro (4) (5).MTS, 6220800 bytes wanted but 0 bytes read,at frame 322/453, at time 5.37/7.55 sec. Using the last valid frame instead.\n",
            "  warnings.warn(\"Warning: in file %s, \"%(self.filename)+\n",
            "\n",
            "t:  77%|███████▋  | 324/420 [00:43<00:08, 11.91it/s, now=None]WARNING:py.warnings:/usr/local/lib/python3.10/dist-packages/moviepy/video/io/ffmpeg_reader.py:123: UserWarning: Warning: in file /content/drive/MyDrive/siwake/video/takahiro (4) (5).MTS, 6220800 bytes wanted but 0 bytes read,at frame 323/453, at time 5.39/7.55 sec. Using the last valid frame instead.\n",
            "  warnings.warn(\"Warning: in file %s, \"%(self.filename)+\n",
            "\n",
            "WARNING:py.warnings:/usr/local/lib/python3.10/dist-packages/moviepy/video/io/ffmpeg_reader.py:123: UserWarning: Warning: in file /content/drive/MyDrive/siwake/video/takahiro (4) (5).MTS, 6220800 bytes wanted but 0 bytes read,at frame 324/453, at time 5.41/7.55 sec. Using the last valid frame instead.\n",
            "  warnings.warn(\"Warning: in file %s, \"%(self.filename)+\n",
            "\n",
            "t:  78%|███████▊  | 326/420 [00:43<00:07, 12.75it/s, now=None]WARNING:py.warnings:/usr/local/lib/python3.10/dist-packages/moviepy/video/io/ffmpeg_reader.py:123: UserWarning: Warning: in file /content/drive/MyDrive/siwake/video/takahiro (4) (5).MTS, 6220800 bytes wanted but 0 bytes read,at frame 325/453, at time 5.42/7.55 sec. Using the last valid frame instead.\n",
            "  warnings.warn(\"Warning: in file %s, \"%(self.filename)+\n",
            "\n",
            "WARNING:py.warnings:/usr/local/lib/python3.10/dist-packages/moviepy/video/io/ffmpeg_reader.py:123: UserWarning: Warning: in file /content/drive/MyDrive/siwake/video/takahiro (4) (5).MTS, 6220800 bytes wanted but 0 bytes read,at frame 326/453, at time 5.44/7.55 sec. Using the last valid frame instead.\n",
            "  warnings.warn(\"Warning: in file %s, \"%(self.filename)+\n",
            "\n",
            "WARNING:py.warnings:/usr/local/lib/python3.10/dist-packages/moviepy/video/io/ffmpeg_reader.py:123: UserWarning: Warning: in file /content/drive/MyDrive/siwake/video/takahiro (4) (5).MTS, 6220800 bytes wanted but 0 bytes read,at frame 327/453, at time 5.46/7.55 sec. Using the last valid frame instead.\n",
            "  warnings.warn(\"Warning: in file %s, \"%(self.filename)+\n",
            "\n",
            "t:  78%|███████▊  | 329/420 [00:43<00:06, 15.01it/s, now=None]WARNING:py.warnings:/usr/local/lib/python3.10/dist-packages/moviepy/video/io/ffmpeg_reader.py:123: UserWarning: Warning: in file /content/drive/MyDrive/siwake/video/takahiro (4) (5).MTS, 6220800 bytes wanted but 0 bytes read,at frame 328/453, at time 5.47/7.55 sec. Using the last valid frame instead.\n",
            "  warnings.warn(\"Warning: in file %s, \"%(self.filename)+\n",
            "\n",
            "WARNING:py.warnings:/usr/local/lib/python3.10/dist-packages/moviepy/video/io/ffmpeg_reader.py:123: UserWarning: Warning: in file /content/drive/MyDrive/siwake/video/takahiro (4) (5).MTS, 6220800 bytes wanted but 0 bytes read,at frame 329/453, at time 5.49/7.55 sec. Using the last valid frame instead.\n",
            "  warnings.warn(\"Warning: in file %s, \"%(self.filename)+\n",
            "\n",
            "t:  79%|███████▉  | 331/420 [00:43<00:06, 14.19it/s, now=None]WARNING:py.warnings:/usr/local/lib/python3.10/dist-packages/moviepy/video/io/ffmpeg_reader.py:123: UserWarning: Warning: in file /content/drive/MyDrive/siwake/video/takahiro (4) (5).MTS, 6220800 bytes wanted but 0 bytes read,at frame 330/453, at time 5.51/7.55 sec. Using the last valid frame instead.\n",
            "  warnings.warn(\"Warning: in file %s, \"%(self.filename)+\n",
            "\n",
            "WARNING:py.warnings:/usr/local/lib/python3.10/dist-packages/moviepy/video/io/ffmpeg_reader.py:123: UserWarning: Warning: in file /content/drive/MyDrive/siwake/video/takahiro (4) (5).MTS, 6220800 bytes wanted but 0 bytes read,at frame 331/453, at time 5.52/7.55 sec. Using the last valid frame instead.\n",
            "  warnings.warn(\"Warning: in file %s, \"%(self.filename)+\n",
            "\n",
            "t:  79%|███████▉  | 333/420 [00:43<00:05, 15.01it/s, now=None]WARNING:py.warnings:/usr/local/lib/python3.10/dist-packages/moviepy/video/io/ffmpeg_reader.py:123: UserWarning: Warning: in file /content/drive/MyDrive/siwake/video/takahiro (4) (5).MTS, 6220800 bytes wanted but 0 bytes read,at frame 332/453, at time 5.54/7.55 sec. Using the last valid frame instead.\n",
            "  warnings.warn(\"Warning: in file %s, \"%(self.filename)+\n",
            "\n",
            "WARNING:py.warnings:/usr/local/lib/python3.10/dist-packages/moviepy/video/io/ffmpeg_reader.py:123: UserWarning: Warning: in file /content/drive/MyDrive/siwake/video/takahiro (4) (5).MTS, 6220800 bytes wanted but 0 bytes read,at frame 333/453, at time 5.56/7.55 sec. Using the last valid frame instead.\n",
            "  warnings.warn(\"Warning: in file %s, \"%(self.filename)+\n",
            "\n",
            "t:  80%|███████▉  | 335/420 [00:43<00:05, 14.59it/s, now=None]WARNING:py.warnings:/usr/local/lib/python3.10/dist-packages/moviepy/video/io/ffmpeg_reader.py:123: UserWarning: Warning: in file /content/drive/MyDrive/siwake/video/takahiro (4) (5).MTS, 6220800 bytes wanted but 0 bytes read,at frame 334/453, at time 5.57/7.55 sec. Using the last valid frame instead.\n",
            "  warnings.warn(\"Warning: in file %s, \"%(self.filename)+\n",
            "\n",
            "WARNING:py.warnings:/usr/local/lib/python3.10/dist-packages/moviepy/video/io/ffmpeg_reader.py:123: UserWarning: Warning: in file /content/drive/MyDrive/siwake/video/takahiro (4) (5).MTS, 6220800 bytes wanted but 0 bytes read,at frame 335/453, at time 5.59/7.55 sec. Using the last valid frame instead.\n",
            "  warnings.warn(\"Warning: in file %s, \"%(self.filename)+\n",
            "\n",
            "t:  80%|████████  | 337/420 [00:43<00:05, 15.63it/s, now=None]WARNING:py.warnings:/usr/local/lib/python3.10/dist-packages/moviepy/video/io/ffmpeg_reader.py:123: UserWarning: Warning: in file /content/drive/MyDrive/siwake/video/takahiro (4) (5).MTS, 6220800 bytes wanted but 0 bytes read,at frame 336/453, at time 5.61/7.55 sec. Using the last valid frame instead.\n",
            "  warnings.warn(\"Warning: in file %s, \"%(self.filename)+\n",
            "\n",
            "WARNING:py.warnings:/usr/local/lib/python3.10/dist-packages/moviepy/video/io/ffmpeg_reader.py:123: UserWarning: Warning: in file /content/drive/MyDrive/siwake/video/takahiro (4) (5).MTS, 6220800 bytes wanted but 0 bytes read,at frame 337/453, at time 5.62/7.55 sec. Using the last valid frame instead.\n",
            "  warnings.warn(\"Warning: in file %s, \"%(self.filename)+\n",
            "\n",
            "t:  81%|████████  | 339/420 [00:44<00:05, 13.68it/s, now=None]WARNING:py.warnings:/usr/local/lib/python3.10/dist-packages/moviepy/video/io/ffmpeg_reader.py:123: UserWarning: Warning: in file /content/drive/MyDrive/siwake/video/takahiro (4) (5).MTS, 6220800 bytes wanted but 0 bytes read,at frame 338/453, at time 5.64/7.55 sec. Using the last valid frame instead.\n",
            "  warnings.warn(\"Warning: in file %s, \"%(self.filename)+\n",
            "\n",
            "WARNING:py.warnings:/usr/local/lib/python3.10/dist-packages/moviepy/video/io/ffmpeg_reader.py:123: UserWarning: Warning: in file /content/drive/MyDrive/siwake/video/takahiro (4) (5).MTS, 6220800 bytes wanted but 0 bytes read,at frame 339/453, at time 5.66/7.55 sec. Using the last valid frame instead.\n",
            "  warnings.warn(\"Warning: in file %s, \"%(self.filename)+\n",
            "\n",
            "WARNING:py.warnings:/usr/local/lib/python3.10/dist-packages/moviepy/video/io/ffmpeg_reader.py:123: UserWarning: Warning: in file /content/drive/MyDrive/siwake/video/takahiro (4) (5).MTS, 6220800 bytes wanted but 0 bytes read,at frame 340/453, at time 5.67/7.55 sec. Using the last valid frame instead.\n",
            "  warnings.warn(\"Warning: in file %s, \"%(self.filename)+\n",
            "\n",
            "t:  81%|████████▏ | 342/420 [00:44<00:05, 14.83it/s, now=None]WARNING:py.warnings:/usr/local/lib/python3.10/dist-packages/moviepy/video/io/ffmpeg_reader.py:123: UserWarning: Warning: in file /content/drive/MyDrive/siwake/video/takahiro (4) (5).MTS, 6220800 bytes wanted but 0 bytes read,at frame 341/453, at time 5.69/7.55 sec. Using the last valid frame instead.\n",
            "  warnings.warn(\"Warning: in file %s, \"%(self.filename)+\n",
            "\n",
            "WARNING:py.warnings:/usr/local/lib/python3.10/dist-packages/moviepy/video/io/ffmpeg_reader.py:123: UserWarning: Warning: in file /content/drive/MyDrive/siwake/video/takahiro (4) (5).MTS, 6220800 bytes wanted but 0 bytes read,at frame 342/453, at time 5.71/7.55 sec. Using the last valid frame instead.\n",
            "  warnings.warn(\"Warning: in file %s, \"%(self.filename)+\n",
            "\n",
            "t:  82%|████████▏ | 344/420 [00:44<00:04, 15.50it/s, now=None]WARNING:py.warnings:/usr/local/lib/python3.10/dist-packages/moviepy/video/io/ffmpeg_reader.py:123: UserWarning: Warning: in file /content/drive/MyDrive/siwake/video/takahiro (4) (5).MTS, 6220800 bytes wanted but 0 bytes read,at frame 343/453, at time 5.72/7.55 sec. Using the last valid frame instead.\n",
            "  warnings.warn(\"Warning: in file %s, \"%(self.filename)+\n",
            "\n",
            "WARNING:py.warnings:/usr/local/lib/python3.10/dist-packages/moviepy/video/io/ffmpeg_reader.py:123: UserWarning: Warning: in file /content/drive/MyDrive/siwake/video/takahiro (4) (5).MTS, 6220800 bytes wanted but 0 bytes read,at frame 344/453, at time 5.74/7.55 sec. Using the last valid frame instead.\n",
            "  warnings.warn(\"Warning: in file %s, \"%(self.filename)+\n",
            "\n",
            "t:  82%|████████▏ | 346/420 [00:44<00:05, 14.80it/s, now=None]WARNING:py.warnings:/usr/local/lib/python3.10/dist-packages/moviepy/video/io/ffmpeg_reader.py:123: UserWarning: Warning: in file /content/drive/MyDrive/siwake/video/takahiro (4) (5).MTS, 6220800 bytes wanted but 0 bytes read,at frame 345/453, at time 5.76/7.55 sec. Using the last valid frame instead.\n",
            "  warnings.warn(\"Warning: in file %s, \"%(self.filename)+\n",
            "\n",
            "WARNING:py.warnings:/usr/local/lib/python3.10/dist-packages/moviepy/video/io/ffmpeg_reader.py:123: UserWarning: Warning: in file /content/drive/MyDrive/siwake/video/takahiro (4) (5).MTS, 6220800 bytes wanted but 0 bytes read,at frame 346/453, at time 5.77/7.55 sec. Using the last valid frame instead.\n",
            "  warnings.warn(\"Warning: in file %s, \"%(self.filename)+\n",
            "\n",
            "WARNING:py.warnings:/usr/local/lib/python3.10/dist-packages/moviepy/video/io/ffmpeg_reader.py:123: UserWarning: Warning: in file /content/drive/MyDrive/siwake/video/takahiro (4) (5).MTS, 6220800 bytes wanted but 0 bytes read,at frame 347/453, at time 5.79/7.55 sec. Using the last valid frame instead.\n",
            "  warnings.warn(\"Warning: in file %s, \"%(self.filename)+\n",
            "\n",
            "t:  83%|████████▎ | 349/420 [00:44<00:04, 16.06it/s, now=None]WARNING:py.warnings:/usr/local/lib/python3.10/dist-packages/moviepy/video/io/ffmpeg_reader.py:123: UserWarning: Warning: in file /content/drive/MyDrive/siwake/video/takahiro (4) (5).MTS, 6220800 bytes wanted but 0 bytes read,at frame 348/453, at time 5.81/7.55 sec. Using the last valid frame instead.\n",
            "  warnings.warn(\"Warning: in file %s, \"%(self.filename)+\n",
            "\n",
            "WARNING:py.warnings:/usr/local/lib/python3.10/dist-packages/moviepy/video/io/ffmpeg_reader.py:123: UserWarning: Warning: in file /content/drive/MyDrive/siwake/video/takahiro (4) (5).MTS, 6220800 bytes wanted but 0 bytes read,at frame 349/453, at time 5.82/7.55 sec. Using the last valid frame instead.\n",
            "  warnings.warn(\"Warning: in file %s, \"%(self.filename)+\n",
            "\n",
            "t:  84%|████████▎ | 351/420 [00:44<00:04, 14.64it/s, now=None]WARNING:py.warnings:/usr/local/lib/python3.10/dist-packages/moviepy/video/io/ffmpeg_reader.py:123: UserWarning: Warning: in file /content/drive/MyDrive/siwake/video/takahiro (4) (5).MTS, 6220800 bytes wanted but 0 bytes read,at frame 350/453, at time 5.84/7.55 sec. Using the last valid frame instead.\n",
            "  warnings.warn(\"Warning: in file %s, \"%(self.filename)+\n",
            "\n",
            "WARNING:py.warnings:/usr/local/lib/python3.10/dist-packages/moviepy/video/io/ffmpeg_reader.py:123: UserWarning: Warning: in file /content/drive/MyDrive/siwake/video/takahiro (4) (5).MTS, 6220800 bytes wanted but 0 bytes read,at frame 351/453, at time 5.86/7.55 sec. Using the last valid frame instead.\n",
            "  warnings.warn(\"Warning: in file %s, \"%(self.filename)+\n",
            "\n",
            "WARNING:py.warnings:/usr/local/lib/python3.10/dist-packages/moviepy/video/io/ffmpeg_reader.py:123: UserWarning: Warning: in file /content/drive/MyDrive/siwake/video/takahiro (4) (5).MTS, 6220800 bytes wanted but 0 bytes read,at frame 352/453, at time 5.87/7.55 sec. Using the last valid frame instead.\n",
            "  warnings.warn(\"Warning: in file %s, \"%(self.filename)+\n",
            "\n",
            "t:  84%|████████▍ | 354/420 [00:44<00:04, 14.74it/s, now=None]WARNING:py.warnings:/usr/local/lib/python3.10/dist-packages/moviepy/video/io/ffmpeg_reader.py:123: UserWarning: Warning: in file /content/drive/MyDrive/siwake/video/takahiro (4) (5).MTS, 6220800 bytes wanted but 0 bytes read,at frame 353/453, at time 5.89/7.55 sec. Using the last valid frame instead.\n",
            "  warnings.warn(\"Warning: in file %s, \"%(self.filename)+\n",
            "\n",
            "WARNING:py.warnings:/usr/local/lib/python3.10/dist-packages/moviepy/video/io/ffmpeg_reader.py:123: UserWarning: Warning: in file /content/drive/MyDrive/siwake/video/takahiro (4) (5).MTS, 6220800 bytes wanted but 0 bytes read,at frame 354/453, at time 5.91/7.55 sec. Using the last valid frame instead.\n",
            "  warnings.warn(\"Warning: in file %s, \"%(self.filename)+\n",
            "\n",
            "t:  85%|████████▍ | 356/420 [00:45<00:04, 15.53it/s, now=None]WARNING:py.warnings:/usr/local/lib/python3.10/dist-packages/moviepy/video/io/ffmpeg_reader.py:123: UserWarning: Warning: in file /content/drive/MyDrive/siwake/video/takahiro (4) (5).MTS, 6220800 bytes wanted but 0 bytes read,at frame 355/453, at time 5.92/7.55 sec. Using the last valid frame instead.\n",
            "  warnings.warn(\"Warning: in file %s, \"%(self.filename)+\n",
            "\n",
            "WARNING:py.warnings:/usr/local/lib/python3.10/dist-packages/moviepy/video/io/ffmpeg_reader.py:123: UserWarning: Warning: in file /content/drive/MyDrive/siwake/video/takahiro (4) (5).MTS, 6220800 bytes wanted but 0 bytes read,at frame 356/453, at time 5.94/7.55 sec. Using the last valid frame instead.\n",
            "  warnings.warn(\"Warning: in file %s, \"%(self.filename)+\n",
            "\n",
            "t:  85%|████████▌ | 358/420 [00:45<00:04, 15.00it/s, now=None]WARNING:py.warnings:/usr/local/lib/python3.10/dist-packages/moviepy/video/io/ffmpeg_reader.py:123: UserWarning: Warning: in file /content/drive/MyDrive/siwake/video/takahiro (4) (5).MTS, 6220800 bytes wanted but 0 bytes read,at frame 357/453, at time 5.96/7.55 sec. Using the last valid frame instead.\n",
            "  warnings.warn(\"Warning: in file %s, \"%(self.filename)+\n",
            "\n",
            "WARNING:py.warnings:/usr/local/lib/python3.10/dist-packages/moviepy/video/io/ffmpeg_reader.py:123: UserWarning: Warning: in file /content/drive/MyDrive/siwake/video/takahiro (4) (5).MTS, 6220800 bytes wanted but 0 bytes read,at frame 358/453, at time 5.97/7.55 sec. Using the last valid frame instead.\n",
            "  warnings.warn(\"Warning: in file %s, \"%(self.filename)+\n",
            "\n",
            "t:  86%|████████▌ | 360/420 [00:45<00:03, 15.46it/s, now=None]WARNING:py.warnings:/usr/local/lib/python3.10/dist-packages/moviepy/video/io/ffmpeg_reader.py:123: UserWarning: Warning: in file /content/drive/MyDrive/siwake/video/takahiro (4) (5).MTS, 6220800 bytes wanted but 0 bytes read,at frame 359/453, at time 5.99/7.55 sec. Using the last valid frame instead.\n",
            "  warnings.warn(\"Warning: in file %s, \"%(self.filename)+\n",
            "\n",
            "WARNING:py.warnings:/usr/local/lib/python3.10/dist-packages/moviepy/video/io/ffmpeg_reader.py:123: UserWarning: Warning: in file /content/drive/MyDrive/siwake/video/takahiro (4) (5).MTS, 6220800 bytes wanted but 0 bytes read,at frame 360/453, at time 6.01/7.55 sec. Using the last valid frame instead.\n",
            "  warnings.warn(\"Warning: in file %s, \"%(self.filename)+\n",
            "\n",
            "t:  86%|████████▌ | 362/420 [00:45<00:03, 14.51it/s, now=None]WARNING:py.warnings:/usr/local/lib/python3.10/dist-packages/moviepy/video/io/ffmpeg_reader.py:123: UserWarning: Warning: in file /content/drive/MyDrive/siwake/video/takahiro (4) (5).MTS, 6220800 bytes wanted but 0 bytes read,at frame 361/453, at time 6.02/7.55 sec. Using the last valid frame instead.\n",
            "  warnings.warn(\"Warning: in file %s, \"%(self.filename)+\n",
            "\n",
            "WARNING:py.warnings:/usr/local/lib/python3.10/dist-packages/moviepy/video/io/ffmpeg_reader.py:123: UserWarning: Warning: in file /content/drive/MyDrive/siwake/video/takahiro (4) (5).MTS, 6220800 bytes wanted but 0 bytes read,at frame 362/453, at time 6.04/7.55 sec. Using the last valid frame instead.\n",
            "  warnings.warn(\"Warning: in file %s, \"%(self.filename)+\n",
            "\n",
            "WARNING:py.warnings:/usr/local/lib/python3.10/dist-packages/moviepy/video/io/ffmpeg_reader.py:123: UserWarning: Warning: in file /content/drive/MyDrive/siwake/video/takahiro (4) (5).MTS, 6220800 bytes wanted but 0 bytes read,at frame 363/453, at time 6.06/7.55 sec. Using the last valid frame instead.\n",
            "  warnings.warn(\"Warning: in file %s, \"%(self.filename)+\n",
            "\n",
            "t:  87%|████████▋ | 365/420 [00:45<00:03, 16.29it/s, now=None]WARNING:py.warnings:/usr/local/lib/python3.10/dist-packages/moviepy/video/io/ffmpeg_reader.py:123: UserWarning: Warning: in file /content/drive/MyDrive/siwake/video/takahiro (4) (5).MTS, 6220800 bytes wanted but 0 bytes read,at frame 364/453, at time 6.07/7.55 sec. Using the last valid frame instead.\n",
            "  warnings.warn(\"Warning: in file %s, \"%(self.filename)+\n",
            "\n",
            "WARNING:py.warnings:/usr/local/lib/python3.10/dist-packages/moviepy/video/io/ffmpeg_reader.py:123: UserWarning: Warning: in file /content/drive/MyDrive/siwake/video/takahiro (4) (5).MTS, 6220800 bytes wanted but 0 bytes read,at frame 365/453, at time 6.09/7.55 sec. Using the last valid frame instead.\n",
            "  warnings.warn(\"Warning: in file %s, \"%(self.filename)+\n",
            "\n",
            "t:  87%|████████▋ | 367/420 [00:45<00:03, 14.52it/s, now=None]WARNING:py.warnings:/usr/local/lib/python3.10/dist-packages/moviepy/video/io/ffmpeg_reader.py:123: UserWarning: Warning: in file /content/drive/MyDrive/siwake/video/takahiro (4) (5).MTS, 6220800 bytes wanted but 0 bytes read,at frame 366/453, at time 6.11/7.55 sec. Using the last valid frame instead.\n",
            "  warnings.warn(\"Warning: in file %s, \"%(self.filename)+\n",
            "\n",
            "WARNING:py.warnings:/usr/local/lib/python3.10/dist-packages/moviepy/video/io/ffmpeg_reader.py:123: UserWarning: Warning: in file /content/drive/MyDrive/siwake/video/takahiro (4) (5).MTS, 6220800 bytes wanted but 0 bytes read,at frame 367/453, at time 6.12/7.55 sec. Using the last valid frame instead.\n",
            "  warnings.warn(\"Warning: in file %s, \"%(self.filename)+\n",
            "\n",
            "WARNING:py.warnings:/usr/local/lib/python3.10/dist-packages/moviepy/video/io/ffmpeg_reader.py:123: UserWarning: Warning: in file /content/drive/MyDrive/siwake/video/takahiro (4) (5).MTS, 6220800 bytes wanted but 0 bytes read,at frame 368/453, at time 6.14/7.55 sec. Using the last valid frame instead.\n",
            "  warnings.warn(\"Warning: in file %s, \"%(self.filename)+\n",
            "\n",
            "t:  88%|████████▊ | 370/420 [00:46<00:03, 15.10it/s, now=None]WARNING:py.warnings:/usr/local/lib/python3.10/dist-packages/moviepy/video/io/ffmpeg_reader.py:123: UserWarning: Warning: in file /content/drive/MyDrive/siwake/video/takahiro (4) (5).MTS, 6220800 bytes wanted but 0 bytes read,at frame 369/453, at time 6.16/7.55 sec. Using the last valid frame instead.\n",
            "  warnings.warn(\"Warning: in file %s, \"%(self.filename)+\n",
            "\n",
            "WARNING:py.warnings:/usr/local/lib/python3.10/dist-packages/moviepy/video/io/ffmpeg_reader.py:123: UserWarning: Warning: in file /content/drive/MyDrive/siwake/video/takahiro (4) (5).MTS, 6220800 bytes wanted but 0 bytes read,at frame 370/453, at time 6.17/7.55 sec. Using the last valid frame instead.\n",
            "  warnings.warn(\"Warning: in file %s, \"%(self.filename)+\n",
            "\n",
            "t:  89%|████████▊ | 372/420 [00:46<00:03, 15.22it/s, now=None]WARNING:py.warnings:/usr/local/lib/python3.10/dist-packages/moviepy/video/io/ffmpeg_reader.py:123: UserWarning: Warning: in file /content/drive/MyDrive/siwake/video/takahiro (4) (5).MTS, 6220800 bytes wanted but 0 bytes read,at frame 371/453, at time 6.19/7.55 sec. Using the last valid frame instead.\n",
            "  warnings.warn(\"Warning: in file %s, \"%(self.filename)+\n",
            "\n",
            "WARNING:py.warnings:/usr/local/lib/python3.10/dist-packages/moviepy/video/io/ffmpeg_reader.py:123: UserWarning: Warning: in file /content/drive/MyDrive/siwake/video/takahiro (4) (5).MTS, 6220800 bytes wanted but 0 bytes read,at frame 372/453, at time 6.21/7.55 sec. Using the last valid frame instead.\n",
            "  warnings.warn(\"Warning: in file %s, \"%(self.filename)+\n",
            "\n",
            "t:  89%|████████▉ | 374/420 [00:46<00:03, 14.81it/s, now=None]WARNING:py.warnings:/usr/local/lib/python3.10/dist-packages/moviepy/video/io/ffmpeg_reader.py:123: UserWarning: Warning: in file /content/drive/MyDrive/siwake/video/takahiro (4) (5).MTS, 6220800 bytes wanted but 0 bytes read,at frame 373/453, at time 6.22/7.55 sec. Using the last valid frame instead.\n",
            "  warnings.warn(\"Warning: in file %s, \"%(self.filename)+\n",
            "\n",
            "WARNING:py.warnings:/usr/local/lib/python3.10/dist-packages/moviepy/video/io/ffmpeg_reader.py:123: UserWarning: Warning: in file /content/drive/MyDrive/siwake/video/takahiro (4) (5).MTS, 6220800 bytes wanted but 0 bytes read,at frame 374/453, at time 6.24/7.55 sec. Using the last valid frame instead.\n",
            "  warnings.warn(\"Warning: in file %s, \"%(self.filename)+\n",
            "\n",
            "t:  90%|████████▉ | 376/420 [00:46<00:02, 15.49it/s, now=None]WARNING:py.warnings:/usr/local/lib/python3.10/dist-packages/moviepy/video/io/ffmpeg_reader.py:123: UserWarning: Warning: in file /content/drive/MyDrive/siwake/video/takahiro (4) (5).MTS, 6220800 bytes wanted but 0 bytes read,at frame 375/453, at time 6.26/7.55 sec. Using the last valid frame instead.\n",
            "  warnings.warn(\"Warning: in file %s, \"%(self.filename)+\n",
            "\n",
            "WARNING:py.warnings:/usr/local/lib/python3.10/dist-packages/moviepy/video/io/ffmpeg_reader.py:123: UserWarning: Warning: in file /content/drive/MyDrive/siwake/video/takahiro (4) (5).MTS, 6220800 bytes wanted but 0 bytes read,at frame 376/453, at time 6.27/7.55 sec. Using the last valid frame instead.\n",
            "  warnings.warn(\"Warning: in file %s, \"%(self.filename)+\n",
            "\n",
            "t:  90%|█████████ | 378/420 [00:46<00:02, 15.49it/s, now=None]WARNING:py.warnings:/usr/local/lib/python3.10/dist-packages/moviepy/video/io/ffmpeg_reader.py:123: UserWarning: Warning: in file /content/drive/MyDrive/siwake/video/takahiro (4) (5).MTS, 6220800 bytes wanted but 0 bytes read,at frame 377/453, at time 6.29/7.55 sec. Using the last valid frame instead.\n",
            "  warnings.warn(\"Warning: in file %s, \"%(self.filename)+\n",
            "\n",
            "WARNING:py.warnings:/usr/local/lib/python3.10/dist-packages/moviepy/video/io/ffmpeg_reader.py:123: UserWarning: Warning: in file /content/drive/MyDrive/siwake/video/takahiro (4) (5).MTS, 6220800 bytes wanted but 0 bytes read,at frame 378/453, at time 6.31/7.55 sec. Using the last valid frame instead.\n",
            "  warnings.warn(\"Warning: in file %s, \"%(self.filename)+\n",
            "\n",
            "t:  90%|█████████ | 380/420 [00:46<00:02, 14.24it/s, now=None]WARNING:py.warnings:/usr/local/lib/python3.10/dist-packages/moviepy/video/io/ffmpeg_reader.py:123: UserWarning: Warning: in file /content/drive/MyDrive/siwake/video/takahiro (4) (5).MTS, 6220800 bytes wanted but 0 bytes read,at frame 379/453, at time 6.32/7.55 sec. Using the last valid frame instead.\n",
            "  warnings.warn(\"Warning: in file %s, \"%(self.filename)+\n",
            "\n",
            "WARNING:py.warnings:/usr/local/lib/python3.10/dist-packages/moviepy/video/io/ffmpeg_reader.py:123: UserWarning: Warning: in file /content/drive/MyDrive/siwake/video/takahiro (4) (5).MTS, 6220800 bytes wanted but 0 bytes read,at frame 380/453, at time 6.34/7.55 sec. Using the last valid frame instead.\n",
            "  warnings.warn(\"Warning: in file %s, \"%(self.filename)+\n",
            "\n",
            "t:  91%|█████████ | 382/420 [00:46<00:02, 14.58it/s, now=None]WARNING:py.warnings:/usr/local/lib/python3.10/dist-packages/moviepy/video/io/ffmpeg_reader.py:123: UserWarning: Warning: in file /content/drive/MyDrive/siwake/video/takahiro (4) (5).MTS, 6220800 bytes wanted but 0 bytes read,at frame 381/453, at time 6.36/7.55 sec. Using the last valid frame instead.\n",
            "  warnings.warn(\"Warning: in file %s, \"%(self.filename)+\n",
            "\n",
            "WARNING:py.warnings:/usr/local/lib/python3.10/dist-packages/moviepy/video/io/ffmpeg_reader.py:123: UserWarning: Warning: in file /content/drive/MyDrive/siwake/video/takahiro (4) (5).MTS, 6220800 bytes wanted but 0 bytes read,at frame 382/453, at time 6.37/7.55 sec. Using the last valid frame instead.\n",
            "  warnings.warn(\"Warning: in file %s, \"%(self.filename)+\n",
            "\n",
            "t:  91%|█████████▏| 384/420 [00:46<00:02, 15.40it/s, now=None]WARNING:py.warnings:/usr/local/lib/python3.10/dist-packages/moviepy/video/io/ffmpeg_reader.py:123: UserWarning: Warning: in file /content/drive/MyDrive/siwake/video/takahiro (4) (5).MTS, 6220800 bytes wanted but 0 bytes read,at frame 383/453, at time 6.39/7.55 sec. Using the last valid frame instead.\n",
            "  warnings.warn(\"Warning: in file %s, \"%(self.filename)+\n",
            "\n",
            "WARNING:py.warnings:/usr/local/lib/python3.10/dist-packages/moviepy/video/io/ffmpeg_reader.py:123: UserWarning: Warning: in file /content/drive/MyDrive/siwake/video/takahiro (4) (5).MTS, 6220800 bytes wanted but 0 bytes read,at frame 384/453, at time 6.41/7.55 sec. Using the last valid frame instead.\n",
            "  warnings.warn(\"Warning: in file %s, \"%(self.filename)+\n",
            "\n",
            "t:  92%|█████████▏| 386/420 [00:47<00:02, 13.95it/s, now=None]WARNING:py.warnings:/usr/local/lib/python3.10/dist-packages/moviepy/video/io/ffmpeg_reader.py:123: UserWarning: Warning: in file /content/drive/MyDrive/siwake/video/takahiro (4) (5).MTS, 6220800 bytes wanted but 0 bytes read,at frame 385/453, at time 6.42/7.55 sec. Using the last valid frame instead.\n",
            "  warnings.warn(\"Warning: in file %s, \"%(self.filename)+\n",
            "\n",
            "WARNING:py.warnings:/usr/local/lib/python3.10/dist-packages/moviepy/video/io/ffmpeg_reader.py:123: UserWarning: Warning: in file /content/drive/MyDrive/siwake/video/takahiro (4) (5).MTS, 6220800 bytes wanted but 0 bytes read,at frame 386/453, at time 6.44/7.55 sec. Using the last valid frame instead.\n",
            "  warnings.warn(\"Warning: in file %s, \"%(self.filename)+\n",
            "\n",
            "t:  92%|█████████▏| 388/420 [00:47<00:02, 14.96it/s, now=None]WARNING:py.warnings:/usr/local/lib/python3.10/dist-packages/moviepy/video/io/ffmpeg_reader.py:123: UserWarning: Warning: in file /content/drive/MyDrive/siwake/video/takahiro (4) (5).MTS, 6220800 bytes wanted but 0 bytes read,at frame 387/453, at time 6.46/7.55 sec. Using the last valid frame instead.\n",
            "  warnings.warn(\"Warning: in file %s, \"%(self.filename)+\n",
            "\n",
            "WARNING:py.warnings:/usr/local/lib/python3.10/dist-packages/moviepy/video/io/ffmpeg_reader.py:123: UserWarning: Warning: in file /content/drive/MyDrive/siwake/video/takahiro (4) (5).MTS, 6220800 bytes wanted but 0 bytes read,at frame 388/453, at time 6.47/7.55 sec. Using the last valid frame instead.\n",
            "  warnings.warn(\"Warning: in file %s, \"%(self.filename)+\n",
            "\n",
            "t:  93%|█████████▎| 390/420 [00:47<00:02, 14.92it/s, now=None]WARNING:py.warnings:/usr/local/lib/python3.10/dist-packages/moviepy/video/io/ffmpeg_reader.py:123: UserWarning: Warning: in file /content/drive/MyDrive/siwake/video/takahiro (4) (5).MTS, 6220800 bytes wanted but 0 bytes read,at frame 389/453, at time 6.49/7.55 sec. Using the last valid frame instead.\n",
            "  warnings.warn(\"Warning: in file %s, \"%(self.filename)+\n",
            "\n",
            "WARNING:py.warnings:/usr/local/lib/python3.10/dist-packages/moviepy/video/io/ffmpeg_reader.py:123: UserWarning: Warning: in file /content/drive/MyDrive/siwake/video/takahiro (4) (5).MTS, 6220800 bytes wanted but 0 bytes read,at frame 390/453, at time 6.51/7.55 sec. Using the last valid frame instead.\n",
            "  warnings.warn(\"Warning: in file %s, \"%(self.filename)+\n",
            "\n",
            "t:  93%|█████████▎| 392/420 [00:47<00:01, 14.97it/s, now=None]WARNING:py.warnings:/usr/local/lib/python3.10/dist-packages/moviepy/video/io/ffmpeg_reader.py:123: UserWarning: Warning: in file /content/drive/MyDrive/siwake/video/takahiro (4) (5).MTS, 6220800 bytes wanted but 0 bytes read,at frame 391/453, at time 6.52/7.55 sec. Using the last valid frame instead.\n",
            "  warnings.warn(\"Warning: in file %s, \"%(self.filename)+\n",
            "\n",
            "WARNING:py.warnings:/usr/local/lib/python3.10/dist-packages/moviepy/video/io/ffmpeg_reader.py:123: UserWarning: Warning: in file /content/drive/MyDrive/siwake/video/takahiro (4) (5).MTS, 6220800 bytes wanted but 0 bytes read,at frame 392/453, at time 6.54/7.55 sec. Using the last valid frame instead.\n",
            "  warnings.warn(\"Warning: in file %s, \"%(self.filename)+\n",
            "\n",
            "t:  94%|█████████▍| 394/420 [00:47<00:01, 14.84it/s, now=None]WARNING:py.warnings:/usr/local/lib/python3.10/dist-packages/moviepy/video/io/ffmpeg_reader.py:123: UserWarning: Warning: in file /content/drive/MyDrive/siwake/video/takahiro (4) (5).MTS, 6220800 bytes wanted but 0 bytes read,at frame 393/453, at time 6.56/7.55 sec. Using the last valid frame instead.\n",
            "  warnings.warn(\"Warning: in file %s, \"%(self.filename)+\n",
            "\n",
            "WARNING:py.warnings:/usr/local/lib/python3.10/dist-packages/moviepy/video/io/ffmpeg_reader.py:123: UserWarning: Warning: in file /content/drive/MyDrive/siwake/video/takahiro (4) (5).MTS, 6220800 bytes wanted but 0 bytes read,at frame 394/453, at time 6.57/7.55 sec. Using the last valid frame instead.\n",
            "  warnings.warn(\"Warning: in file %s, \"%(self.filename)+\n",
            "\n",
            "t:  94%|█████████▍| 396/420 [00:47<00:01, 14.84it/s, now=None]WARNING:py.warnings:/usr/local/lib/python3.10/dist-packages/moviepy/video/io/ffmpeg_reader.py:123: UserWarning: Warning: in file /content/drive/MyDrive/siwake/video/takahiro (4) (5).MTS, 6220800 bytes wanted but 0 bytes read,at frame 395/453, at time 6.59/7.55 sec. Using the last valid frame instead.\n",
            "  warnings.warn(\"Warning: in file %s, \"%(self.filename)+\n",
            "\n",
            "WARNING:py.warnings:/usr/local/lib/python3.10/dist-packages/moviepy/video/io/ffmpeg_reader.py:123: UserWarning: Warning: in file /content/drive/MyDrive/siwake/video/takahiro (4) (5).MTS, 6220800 bytes wanted but 0 bytes read,at frame 396/453, at time 6.61/7.55 sec. Using the last valid frame instead.\n",
            "  warnings.warn(\"Warning: in file %s, \"%(self.filename)+\n",
            "\n",
            "t:  95%|█████████▍| 398/420 [00:47<00:01, 14.89it/s, now=None]WARNING:py.warnings:/usr/local/lib/python3.10/dist-packages/moviepy/video/io/ffmpeg_reader.py:123: UserWarning: Warning: in file /content/drive/MyDrive/siwake/video/takahiro (4) (5).MTS, 6220800 bytes wanted but 0 bytes read,at frame 397/453, at time 6.62/7.55 sec. Using the last valid frame instead.\n",
            "  warnings.warn(\"Warning: in file %s, \"%(self.filename)+\n",
            "\n",
            "WARNING:py.warnings:/usr/local/lib/python3.10/dist-packages/moviepy/video/io/ffmpeg_reader.py:123: UserWarning: Warning: in file /content/drive/MyDrive/siwake/video/takahiro (4) (5).MTS, 6220800 bytes wanted but 0 bytes read,at frame 398/453, at time 6.64/7.55 sec. Using the last valid frame instead.\n",
            "  warnings.warn(\"Warning: in file %s, \"%(self.filename)+\n",
            "\n",
            "t:  95%|█████████▌| 400/420 [00:48<00:01, 15.06it/s, now=None]WARNING:py.warnings:/usr/local/lib/python3.10/dist-packages/moviepy/video/io/ffmpeg_reader.py:123: UserWarning: Warning: in file /content/drive/MyDrive/siwake/video/takahiro (4) (5).MTS, 6220800 bytes wanted but 0 bytes read,at frame 399/453, at time 6.66/7.55 sec. Using the last valid frame instead.\n",
            "  warnings.warn(\"Warning: in file %s, \"%(self.filename)+\n",
            "\n",
            "WARNING:py.warnings:/usr/local/lib/python3.10/dist-packages/moviepy/video/io/ffmpeg_reader.py:123: UserWarning: Warning: in file /content/drive/MyDrive/siwake/video/takahiro (4) (5).MTS, 6220800 bytes wanted but 0 bytes read,at frame 400/453, at time 6.67/7.55 sec. Using the last valid frame instead.\n",
            "  warnings.warn(\"Warning: in file %s, \"%(self.filename)+\n",
            "\n",
            "t:  96%|█████████▌| 402/420 [00:48<00:01, 14.57it/s, now=None]WARNING:py.warnings:/usr/local/lib/python3.10/dist-packages/moviepy/video/io/ffmpeg_reader.py:123: UserWarning: Warning: in file /content/drive/MyDrive/siwake/video/takahiro (4) (5).MTS, 6220800 bytes wanted but 0 bytes read,at frame 401/453, at time 6.69/7.55 sec. Using the last valid frame instead.\n",
            "  warnings.warn(\"Warning: in file %s, \"%(self.filename)+\n",
            "\n",
            "WARNING:py.warnings:/usr/local/lib/python3.10/dist-packages/moviepy/video/io/ffmpeg_reader.py:123: UserWarning: Warning: in file /content/drive/MyDrive/siwake/video/takahiro (4) (5).MTS, 6220800 bytes wanted but 0 bytes read,at frame 402/453, at time 6.71/7.55 sec. Using the last valid frame instead.\n",
            "  warnings.warn(\"Warning: in file %s, \"%(self.filename)+\n",
            "\n",
            "t:  96%|█████████▌| 404/420 [00:48<00:01, 15.05it/s, now=None]WARNING:py.warnings:/usr/local/lib/python3.10/dist-packages/moviepy/video/io/ffmpeg_reader.py:123: UserWarning: Warning: in file /content/drive/MyDrive/siwake/video/takahiro (4) (5).MTS, 6220800 bytes wanted but 0 bytes read,at frame 403/453, at time 6.72/7.55 sec. Using the last valid frame instead.\n",
            "  warnings.warn(\"Warning: in file %s, \"%(self.filename)+\n",
            "\n",
            "WARNING:py.warnings:/usr/local/lib/python3.10/dist-packages/moviepy/video/io/ffmpeg_reader.py:123: UserWarning: Warning: in file /content/drive/MyDrive/siwake/video/takahiro (4) (5).MTS, 6220800 bytes wanted but 0 bytes read,at frame 404/453, at time 6.74/7.55 sec. Using the last valid frame instead.\n",
            "  warnings.warn(\"Warning: in file %s, \"%(self.filename)+\n",
            "\n",
            "t:  97%|█████████▋| 406/420 [00:48<00:00, 14.51it/s, now=None]WARNING:py.warnings:/usr/local/lib/python3.10/dist-packages/moviepy/video/io/ffmpeg_reader.py:123: UserWarning: Warning: in file /content/drive/MyDrive/siwake/video/takahiro (4) (5).MTS, 6220800 bytes wanted but 0 bytes read,at frame 405/453, at time 6.76/7.55 sec. Using the last valid frame instead.\n",
            "  warnings.warn(\"Warning: in file %s, \"%(self.filename)+\n",
            "\n",
            "WARNING:py.warnings:/usr/local/lib/python3.10/dist-packages/moviepy/video/io/ffmpeg_reader.py:123: UserWarning: Warning: in file /content/drive/MyDrive/siwake/video/takahiro (4) (5).MTS, 6220800 bytes wanted but 0 bytes read,at frame 406/453, at time 6.77/7.55 sec. Using the last valid frame instead.\n",
            "  warnings.warn(\"Warning: in file %s, \"%(self.filename)+\n",
            "\n",
            "t:  97%|█████████▋| 408/420 [00:48<00:00, 14.60it/s, now=None]WARNING:py.warnings:/usr/local/lib/python3.10/dist-packages/moviepy/video/io/ffmpeg_reader.py:123: UserWarning: Warning: in file /content/drive/MyDrive/siwake/video/takahiro (4) (5).MTS, 6220800 bytes wanted but 0 bytes read,at frame 407/453, at time 6.79/7.55 sec. Using the last valid frame instead.\n",
            "  warnings.warn(\"Warning: in file %s, \"%(self.filename)+\n",
            "\n",
            "WARNING:py.warnings:/usr/local/lib/python3.10/dist-packages/moviepy/video/io/ffmpeg_reader.py:123: UserWarning: Warning: in file /content/drive/MyDrive/siwake/video/takahiro (4) (5).MTS, 6220800 bytes wanted but 0 bytes read,at frame 408/453, at time 6.81/7.55 sec. Using the last valid frame instead.\n",
            "  warnings.warn(\"Warning: in file %s, \"%(self.filename)+\n",
            "\n",
            "t:  98%|█████████▊| 410/420 [00:48<00:00, 14.63it/s, now=None]WARNING:py.warnings:/usr/local/lib/python3.10/dist-packages/moviepy/video/io/ffmpeg_reader.py:123: UserWarning: Warning: in file /content/drive/MyDrive/siwake/video/takahiro (4) (5).MTS, 6220800 bytes wanted but 0 bytes read,at frame 409/453, at time 6.82/7.55 sec. Using the last valid frame instead.\n",
            "  warnings.warn(\"Warning: in file %s, \"%(self.filename)+\n",
            "\n",
            "WARNING:py.warnings:/usr/local/lib/python3.10/dist-packages/moviepy/video/io/ffmpeg_reader.py:123: UserWarning: Warning: in file /content/drive/MyDrive/siwake/video/takahiro (4) (5).MTS, 6220800 bytes wanted but 0 bytes read,at frame 410/453, at time 6.84/7.55 sec. Using the last valid frame instead.\n",
            "  warnings.warn(\"Warning: in file %s, \"%(self.filename)+\n",
            "\n",
            "WARNING:py.warnings:/usr/local/lib/python3.10/dist-packages/moviepy/video/io/ffmpeg_reader.py:123: UserWarning: Warning: in file /content/drive/MyDrive/siwake/video/takahiro (4) (5).MTS, 6220800 bytes wanted but 0 bytes read,at frame 411/453, at time 6.86/7.55 sec. Using the last valid frame instead.\n",
            "  warnings.warn(\"Warning: in file %s, \"%(self.filename)+\n",
            "\n",
            "t:  98%|█████████▊| 413/420 [00:48<00:00, 15.40it/s, now=None]WARNING:py.warnings:/usr/local/lib/python3.10/dist-packages/moviepy/video/io/ffmpeg_reader.py:123: UserWarning: Warning: in file /content/drive/MyDrive/siwake/video/takahiro (4) (5).MTS, 6220800 bytes wanted but 0 bytes read,at frame 412/453, at time 6.87/7.55 sec. Using the last valid frame instead.\n",
            "  warnings.warn(\"Warning: in file %s, \"%(self.filename)+\n",
            "\n",
            "WARNING:py.warnings:/usr/local/lib/python3.10/dist-packages/moviepy/video/io/ffmpeg_reader.py:123: UserWarning: Warning: in file /content/drive/MyDrive/siwake/video/takahiro (4) (5).MTS, 6220800 bytes wanted but 0 bytes read,at frame 413/453, at time 6.89/7.55 sec. Using the last valid frame instead.\n",
            "  warnings.warn(\"Warning: in file %s, \"%(self.filename)+\n",
            "\n",
            "t:  99%|█████████▉| 415/420 [00:49<00:00, 14.04it/s, now=None]WARNING:py.warnings:/usr/local/lib/python3.10/dist-packages/moviepy/video/io/ffmpeg_reader.py:123: UserWarning: Warning: in file /content/drive/MyDrive/siwake/video/takahiro (4) (5).MTS, 6220800 bytes wanted but 0 bytes read,at frame 414/453, at time 6.91/7.55 sec. Using the last valid frame instead.\n",
            "  warnings.warn(\"Warning: in file %s, \"%(self.filename)+\n",
            "\n",
            "WARNING:py.warnings:/usr/local/lib/python3.10/dist-packages/moviepy/video/io/ffmpeg_reader.py:123: UserWarning: Warning: in file /content/drive/MyDrive/siwake/video/takahiro (4) (5).MTS, 6220800 bytes wanted but 0 bytes read,at frame 415/453, at time 6.92/7.55 sec. Using the last valid frame instead.\n",
            "  warnings.warn(\"Warning: in file %s, \"%(self.filename)+\n",
            "\n",
            "WARNING:py.warnings:/usr/local/lib/python3.10/dist-packages/moviepy/video/io/ffmpeg_reader.py:123: UserWarning: Warning: in file /content/drive/MyDrive/siwake/video/takahiro (4) (5).MTS, 6220800 bytes wanted but 0 bytes read,at frame 416/453, at time 6.94/7.55 sec. Using the last valid frame instead.\n",
            "  warnings.warn(\"Warning: in file %s, \"%(self.filename)+\n",
            "\n",
            "t: 100%|█████████▉| 418/420 [00:49<00:00, 14.69it/s, now=None]WARNING:py.warnings:/usr/local/lib/python3.10/dist-packages/moviepy/video/io/ffmpeg_reader.py:123: UserWarning: Warning: in file /content/drive/MyDrive/siwake/video/takahiro (4) (5).MTS, 6220800 bytes wanted but 0 bytes read,at frame 417/453, at time 6.96/7.55 sec. Using the last valid frame instead.\n",
            "  warnings.warn(\"Warning: in file %s, \"%(self.filename)+\n",
            "\n",
            "WARNING:py.warnings:/usr/local/lib/python3.10/dist-packages/moviepy/video/io/ffmpeg_reader.py:123: UserWarning: Warning: in file /content/drive/MyDrive/siwake/video/takahiro (4) (5).MTS, 6220800 bytes wanted but 0 bytes read,at frame 418/453, at time 6.97/7.55 sec. Using the last valid frame instead.\n",
            "  warnings.warn(\"Warning: in file %s, \"%(self.filename)+\n",
            "\n",
            "t: 100%|██████████| 420/420 [00:49<00:00, 15.24it/s, now=None]WARNING:py.warnings:/usr/local/lib/python3.10/dist-packages/moviepy/video/io/ffmpeg_reader.py:123: UserWarning: Warning: in file /content/drive/MyDrive/siwake/video/takahiro (4) (5).MTS, 6220800 bytes wanted but 0 bytes read,at frame 419/453, at time 6.99/7.55 sec. Using the last valid frame instead.\n",
            "  warnings.warn(\"Warning: in file %s, \"%(self.filename)+\n",
            "\n"
          ]
        },
        {
          "output_type": "stream",
          "name": "stdout",
          "text": [
            "Moviepy - Done !\n",
            "Moviepy - video ready /content/drive/MyDrive/siwake/data/temp_video.mp4\n",
            "MoviePy - Writing audio in /content/drive/MyDrive/siwake/data/temp_audio.wav\n"
          ]
        },
        {
          "output_type": "stream",
          "name": "stderr",
          "text": []
        },
        {
          "output_type": "stream",
          "name": "stdout",
          "text": [
            "MoviePy - Done.\n",
            "Moviepy - Building video /content/drive/MyDrive/siwake/data/temp_video.mp4.\n",
            "MoviePy - Writing audio in temp_videoTEMP_MPY_wvf_snd.mp4\n"
          ]
        },
        {
          "output_type": "stream",
          "name": "stderr",
          "text": []
        },
        {
          "output_type": "stream",
          "name": "stdout",
          "text": [
            "MoviePy - Done.\n",
            "Moviepy - Writing video /content/drive/MyDrive/siwake/data/temp_video.mp4\n",
            "\n"
          ]
        },
        {
          "output_type": "stream",
          "name": "stderr",
          "text": []
        },
        {
          "output_type": "stream",
          "name": "stdout",
          "text": [
            "Moviepy - Done !\n",
            "Moviepy - video ready /content/drive/MyDrive/siwake/data/temp_video.mp4\n",
            "MoviePy - Writing audio in /content/drive/MyDrive/siwake/data/temp_audio.wav\n"
          ]
        },
        {
          "output_type": "stream",
          "name": "stderr",
          "text": [
            "                                                        "
          ]
        },
        {
          "output_type": "stream",
          "name": "stdout",
          "text": [
            "MoviePy - Done.\n"
          ]
        },
        {
          "output_type": "stream",
          "name": "stderr",
          "text": [
            "\r"
          ]
        },
        {
          "output_type": "stream",
          "name": "stdout",
          "text": [
            "Moviepy - Building video /content/drive/MyDrive/siwake/data/temp_video.mp4.\n",
            "MoviePy - Writing audio in temp_videoTEMP_MPY_wvf_snd.mp4\n"
          ]
        },
        {
          "output_type": "stream",
          "name": "stderr",
          "text": []
        },
        {
          "output_type": "stream",
          "name": "stdout",
          "text": [
            "MoviePy - Done.\n",
            "Moviepy - Writing video /content/drive/MyDrive/siwake/data/temp_video.mp4\n",
            "\n"
          ]
        },
        {
          "output_type": "stream",
          "name": "stderr",
          "text": []
        },
        {
          "output_type": "stream",
          "name": "stdout",
          "text": [
            "Moviepy - Done !\n",
            "Moviepy - video ready /content/drive/MyDrive/siwake/data/temp_video.mp4\n",
            "MoviePy - Writing audio in /content/drive/MyDrive/siwake/data/temp_audio.wav\n"
          ]
        },
        {
          "output_type": "stream",
          "name": "stderr",
          "text": [
            "                                                                    "
          ]
        },
        {
          "output_type": "stream",
          "name": "stdout",
          "text": [
            "MoviePy - Done.\n"
          ]
        },
        {
          "output_type": "stream",
          "name": "stderr",
          "text": [
            "\r"
          ]
        },
        {
          "output_type": "stream",
          "name": "stdout",
          "text": [
            "Moviepy - Building video /content/drive/MyDrive/siwake/data/temp_video.mp4.\n",
            "MoviePy - Writing audio in temp_videoTEMP_MPY_wvf_snd.mp4\n"
          ]
        },
        {
          "output_type": "stream",
          "name": "stderr",
          "text": []
        },
        {
          "output_type": "stream",
          "name": "stdout",
          "text": [
            "MoviePy - Done.\n",
            "Moviepy - Writing video /content/drive/MyDrive/siwake/data/temp_video.mp4\n",
            "\n"
          ]
        },
        {
          "output_type": "stream",
          "name": "stderr",
          "text": []
        },
        {
          "output_type": "stream",
          "name": "stdout",
          "text": [
            "Moviepy - Done !\n",
            "Moviepy - video ready /content/drive/MyDrive/siwake/data/temp_video.mp4\n",
            "MoviePy - Writing audio in /content/drive/MyDrive/siwake/data/temp_audio.wav\n"
          ]
        },
        {
          "output_type": "stream",
          "name": "stderr",
          "text": [
            "                                                                    "
          ]
        },
        {
          "output_type": "stream",
          "name": "stdout",
          "text": [
            "MoviePy - Done.\n"
          ]
        },
        {
          "output_type": "stream",
          "name": "stderr",
          "text": [
            "\r"
          ]
        },
        {
          "output_type": "stream",
          "name": "stdout",
          "text": [
            "Moviepy - Building video /content/drive/MyDrive/siwake/data/temp_video.mp4.\n",
            "MoviePy - Writing audio in temp_videoTEMP_MPY_wvf_snd.mp4\n"
          ]
        },
        {
          "output_type": "stream",
          "name": "stderr",
          "text": []
        },
        {
          "output_type": "stream",
          "name": "stdout",
          "text": [
            "MoviePy - Done.\n",
            "Moviepy - Writing video /content/drive/MyDrive/siwake/data/temp_video.mp4\n",
            "\n"
          ]
        },
        {
          "output_type": "stream",
          "name": "stderr",
          "text": []
        },
        {
          "output_type": "stream",
          "name": "stdout",
          "text": [
            "Moviepy - Done !\n",
            "Moviepy - video ready /content/drive/MyDrive/siwake/data/temp_video.mp4\n",
            "MoviePy - Writing audio in /content/drive/MyDrive/siwake/data/temp_audio.wav\n"
          ]
        },
        {
          "output_type": "stream",
          "name": "stderr",
          "text": [
            "                                                        "
          ]
        },
        {
          "output_type": "stream",
          "name": "stdout",
          "text": [
            "MoviePy - Done.\n"
          ]
        },
        {
          "output_type": "stream",
          "name": "stderr",
          "text": [
            "\r"
          ]
        },
        {
          "output_type": "stream",
          "name": "stdout",
          "text": [
            "Moviepy - Building video /content/drive/MyDrive/siwake/data/temp_video.mp4.\n",
            "MoviePy - Writing audio in temp_videoTEMP_MPY_wvf_snd.mp4\n"
          ]
        },
        {
          "output_type": "stream",
          "name": "stderr",
          "text": []
        },
        {
          "output_type": "stream",
          "name": "stdout",
          "text": [
            "MoviePy - Done.\n",
            "Moviepy - Writing video /content/drive/MyDrive/siwake/data/temp_video.mp4\n",
            "\n"
          ]
        },
        {
          "output_type": "stream",
          "name": "stderr",
          "text": []
        },
        {
          "output_type": "stream",
          "name": "stdout",
          "text": [
            "Moviepy - Done !\n",
            "Moviepy - video ready /content/drive/MyDrive/siwake/data/temp_video.mp4\n",
            "MoviePy - Writing audio in /content/drive/MyDrive/siwake/data/temp_audio.wav\n"
          ]
        },
        {
          "output_type": "stream",
          "name": "stderr",
          "text": [
            "                                                                    "
          ]
        },
        {
          "output_type": "stream",
          "name": "stdout",
          "text": [
            "MoviePy - Done.\n"
          ]
        },
        {
          "output_type": "stream",
          "name": "stderr",
          "text": [
            "\r"
          ]
        },
        {
          "output_type": "stream",
          "name": "stdout",
          "text": [
            "Moviepy - Building video /content/drive/MyDrive/siwake/data/temp_video.mp4.\n",
            "MoviePy - Writing audio in temp_videoTEMP_MPY_wvf_snd.mp4\n"
          ]
        },
        {
          "output_type": "stream",
          "name": "stderr",
          "text": [
            "                                                                  "
          ]
        },
        {
          "output_type": "stream",
          "name": "stdout",
          "text": [
            "動画 takahiro (16).MTS の処理中にエラーが発生しました: Error in file /content/drive/MyDrive/siwake/video/takahiro (16).MTS, Accessing time t=6.55-6.59 seconds, with clip duration=6 seconds, \n"
          ]
        },
        {
          "output_type": "stream",
          "name": "stderr",
          "text": [
            "\r"
          ]
        },
        {
          "output_type": "stream",
          "name": "stdout",
          "text": [
            "Moviepy - Building video /content/drive/MyDrive/siwake/data/temp_video.mp4.\n",
            "MoviePy - Writing audio in temp_videoTEMP_MPY_wvf_snd.mp4\n"
          ]
        },
        {
          "output_type": "stream",
          "name": "stderr",
          "text": []
        },
        {
          "output_type": "stream",
          "name": "stdout",
          "text": [
            "MoviePy - Done.\n",
            "Moviepy - Writing video /content/drive/MyDrive/siwake/data/temp_video.mp4\n",
            "\n"
          ]
        },
        {
          "output_type": "stream",
          "name": "stderr",
          "text": []
        },
        {
          "output_type": "stream",
          "name": "stdout",
          "text": [
            "Moviepy - Done !\n",
            "Moviepy - video ready /content/drive/MyDrive/siwake/data/temp_video.mp4\n",
            "MoviePy - Writing audio in /content/drive/MyDrive/siwake/data/temp_audio.wav\n"
          ]
        },
        {
          "output_type": "stream",
          "name": "stderr",
          "text": [
            "                                                                    "
          ]
        },
        {
          "output_type": "stream",
          "name": "stdout",
          "text": [
            "MoviePy - Done.\n"
          ]
        },
        {
          "output_type": "stream",
          "name": "stderr",
          "text": [
            "\r"
          ]
        },
        {
          "output_type": "stream",
          "name": "stdout",
          "text": [
            "Moviepy - Building video /content/drive/MyDrive/siwake/data/temp_video.mp4.\n",
            "MoviePy - Writing audio in temp_videoTEMP_MPY_wvf_snd.mp4\n"
          ]
        },
        {
          "output_type": "stream",
          "name": "stderr",
          "text": []
        },
        {
          "output_type": "stream",
          "name": "stdout",
          "text": [
            "MoviePy - Done.\n",
            "Moviepy - Writing video /content/drive/MyDrive/siwake/data/temp_video.mp4\n",
            "\n"
          ]
        },
        {
          "output_type": "stream",
          "name": "stderr",
          "text": []
        },
        {
          "output_type": "stream",
          "name": "stdout",
          "text": [
            "Moviepy - Done !\n",
            "Moviepy - video ready /content/drive/MyDrive/siwake/data/temp_video.mp4\n",
            "MoviePy - Writing audio in /content/drive/MyDrive/siwake/data/temp_audio.wav\n"
          ]
        },
        {
          "output_type": "stream",
          "name": "stderr",
          "text": [
            "                                                        "
          ]
        },
        {
          "output_type": "stream",
          "name": "stdout",
          "text": [
            "MoviePy - Done.\n"
          ]
        },
        {
          "output_type": "stream",
          "name": "stderr",
          "text": [
            "\r"
          ]
        },
        {
          "output_type": "stream",
          "name": "stdout",
          "text": [
            "Moviepy - Building video /content/drive/MyDrive/siwake/data/temp_video.mp4.\n",
            "MoviePy - Writing audio in temp_videoTEMP_MPY_wvf_snd.mp4\n"
          ]
        },
        {
          "output_type": "stream",
          "name": "stderr",
          "text": []
        },
        {
          "output_type": "stream",
          "name": "stdout",
          "text": [
            "MoviePy - Done.\n",
            "Moviepy - Writing video /content/drive/MyDrive/siwake/data/temp_video.mp4\n",
            "\n"
          ]
        },
        {
          "output_type": "stream",
          "name": "stderr",
          "text": []
        },
        {
          "output_type": "stream",
          "name": "stdout",
          "text": [
            "Moviepy - Done !\n",
            "Moviepy - video ready /content/drive/MyDrive/siwake/data/temp_video.mp4\n",
            "MoviePy - Writing audio in /content/drive/MyDrive/siwake/data/temp_audio.wav\n"
          ]
        },
        {
          "output_type": "stream",
          "name": "stderr",
          "text": [
            "                                                        "
          ]
        },
        {
          "output_type": "stream",
          "name": "stdout",
          "text": [
            "MoviePy - Done.\n"
          ]
        },
        {
          "output_type": "stream",
          "name": "stderr",
          "text": [
            "\r"
          ]
        },
        {
          "output_type": "stream",
          "name": "stdout",
          "text": [
            "Moviepy - Building video /content/drive/MyDrive/siwake/data/temp_video.mp4.\n",
            "MoviePy - Writing audio in temp_videoTEMP_MPY_wvf_snd.mp4\n"
          ]
        },
        {
          "output_type": "stream",
          "name": "stderr",
          "text": []
        },
        {
          "output_type": "stream",
          "name": "stdout",
          "text": [
            "MoviePy - Done.\n",
            "Moviepy - Writing video /content/drive/MyDrive/siwake/data/temp_video.mp4\n",
            "\n"
          ]
        },
        {
          "output_type": "stream",
          "name": "stderr",
          "text": []
        },
        {
          "output_type": "stream",
          "name": "stdout",
          "text": [
            "Moviepy - Done !\n",
            "Moviepy - video ready /content/drive/MyDrive/siwake/data/temp_video.mp4\n",
            "MoviePy - Writing audio in /content/drive/MyDrive/siwake/data/temp_audio.wav\n"
          ]
        },
        {
          "output_type": "stream",
          "name": "stderr",
          "text": []
        },
        {
          "output_type": "stream",
          "name": "stdout",
          "text": [
            "MoviePy - Done.\n",
            "Moviepy - Building video /content/drive/MyDrive/siwake/data/temp_video.mp4.\n",
            "MoviePy - Writing audio in temp_videoTEMP_MPY_wvf_snd.mp4\n"
          ]
        },
        {
          "output_type": "stream",
          "name": "stderr",
          "text": []
        },
        {
          "output_type": "stream",
          "name": "stdout",
          "text": [
            "MoviePy - Done.\n",
            "Moviepy - Writing video /content/drive/MyDrive/siwake/data/temp_video.mp4\n",
            "\n"
          ]
        },
        {
          "output_type": "stream",
          "name": "stderr",
          "text": []
        },
        {
          "output_type": "stream",
          "name": "stdout",
          "text": [
            "Moviepy - Done !\n",
            "Moviepy - video ready /content/drive/MyDrive/siwake/data/temp_video.mp4\n",
            "MoviePy - Writing audio in /content/drive/MyDrive/siwake/data/temp_audio.wav\n"
          ]
        },
        {
          "output_type": "stream",
          "name": "stderr",
          "text": []
        },
        {
          "output_type": "stream",
          "name": "stdout",
          "text": [
            "MoviePy - Done.\n",
            "Moviepy - Building video /content/drive/MyDrive/siwake/data/temp_video.mp4.\n",
            "MoviePy - Writing audio in temp_videoTEMP_MPY_wvf_snd.mp4\n"
          ]
        },
        {
          "output_type": "stream",
          "name": "stderr",
          "text": []
        },
        {
          "output_type": "stream",
          "name": "stdout",
          "text": [
            "MoviePy - Done.\n",
            "Moviepy - Writing video /content/drive/MyDrive/siwake/data/temp_video.mp4\n",
            "\n"
          ]
        },
        {
          "output_type": "stream",
          "name": "stderr",
          "text": []
        },
        {
          "output_type": "stream",
          "name": "stdout",
          "text": [
            "Moviepy - Done !\n",
            "Moviepy - video ready /content/drive/MyDrive/siwake/data/temp_video.mp4\n",
            "MoviePy - Writing audio in /content/drive/MyDrive/siwake/data/temp_audio.wav\n"
          ]
        },
        {
          "output_type": "stream",
          "name": "stderr",
          "text": [
            "                                                                    "
          ]
        },
        {
          "output_type": "stream",
          "name": "stdout",
          "text": [
            "MoviePy - Done.\n"
          ]
        },
        {
          "output_type": "stream",
          "name": "stderr",
          "text": [
            "\r"
          ]
        },
        {
          "output_type": "stream",
          "name": "stdout",
          "text": [
            "Moviepy - Building video /content/drive/MyDrive/siwake/data/temp_video.mp4.\n",
            "MoviePy - Writing audio in temp_videoTEMP_MPY_wvf_snd.mp4\n"
          ]
        },
        {
          "output_type": "stream",
          "name": "stderr",
          "text": []
        },
        {
          "output_type": "stream",
          "name": "stdout",
          "text": [
            "MoviePy - Done.\n",
            "Moviepy - Writing video /content/drive/MyDrive/siwake/data/temp_video.mp4\n",
            "\n"
          ]
        },
        {
          "output_type": "stream",
          "name": "stderr",
          "text": []
        },
        {
          "output_type": "stream",
          "name": "stdout",
          "text": [
            "Moviepy - Done !\n",
            "Moviepy - video ready /content/drive/MyDrive/siwake/data/temp_video.mp4\n",
            "MoviePy - Writing audio in /content/drive/MyDrive/siwake/data/temp_audio.wav\n"
          ]
        },
        {
          "output_type": "stream",
          "name": "stderr",
          "text": []
        },
        {
          "output_type": "stream",
          "name": "stdout",
          "text": [
            "MoviePy - Done.\n",
            "Moviepy - Building video /content/drive/MyDrive/siwake/data/temp_video.mp4.\n",
            "MoviePy - Writing audio in temp_videoTEMP_MPY_wvf_snd.mp4\n"
          ]
        },
        {
          "output_type": "stream",
          "name": "stderr",
          "text": []
        },
        {
          "output_type": "stream",
          "name": "stdout",
          "text": [
            "MoviePy - Done.\n",
            "Moviepy - Writing video /content/drive/MyDrive/siwake/data/temp_video.mp4\n",
            "\n"
          ]
        },
        {
          "output_type": "stream",
          "name": "stderr",
          "text": []
        },
        {
          "output_type": "stream",
          "name": "stdout",
          "text": [
            "Moviepy - Done !\n",
            "Moviepy - video ready /content/drive/MyDrive/siwake/data/temp_video.mp4\n",
            "MoviePy - Writing audio in /content/drive/MyDrive/siwake/data/temp_audio.wav\n"
          ]
        },
        {
          "output_type": "stream",
          "name": "stderr",
          "text": [
            "                                                        "
          ]
        },
        {
          "output_type": "stream",
          "name": "stdout",
          "text": [
            "MoviePy - Done.\n"
          ]
        },
        {
          "output_type": "stream",
          "name": "stderr",
          "text": [
            "\r"
          ]
        },
        {
          "output_type": "stream",
          "name": "stdout",
          "text": [
            "動画 takahiro (4) (8).MTS の処理中にエラーが発生しました: \n",
            "Moviepy - Building video /content/drive/MyDrive/siwake/data/temp_video.mp4.\n",
            "MoviePy - Writing audio in temp_videoTEMP_MPY_wvf_snd.mp4\n"
          ]
        },
        {
          "output_type": "stream",
          "name": "stderr",
          "text": []
        },
        {
          "output_type": "stream",
          "name": "stdout",
          "text": [
            "MoviePy - Done.\n",
            "Moviepy - Writing video /content/drive/MyDrive/siwake/data/temp_video.mp4\n",
            "\n"
          ]
        },
        {
          "output_type": "stream",
          "name": "stderr",
          "text": []
        },
        {
          "output_type": "stream",
          "name": "stdout",
          "text": [
            "Moviepy - Done !\n",
            "Moviepy - video ready /content/drive/MyDrive/siwake/data/temp_video.mp4\n",
            "MoviePy - Writing audio in /content/drive/MyDrive/siwake/data/temp_audio.wav\n"
          ]
        },
        {
          "output_type": "stream",
          "name": "stderr",
          "text": []
        },
        {
          "output_type": "stream",
          "name": "stdout",
          "text": [
            "MoviePy - Done.\n",
            "Moviepy - Building video /content/drive/MyDrive/siwake/data/temp_video.mp4.\n",
            "MoviePy - Writing audio in temp_videoTEMP_MPY_wvf_snd.mp4\n"
          ]
        },
        {
          "output_type": "stream",
          "name": "stderr",
          "text": []
        },
        {
          "output_type": "stream",
          "name": "stdout",
          "text": [
            "MoviePy - Done.\n",
            "Moviepy - Writing video /content/drive/MyDrive/siwake/data/temp_video.mp4\n",
            "\n"
          ]
        },
        {
          "output_type": "stream",
          "name": "stderr",
          "text": []
        },
        {
          "output_type": "stream",
          "name": "stdout",
          "text": [
            "Moviepy - Done !\n",
            "Moviepy - video ready /content/drive/MyDrive/siwake/data/temp_video.mp4\n",
            "MoviePy - Writing audio in /content/drive/MyDrive/siwake/data/temp_audio.wav\n"
          ]
        },
        {
          "output_type": "stream",
          "name": "stderr",
          "text": []
        },
        {
          "output_type": "stream",
          "name": "stdout",
          "text": [
            "MoviePy - Done.\n",
            "Moviepy - Building video /content/drive/MyDrive/siwake/data/temp_video.mp4.\n",
            "MoviePy - Writing audio in temp_videoTEMP_MPY_wvf_snd.mp4\n"
          ]
        },
        {
          "output_type": "stream",
          "name": "stderr",
          "text": []
        },
        {
          "output_type": "stream",
          "name": "stdout",
          "text": [
            "MoviePy - Done.\n",
            "Moviepy - Writing video /content/drive/MyDrive/siwake/data/temp_video.mp4\n",
            "\n"
          ]
        },
        {
          "output_type": "stream",
          "name": "stderr",
          "text": []
        },
        {
          "output_type": "stream",
          "name": "stdout",
          "text": [
            "Moviepy - Done !\n",
            "Moviepy - video ready /content/drive/MyDrive/siwake/data/temp_video.mp4\n",
            "MoviePy - Writing audio in /content/drive/MyDrive/siwake/data/temp_audio.wav\n"
          ]
        },
        {
          "output_type": "stream",
          "name": "stderr",
          "text": [
            "                                                                    "
          ]
        },
        {
          "output_type": "stream",
          "name": "stdout",
          "text": [
            "MoviePy - Done.\n"
          ]
        },
        {
          "output_type": "stream",
          "name": "stderr",
          "text": [
            "\r"
          ]
        },
        {
          "output_type": "stream",
          "name": "stdout",
          "text": [
            "Moviepy - Building video /content/drive/MyDrive/siwake/data/temp_video.mp4.\n",
            "MoviePy - Writing audio in temp_videoTEMP_MPY_wvf_snd.mp4\n"
          ]
        },
        {
          "output_type": "stream",
          "name": "stderr",
          "text": []
        },
        {
          "output_type": "stream",
          "name": "stdout",
          "text": [
            "MoviePy - Done.\n",
            "Moviepy - Writing video /content/drive/MyDrive/siwake/data/temp_video.mp4\n",
            "\n"
          ]
        },
        {
          "output_type": "stream",
          "name": "stderr",
          "text": []
        },
        {
          "output_type": "stream",
          "name": "stdout",
          "text": [
            "Moviepy - Done !\n",
            "Moviepy - video ready /content/drive/MyDrive/siwake/data/temp_video.mp4\n",
            "MoviePy - Writing audio in /content/drive/MyDrive/siwake/data/temp_audio.wav\n"
          ]
        },
        {
          "output_type": "stream",
          "name": "stderr",
          "text": []
        },
        {
          "output_type": "stream",
          "name": "stdout",
          "text": [
            "MoviePy - Done.\n",
            "Moviepy - Building video /content/drive/MyDrive/siwake/data/temp_video.mp4.\n",
            "MoviePy - Writing audio in temp_videoTEMP_MPY_wvf_snd.mp4\n"
          ]
        },
        {
          "output_type": "stream",
          "name": "stderr",
          "text": []
        },
        {
          "output_type": "stream",
          "name": "stdout",
          "text": [
            "MoviePy - Done.\n",
            "Moviepy - Writing video /content/drive/MyDrive/siwake/data/temp_video.mp4\n",
            "\n"
          ]
        },
        {
          "output_type": "stream",
          "name": "stderr",
          "text": [
            "t:  83%|████████▎ | 347/420 [00:55<00:14,  5.07it/s, now=None]WARNING:py.warnings:/usr/local/lib/python3.10/dist-packages/moviepy/video/io/ffmpeg_reader.py:123: UserWarning: Warning: in file /content/drive/MyDrive/siwake/video/takahiro (6) (8).MTS, 6220800 bytes wanted but 0 bytes read,at frame 346/693, at time 5.77/11.55 sec. Using the last valid frame instead.\n",
            "  warnings.warn(\"Warning: in file %s, \"%(self.filename)+\n",
            "\n",
            "t:  83%|████████▎ | 348/420 [00:56<00:13,  5.22it/s, now=None]WARNING:py.warnings:/usr/local/lib/python3.10/dist-packages/moviepy/video/io/ffmpeg_reader.py:123: UserWarning: Warning: in file /content/drive/MyDrive/siwake/video/takahiro (6) (8).MTS, 6220800 bytes wanted but 0 bytes read,at frame 347/693, at time 5.79/11.55 sec. Using the last valid frame instead.\n",
            "  warnings.warn(\"Warning: in file %s, \"%(self.filename)+\n",
            "\n",
            "WARNING:py.warnings:/usr/local/lib/python3.10/dist-packages/moviepy/video/io/ffmpeg_reader.py:123: UserWarning: Warning: in file /content/drive/MyDrive/siwake/video/takahiro (6) (8).MTS, 6220800 bytes wanted but 0 bytes read,at frame 348/693, at time 5.81/11.55 sec. Using the last valid frame instead.\n",
            "  warnings.warn(\"Warning: in file %s, \"%(self.filename)+\n",
            "\n",
            "t:  83%|████████▎ | 350/420 [00:56<00:12,  5.60it/s, now=None]WARNING:py.warnings:/usr/local/lib/python3.10/dist-packages/moviepy/video/io/ffmpeg_reader.py:123: UserWarning: Warning: in file /content/drive/MyDrive/siwake/video/takahiro (6) (8).MTS, 6220800 bytes wanted but 0 bytes read,at frame 349/693, at time 5.82/11.55 sec. Using the last valid frame instead.\n",
            "  warnings.warn(\"Warning: in file %s, \"%(self.filename)+\n",
            "\n",
            "t:  84%|████████▎ | 351/420 [00:56<00:13,  4.93it/s, now=None]WARNING:py.warnings:/usr/local/lib/python3.10/dist-packages/moviepy/video/io/ffmpeg_reader.py:123: UserWarning: Warning: in file /content/drive/MyDrive/siwake/video/takahiro (6) (8).MTS, 6220800 bytes wanted but 0 bytes read,at frame 350/693, at time 5.84/11.55 sec. Using the last valid frame instead.\n",
            "  warnings.warn(\"Warning: in file %s, \"%(self.filename)+\n",
            "\n",
            "WARNING:py.warnings:/usr/local/lib/python3.10/dist-packages/moviepy/video/io/ffmpeg_reader.py:123: UserWarning: Warning: in file /content/drive/MyDrive/siwake/video/takahiro (6) (8).MTS, 6220800 bytes wanted but 0 bytes read,at frame 351/693, at time 5.86/11.55 sec. Using the last valid frame instead.\n",
            "  warnings.warn(\"Warning: in file %s, \"%(self.filename)+\n",
            "\n",
            "t:  84%|████████▍ | 353/420 [00:56<00:11,  5.83it/s, now=None]WARNING:py.warnings:/usr/local/lib/python3.10/dist-packages/moviepy/video/io/ffmpeg_reader.py:123: UserWarning: Warning: in file /content/drive/MyDrive/siwake/video/takahiro (6) (8).MTS, 6220800 bytes wanted but 0 bytes read,at frame 352/693, at time 5.87/11.55 sec. Using the last valid frame instead.\n",
            "  warnings.warn(\"Warning: in file %s, \"%(self.filename)+\n",
            "\n",
            "t:  84%|████████▍ | 354/420 [00:57<00:14,  4.61it/s, now=None]WARNING:py.warnings:/usr/local/lib/python3.10/dist-packages/moviepy/video/io/ffmpeg_reader.py:123: UserWarning: Warning: in file /content/drive/MyDrive/siwake/video/takahiro (6) (8).MTS, 6220800 bytes wanted but 0 bytes read,at frame 353/693, at time 5.89/11.55 sec. Using the last valid frame instead.\n",
            "  warnings.warn(\"Warning: in file %s, \"%(self.filename)+\n",
            "\n",
            "t:  85%|████████▍ | 355/420 [00:57<00:12,  5.12it/s, now=None]WARNING:py.warnings:/usr/local/lib/python3.10/dist-packages/moviepy/video/io/ffmpeg_reader.py:123: UserWarning: Warning: in file /content/drive/MyDrive/siwake/video/takahiro (6) (8).MTS, 6220800 bytes wanted but 0 bytes read,at frame 354/693, at time 5.91/11.55 sec. Using the last valid frame instead.\n",
            "  warnings.warn(\"Warning: in file %s, \"%(self.filename)+\n",
            "\n",
            "WARNING:py.warnings:/usr/local/lib/python3.10/dist-packages/moviepy/video/io/ffmpeg_reader.py:123: UserWarning: Warning: in file /content/drive/MyDrive/siwake/video/takahiro (6) (8).MTS, 6220800 bytes wanted but 0 bytes read,at frame 355/693, at time 5.92/11.55 sec. Using the last valid frame instead.\n",
            "  warnings.warn(\"Warning: in file %s, \"%(self.filename)+\n",
            "\n",
            "t:  85%|████████▌ | 357/420 [00:57<00:11,  5.44it/s, now=None]WARNING:py.warnings:/usr/local/lib/python3.10/dist-packages/moviepy/video/io/ffmpeg_reader.py:123: UserWarning: Warning: in file /content/drive/MyDrive/siwake/video/takahiro (6) (8).MTS, 6220800 bytes wanted but 0 bytes read,at frame 356/693, at time 5.94/11.55 sec. Using the last valid frame instead.\n",
            "  warnings.warn(\"Warning: in file %s, \"%(self.filename)+\n",
            "\n",
            "t:  85%|████████▌ | 358/420 [00:57<00:10,  5.67it/s, now=None]WARNING:py.warnings:/usr/local/lib/python3.10/dist-packages/moviepy/video/io/ffmpeg_reader.py:123: UserWarning: Warning: in file /content/drive/MyDrive/siwake/video/takahiro (6) (8).MTS, 6220800 bytes wanted but 0 bytes read,at frame 357/693, at time 5.96/11.55 sec. Using the last valid frame instead.\n",
            "  warnings.warn(\"Warning: in file %s, \"%(self.filename)+\n",
            "\n",
            "WARNING:py.warnings:/usr/local/lib/python3.10/dist-packages/moviepy/video/io/ffmpeg_reader.py:123: UserWarning: Warning: in file /content/drive/MyDrive/siwake/video/takahiro (6) (8).MTS, 6220800 bytes wanted but 0 bytes read,at frame 358/693, at time 5.97/11.55 sec. Using the last valid frame instead.\n",
            "  warnings.warn(\"Warning: in file %s, \"%(self.filename)+\n",
            "\n",
            "t:  86%|████████▌ | 360/420 [00:58<00:07,  7.73it/s, now=None]WARNING:py.warnings:/usr/local/lib/python3.10/dist-packages/moviepy/video/io/ffmpeg_reader.py:123: UserWarning: Warning: in file /content/drive/MyDrive/siwake/video/takahiro (6) (8).MTS, 6220800 bytes wanted but 0 bytes read,at frame 359/693, at time 5.99/11.55 sec. Using the last valid frame instead.\n",
            "  warnings.warn(\"Warning: in file %s, \"%(self.filename)+\n",
            "\n",
            "t:  86%|████████▌ | 361/420 [00:58<00:07,  7.68it/s, now=None]WARNING:py.warnings:/usr/local/lib/python3.10/dist-packages/moviepy/video/io/ffmpeg_reader.py:123: UserWarning: Warning: in file /content/drive/MyDrive/siwake/video/takahiro (6) (8).MTS, 6220800 bytes wanted but 0 bytes read,at frame 360/693, at time 6.01/11.55 sec. Using the last valid frame instead.\n",
            "  warnings.warn(\"Warning: in file %s, \"%(self.filename)+\n",
            "\n",
            "WARNING:py.warnings:/usr/local/lib/python3.10/dist-packages/moviepy/video/io/ffmpeg_reader.py:123: UserWarning: Warning: in file /content/drive/MyDrive/siwake/video/takahiro (6) (8).MTS, 6220800 bytes wanted but 0 bytes read,at frame 361/693, at time 6.02/11.55 sec. Using the last valid frame instead.\n",
            "  warnings.warn(\"Warning: in file %s, \"%(self.filename)+\n",
            "\n",
            "t:  86%|████████▋ | 363/420 [00:58<00:07,  7.15it/s, now=None]WARNING:py.warnings:/usr/local/lib/python3.10/dist-packages/moviepy/video/io/ffmpeg_reader.py:123: UserWarning: Warning: in file /content/drive/MyDrive/siwake/video/takahiro (6) (8).MTS, 6220800 bytes wanted but 0 bytes read,at frame 362/693, at time 6.04/11.55 sec. Using the last valid frame instead.\n",
            "  warnings.warn(\"Warning: in file %s, \"%(self.filename)+\n",
            "\n",
            "t:  87%|████████▋ | 364/420 [00:58<00:08,  6.96it/s, now=None]WARNING:py.warnings:/usr/local/lib/python3.10/dist-packages/moviepy/video/io/ffmpeg_reader.py:123: UserWarning: Warning: in file /content/drive/MyDrive/siwake/video/takahiro (6) (8).MTS, 6220800 bytes wanted but 0 bytes read,at frame 363/693, at time 6.06/11.55 sec. Using the last valid frame instead.\n",
            "  warnings.warn(\"Warning: in file %s, \"%(self.filename)+\n",
            "\n",
            "WARNING:py.warnings:/usr/local/lib/python3.10/dist-packages/moviepy/video/io/ffmpeg_reader.py:123: UserWarning: Warning: in file /content/drive/MyDrive/siwake/video/takahiro (6) (8).MTS, 6220800 bytes wanted but 0 bytes read,at frame 364/693, at time 6.07/11.55 sec. Using the last valid frame instead.\n",
            "  warnings.warn(\"Warning: in file %s, \"%(self.filename)+\n",
            "\n",
            "t:  87%|████████▋ | 366/420 [00:58<00:05,  9.15it/s, now=None]WARNING:py.warnings:/usr/local/lib/python3.10/dist-packages/moviepy/video/io/ffmpeg_reader.py:123: UserWarning: Warning: in file /content/drive/MyDrive/siwake/video/takahiro (6) (8).MTS, 6220800 bytes wanted but 0 bytes read,at frame 365/693, at time 6.09/11.55 sec. Using the last valid frame instead.\n",
            "  warnings.warn(\"Warning: in file %s, \"%(self.filename)+\n",
            "\n",
            "WARNING:py.warnings:/usr/local/lib/python3.10/dist-packages/moviepy/video/io/ffmpeg_reader.py:123: UserWarning: Warning: in file /content/drive/MyDrive/siwake/video/takahiro (6) (8).MTS, 6220800 bytes wanted but 0 bytes read,at frame 366/693, at time 6.11/11.55 sec. Using the last valid frame instead.\n",
            "  warnings.warn(\"Warning: in file %s, \"%(self.filename)+\n",
            "\n",
            "t:  88%|████████▊ | 368/420 [00:59<00:07,  6.53it/s, now=None]WARNING:py.warnings:/usr/local/lib/python3.10/dist-packages/moviepy/video/io/ffmpeg_reader.py:123: UserWarning: Warning: in file /content/drive/MyDrive/siwake/video/takahiro (6) (8).MTS, 6220800 bytes wanted but 0 bytes read,at frame 367/693, at time 6.12/11.55 sec. Using the last valid frame instead.\n",
            "  warnings.warn(\"Warning: in file %s, \"%(self.filename)+\n",
            "\n",
            "WARNING:py.warnings:/usr/local/lib/python3.10/dist-packages/moviepy/video/io/ffmpeg_reader.py:123: UserWarning: Warning: in file /content/drive/MyDrive/siwake/video/takahiro (6) (8).MTS, 6220800 bytes wanted but 0 bytes read,at frame 368/693, at time 6.14/11.55 sec. Using the last valid frame instead.\n",
            "  warnings.warn(\"Warning: in file %s, \"%(self.filename)+\n",
            "\n",
            "t:  88%|████████▊ | 370/420 [00:59<00:06,  8.25it/s, now=None]WARNING:py.warnings:/usr/local/lib/python3.10/dist-packages/moviepy/video/io/ffmpeg_reader.py:123: UserWarning: Warning: in file /content/drive/MyDrive/siwake/video/takahiro (6) (8).MTS, 6220800 bytes wanted but 0 bytes read,at frame 369/693, at time 6.16/11.55 sec. Using the last valid frame instead.\n",
            "  warnings.warn(\"Warning: in file %s, \"%(self.filename)+\n",
            "\n",
            "WARNING:py.warnings:/usr/local/lib/python3.10/dist-packages/moviepy/video/io/ffmpeg_reader.py:123: UserWarning: Warning: in file /content/drive/MyDrive/siwake/video/takahiro (6) (8).MTS, 6220800 bytes wanted but 0 bytes read,at frame 370/693, at time 6.17/11.55 sec. Using the last valid frame instead.\n",
            "  warnings.warn(\"Warning: in file %s, \"%(self.filename)+\n",
            "\n",
            "t:  89%|████████▊ | 372/420 [00:59<00:07,  6.05it/s, now=None]WARNING:py.warnings:/usr/local/lib/python3.10/dist-packages/moviepy/video/io/ffmpeg_reader.py:123: UserWarning: Warning: in file /content/drive/MyDrive/siwake/video/takahiro (6) (8).MTS, 6220800 bytes wanted but 0 bytes read,at frame 371/693, at time 6.19/11.55 sec. Using the last valid frame instead.\n",
            "  warnings.warn(\"Warning: in file %s, \"%(self.filename)+\n",
            "\n",
            "WARNING:py.warnings:/usr/local/lib/python3.10/dist-packages/moviepy/video/io/ffmpeg_reader.py:123: UserWarning: Warning: in file /content/drive/MyDrive/siwake/video/takahiro (6) (8).MTS, 6220800 bytes wanted but 0 bytes read,at frame 372/693, at time 6.21/11.55 sec. Using the last valid frame instead.\n",
            "  warnings.warn(\"Warning: in file %s, \"%(self.filename)+\n",
            "\n",
            "t:  89%|████████▉ | 374/420 [01:00<00:06,  7.48it/s, now=None]WARNING:py.warnings:/usr/local/lib/python3.10/dist-packages/moviepy/video/io/ffmpeg_reader.py:123: UserWarning: Warning: in file /content/drive/MyDrive/siwake/video/takahiro (6) (8).MTS, 6220800 bytes wanted but 0 bytes read,at frame 373/693, at time 6.22/11.55 sec. Using the last valid frame instead.\n",
            "  warnings.warn(\"Warning: in file %s, \"%(self.filename)+\n",
            "\n",
            "WARNING:py.warnings:/usr/local/lib/python3.10/dist-packages/moviepy/video/io/ffmpeg_reader.py:123: UserWarning: Warning: in file /content/drive/MyDrive/siwake/video/takahiro (6) (8).MTS, 6220800 bytes wanted but 0 bytes read,at frame 374/693, at time 6.24/11.55 sec. Using the last valid frame instead.\n",
            "  warnings.warn(\"Warning: in file %s, \"%(self.filename)+\n",
            "\n",
            "t:  90%|████████▉ | 376/420 [01:00<00:06,  6.92it/s, now=None]WARNING:py.warnings:/usr/local/lib/python3.10/dist-packages/moviepy/video/io/ffmpeg_reader.py:123: UserWarning: Warning: in file /content/drive/MyDrive/siwake/video/takahiro (6) (8).MTS, 6220800 bytes wanted but 0 bytes read,at frame 375/693, at time 6.26/11.55 sec. Using the last valid frame instead.\n",
            "  warnings.warn(\"Warning: in file %s, \"%(self.filename)+\n",
            "\n",
            "WARNING:py.warnings:/usr/local/lib/python3.10/dist-packages/moviepy/video/io/ffmpeg_reader.py:123: UserWarning: Warning: in file /content/drive/MyDrive/siwake/video/takahiro (6) (8).MTS, 6220800 bytes wanted but 0 bytes read,at frame 376/693, at time 6.27/11.55 sec. Using the last valid frame instead.\n",
            "  warnings.warn(\"Warning: in file %s, \"%(self.filename)+\n",
            "\n",
            "WARNING:py.warnings:/usr/local/lib/python3.10/dist-packages/moviepy/video/io/ffmpeg_reader.py:123: UserWarning: Warning: in file /content/drive/MyDrive/siwake/video/takahiro (6) (8).MTS, 6220800 bytes wanted but 0 bytes read,at frame 377/693, at time 6.29/11.55 sec. Using the last valid frame instead.\n",
            "  warnings.warn(\"Warning: in file %s, \"%(self.filename)+\n",
            "\n",
            "t:  90%|█████████ | 379/420 [01:00<00:04,  8.50it/s, now=None]WARNING:py.warnings:/usr/local/lib/python3.10/dist-packages/moviepy/video/io/ffmpeg_reader.py:123: UserWarning: Warning: in file /content/drive/MyDrive/siwake/video/takahiro (6) (8).MTS, 6220800 bytes wanted but 0 bytes read,at frame 378/693, at time 6.31/11.55 sec. Using the last valid frame instead.\n",
            "  warnings.warn(\"Warning: in file %s, \"%(self.filename)+\n",
            "\n",
            "WARNING:py.warnings:/usr/local/lib/python3.10/dist-packages/moviepy/video/io/ffmpeg_reader.py:123: UserWarning: Warning: in file /content/drive/MyDrive/siwake/video/takahiro (6) (8).MTS, 6220800 bytes wanted but 0 bytes read,at frame 379/693, at time 6.32/11.55 sec. Using the last valid frame instead.\n",
            "  warnings.warn(\"Warning: in file %s, \"%(self.filename)+\n",
            "\n",
            "t:  91%|█████████ | 381/420 [01:00<00:04,  8.76it/s, now=None]WARNING:py.warnings:/usr/local/lib/python3.10/dist-packages/moviepy/video/io/ffmpeg_reader.py:123: UserWarning: Warning: in file /content/drive/MyDrive/siwake/video/takahiro (6) (8).MTS, 6220800 bytes wanted but 0 bytes read,at frame 380/693, at time 6.34/11.55 sec. Using the last valid frame instead.\n",
            "  warnings.warn(\"Warning: in file %s, \"%(self.filename)+\n",
            "\n",
            "WARNING:py.warnings:/usr/local/lib/python3.10/dist-packages/moviepy/video/io/ffmpeg_reader.py:123: UserWarning: Warning: in file /content/drive/MyDrive/siwake/video/takahiro (6) (8).MTS, 6220800 bytes wanted but 0 bytes read,at frame 381/693, at time 6.36/11.55 sec. Using the last valid frame instead.\n",
            "  warnings.warn(\"Warning: in file %s, \"%(self.filename)+\n",
            "\n",
            "t:  91%|█████████ | 383/420 [01:01<00:04,  8.18it/s, now=None]WARNING:py.warnings:/usr/local/lib/python3.10/dist-packages/moviepy/video/io/ffmpeg_reader.py:123: UserWarning: Warning: in file /content/drive/MyDrive/siwake/video/takahiro (6) (8).MTS, 6220800 bytes wanted but 0 bytes read,at frame 382/693, at time 6.37/11.55 sec. Using the last valid frame instead.\n",
            "  warnings.warn(\"Warning: in file %s, \"%(self.filename)+\n",
            "\n",
            "t:  91%|█████████▏| 384/420 [01:01<00:04,  7.85it/s, now=None]WARNING:py.warnings:/usr/local/lib/python3.10/dist-packages/moviepy/video/io/ffmpeg_reader.py:123: UserWarning: Warning: in file /content/drive/MyDrive/siwake/video/takahiro (6) (8).MTS, 6220800 bytes wanted but 0 bytes read,at frame 383/693, at time 6.39/11.55 sec. Using the last valid frame instead.\n",
            "  warnings.warn(\"Warning: in file %s, \"%(self.filename)+\n",
            "\n",
            "WARNING:py.warnings:/usr/local/lib/python3.10/dist-packages/moviepy/video/io/ffmpeg_reader.py:123: UserWarning: Warning: in file /content/drive/MyDrive/siwake/video/takahiro (6) (8).MTS, 6220800 bytes wanted but 0 bytes read,at frame 384/693, at time 6.41/11.55 sec. Using the last valid frame instead.\n",
            "  warnings.warn(\"Warning: in file %s, \"%(self.filename)+\n",
            "\n",
            "WARNING:py.warnings:/usr/local/lib/python3.10/dist-packages/moviepy/video/io/ffmpeg_reader.py:123: UserWarning: Warning: in file /content/drive/MyDrive/siwake/video/takahiro (6) (8).MTS, 6220800 bytes wanted but 0 bytes read,at frame 385/693, at time 6.42/11.55 sec. Using the last valid frame instead.\n",
            "  warnings.warn(\"Warning: in file %s, \"%(self.filename)+\n",
            "\n",
            "t:  92%|█████████▏| 387/420 [01:01<00:03,  8.78it/s, now=None]WARNING:py.warnings:/usr/local/lib/python3.10/dist-packages/moviepy/video/io/ffmpeg_reader.py:123: UserWarning: Warning: in file /content/drive/MyDrive/siwake/video/takahiro (6) (8).MTS, 6220800 bytes wanted but 0 bytes read,at frame 386/693, at time 6.44/11.55 sec. Using the last valid frame instead.\n",
            "  warnings.warn(\"Warning: in file %s, \"%(self.filename)+\n",
            "\n",
            "t:  92%|█████████▏| 388/420 [01:01<00:03,  8.56it/s, now=None]WARNING:py.warnings:/usr/local/lib/python3.10/dist-packages/moviepy/video/io/ffmpeg_reader.py:123: UserWarning: Warning: in file /content/drive/MyDrive/siwake/video/takahiro (6) (8).MTS, 6220800 bytes wanted but 0 bytes read,at frame 387/693, at time 6.46/11.55 sec. Using the last valid frame instead.\n",
            "  warnings.warn(\"Warning: in file %s, \"%(self.filename)+\n",
            "\n",
            "WARNING:py.warnings:/usr/local/lib/python3.10/dist-packages/moviepy/video/io/ffmpeg_reader.py:123: UserWarning: Warning: in file /content/drive/MyDrive/siwake/video/takahiro (6) (8).MTS, 6220800 bytes wanted but 0 bytes read,at frame 388/693, at time 6.47/11.55 sec. Using the last valid frame instead.\n",
            "  warnings.warn(\"Warning: in file %s, \"%(self.filename)+\n",
            "\n",
            "t:  93%|█████████▎| 390/420 [01:01<00:02, 10.18it/s, now=None]WARNING:py.warnings:/usr/local/lib/python3.10/dist-packages/moviepy/video/io/ffmpeg_reader.py:123: UserWarning: Warning: in file /content/drive/MyDrive/siwake/video/takahiro (6) (8).MTS, 6220800 bytes wanted but 0 bytes read,at frame 389/693, at time 6.49/11.55 sec. Using the last valid frame instead.\n",
            "  warnings.warn(\"Warning: in file %s, \"%(self.filename)+\n",
            "\n",
            "WARNING:py.warnings:/usr/local/lib/python3.10/dist-packages/moviepy/video/io/ffmpeg_reader.py:123: UserWarning: Warning: in file /content/drive/MyDrive/siwake/video/takahiro (6) (8).MTS, 6220800 bytes wanted but 0 bytes read,at frame 390/693, at time 6.51/11.55 sec. Using the last valid frame instead.\n",
            "  warnings.warn(\"Warning: in file %s, \"%(self.filename)+\n",
            "\n",
            "t:  93%|█████████▎| 392/420 [01:01<00:02, 10.25it/s, now=None]WARNING:py.warnings:/usr/local/lib/python3.10/dist-packages/moviepy/video/io/ffmpeg_reader.py:123: UserWarning: Warning: in file /content/drive/MyDrive/siwake/video/takahiro (6) (8).MTS, 6220800 bytes wanted but 0 bytes read,at frame 391/693, at time 6.52/11.55 sec. Using the last valid frame instead.\n",
            "  warnings.warn(\"Warning: in file %s, \"%(self.filename)+\n",
            "\n",
            "WARNING:py.warnings:/usr/local/lib/python3.10/dist-packages/moviepy/video/io/ffmpeg_reader.py:123: UserWarning: Warning: in file /content/drive/MyDrive/siwake/video/takahiro (6) (8).MTS, 6220800 bytes wanted but 0 bytes read,at frame 392/693, at time 6.54/11.55 sec. Using the last valid frame instead.\n",
            "  warnings.warn(\"Warning: in file %s, \"%(self.filename)+\n",
            "\n",
            "t:  94%|█████████▍| 394/420 [01:02<00:03,  8.17it/s, now=None]WARNING:py.warnings:/usr/local/lib/python3.10/dist-packages/moviepy/video/io/ffmpeg_reader.py:123: UserWarning: Warning: in file /content/drive/MyDrive/siwake/video/takahiro (6) (8).MTS, 6220800 bytes wanted but 0 bytes read,at frame 393/693, at time 6.56/11.55 sec. Using the last valid frame instead.\n",
            "  warnings.warn(\"Warning: in file %s, \"%(self.filename)+\n",
            "\n",
            "WARNING:py.warnings:/usr/local/lib/python3.10/dist-packages/moviepy/video/io/ffmpeg_reader.py:123: UserWarning: Warning: in file /content/drive/MyDrive/siwake/video/takahiro (6) (8).MTS, 6220800 bytes wanted but 0 bytes read,at frame 394/693, at time 6.57/11.55 sec. Using the last valid frame instead.\n",
            "  warnings.warn(\"Warning: in file %s, \"%(self.filename)+\n",
            "\n",
            "t:  94%|█████████▍| 396/420 [01:02<00:02,  9.74it/s, now=None]WARNING:py.warnings:/usr/local/lib/python3.10/dist-packages/moviepy/video/io/ffmpeg_reader.py:123: UserWarning: Warning: in file /content/drive/MyDrive/siwake/video/takahiro (6) (8).MTS, 6220800 bytes wanted but 0 bytes read,at frame 395/693, at time 6.59/11.55 sec. Using the last valid frame instead.\n",
            "  warnings.warn(\"Warning: in file %s, \"%(self.filename)+\n",
            "\n",
            "WARNING:py.warnings:/usr/local/lib/python3.10/dist-packages/moviepy/video/io/ffmpeg_reader.py:123: UserWarning: Warning: in file /content/drive/MyDrive/siwake/video/takahiro (6) (8).MTS, 6220800 bytes wanted but 0 bytes read,at frame 396/693, at time 6.61/11.55 sec. Using the last valid frame instead.\n",
            "  warnings.warn(\"Warning: in file %s, \"%(self.filename)+\n",
            "\n",
            "t:  95%|█████████▍| 398/420 [01:02<00:02,  7.96it/s, now=None]WARNING:py.warnings:/usr/local/lib/python3.10/dist-packages/moviepy/video/io/ffmpeg_reader.py:123: UserWarning: Warning: in file /content/drive/MyDrive/siwake/video/takahiro (6) (8).MTS, 6220800 bytes wanted but 0 bytes read,at frame 397/693, at time 6.62/11.55 sec. Using the last valid frame instead.\n",
            "  warnings.warn(\"Warning: in file %s, \"%(self.filename)+\n",
            "\n",
            "WARNING:py.warnings:/usr/local/lib/python3.10/dist-packages/moviepy/video/io/ffmpeg_reader.py:123: UserWarning: Warning: in file /content/drive/MyDrive/siwake/video/takahiro (6) (8).MTS, 6220800 bytes wanted but 0 bytes read,at frame 398/693, at time 6.64/11.55 sec. Using the last valid frame instead.\n",
            "  warnings.warn(\"Warning: in file %s, \"%(self.filename)+\n",
            "\n",
            "t:  95%|█████████▌| 400/420 [01:02<00:02,  9.45it/s, now=None]WARNING:py.warnings:/usr/local/lib/python3.10/dist-packages/moviepy/video/io/ffmpeg_reader.py:123: UserWarning: Warning: in file /content/drive/MyDrive/siwake/video/takahiro (6) (8).MTS, 6220800 bytes wanted but 0 bytes read,at frame 399/693, at time 6.66/11.55 sec. Using the last valid frame instead.\n",
            "  warnings.warn(\"Warning: in file %s, \"%(self.filename)+\n",
            "\n",
            "WARNING:py.warnings:/usr/local/lib/python3.10/dist-packages/moviepy/video/io/ffmpeg_reader.py:123: UserWarning: Warning: in file /content/drive/MyDrive/siwake/video/takahiro (6) (8).MTS, 6220800 bytes wanted but 0 bytes read,at frame 400/693, at time 6.67/11.55 sec. Using the last valid frame instead.\n",
            "  warnings.warn(\"Warning: in file %s, \"%(self.filename)+\n",
            "\n",
            "t:  96%|█████████▌| 402/420 [01:03<00:03,  6.00it/s, now=None]WARNING:py.warnings:/usr/local/lib/python3.10/dist-packages/moviepy/video/io/ffmpeg_reader.py:123: UserWarning: Warning: in file /content/drive/MyDrive/siwake/video/takahiro (6) (8).MTS, 6220800 bytes wanted but 0 bytes read,at frame 401/693, at time 6.69/11.55 sec. Using the last valid frame instead.\n",
            "  warnings.warn(\"Warning: in file %s, \"%(self.filename)+\n",
            "\n",
            "WARNING:py.warnings:/usr/local/lib/python3.10/dist-packages/moviepy/video/io/ffmpeg_reader.py:123: UserWarning: Warning: in file /content/drive/MyDrive/siwake/video/takahiro (6) (8).MTS, 6220800 bytes wanted but 0 bytes read,at frame 402/693, at time 6.71/11.55 sec. Using the last valid frame instead.\n",
            "  warnings.warn(\"Warning: in file %s, \"%(self.filename)+\n",
            "\n",
            "t:  96%|█████████▌| 404/420 [01:03<00:02,  6.77it/s, now=None]WARNING:py.warnings:/usr/local/lib/python3.10/dist-packages/moviepy/video/io/ffmpeg_reader.py:123: UserWarning: Warning: in file /content/drive/MyDrive/siwake/video/takahiro (6) (8).MTS, 6220800 bytes wanted but 0 bytes read,at frame 403/693, at time 6.72/11.55 sec. Using the last valid frame instead.\n",
            "  warnings.warn(\"Warning: in file %s, \"%(self.filename)+\n",
            "\n",
            "WARNING:py.warnings:/usr/local/lib/python3.10/dist-packages/moviepy/video/io/ffmpeg_reader.py:123: UserWarning: Warning: in file /content/drive/MyDrive/siwake/video/takahiro (6) (8).MTS, 6220800 bytes wanted but 0 bytes read,at frame 404/693, at time 6.74/11.55 sec. Using the last valid frame instead.\n",
            "  warnings.warn(\"Warning: in file %s, \"%(self.filename)+\n",
            "\n",
            "WARNING:py.warnings:/usr/local/lib/python3.10/dist-packages/moviepy/video/io/ffmpeg_reader.py:123: UserWarning: Warning: in file /content/drive/MyDrive/siwake/video/takahiro (6) (8).MTS, 6220800 bytes wanted but 0 bytes read,at frame 405/693, at time 6.76/11.55 sec. Using the last valid frame instead.\n",
            "  warnings.warn(\"Warning: in file %s, \"%(self.filename)+\n",
            "\n",
            "t:  97%|█████████▋| 407/420 [01:03<00:01,  8.39it/s, now=None]WARNING:py.warnings:/usr/local/lib/python3.10/dist-packages/moviepy/video/io/ffmpeg_reader.py:123: UserWarning: Warning: in file /content/drive/MyDrive/siwake/video/takahiro (6) (8).MTS, 6220800 bytes wanted but 0 bytes read,at frame 406/693, at time 6.77/11.55 sec. Using the last valid frame instead.\n",
            "  warnings.warn(\"Warning: in file %s, \"%(self.filename)+\n",
            "\n",
            "WARNING:py.warnings:/usr/local/lib/python3.10/dist-packages/moviepy/video/io/ffmpeg_reader.py:123: UserWarning: Warning: in file /content/drive/MyDrive/siwake/video/takahiro (6) (8).MTS, 6220800 bytes wanted but 0 bytes read,at frame 407/693, at time 6.79/11.55 sec. Using the last valid frame instead.\n",
            "  warnings.warn(\"Warning: in file %s, \"%(self.filename)+\n",
            "\n",
            "WARNING:py.warnings:/usr/local/lib/python3.10/dist-packages/moviepy/video/io/ffmpeg_reader.py:123: UserWarning: Warning: in file /content/drive/MyDrive/siwake/video/takahiro (6) (8).MTS, 6220800 bytes wanted but 0 bytes read,at frame 408/693, at time 6.81/11.55 sec. Using the last valid frame instead.\n",
            "  warnings.warn(\"Warning: in file %s, \"%(self.filename)+\n",
            "\n",
            "t:  98%|█████████▊| 410/420 [01:04<00:00, 10.50it/s, now=None]WARNING:py.warnings:/usr/local/lib/python3.10/dist-packages/moviepy/video/io/ffmpeg_reader.py:123: UserWarning: Warning: in file /content/drive/MyDrive/siwake/video/takahiro (6) (8).MTS, 6220800 bytes wanted but 0 bytes read,at frame 409/693, at time 6.82/11.55 sec. Using the last valid frame instead.\n",
            "  warnings.warn(\"Warning: in file %s, \"%(self.filename)+\n",
            "\n",
            "WARNING:py.warnings:/usr/local/lib/python3.10/dist-packages/moviepy/video/io/ffmpeg_reader.py:123: UserWarning: Warning: in file /content/drive/MyDrive/siwake/video/takahiro (6) (8).MTS, 6220800 bytes wanted but 0 bytes read,at frame 410/693, at time 6.84/11.55 sec. Using the last valid frame instead.\n",
            "  warnings.warn(\"Warning: in file %s, \"%(self.filename)+\n",
            "\n",
            "t:  98%|█████████▊| 412/420 [01:04<00:00, 10.89it/s, now=None]WARNING:py.warnings:/usr/local/lib/python3.10/dist-packages/moviepy/video/io/ffmpeg_reader.py:123: UserWarning: Warning: in file /content/drive/MyDrive/siwake/video/takahiro (6) (8).MTS, 6220800 bytes wanted but 0 bytes read,at frame 411/693, at time 6.86/11.55 sec. Using the last valid frame instead.\n",
            "  warnings.warn(\"Warning: in file %s, \"%(self.filename)+\n",
            "\n",
            "WARNING:py.warnings:/usr/local/lib/python3.10/dist-packages/moviepy/video/io/ffmpeg_reader.py:123: UserWarning: Warning: in file /content/drive/MyDrive/siwake/video/takahiro (6) (8).MTS, 6220800 bytes wanted but 0 bytes read,at frame 412/693, at time 6.87/11.55 sec. Using the last valid frame instead.\n",
            "  warnings.warn(\"Warning: in file %s, \"%(self.filename)+\n",
            "\n",
            "t:  99%|█████████▊| 414/420 [01:04<00:00, 11.83it/s, now=None]WARNING:py.warnings:/usr/local/lib/python3.10/dist-packages/moviepy/video/io/ffmpeg_reader.py:123: UserWarning: Warning: in file /content/drive/MyDrive/siwake/video/takahiro (6) (8).MTS, 6220800 bytes wanted but 0 bytes read,at frame 413/693, at time 6.89/11.55 sec. Using the last valid frame instead.\n",
            "  warnings.warn(\"Warning: in file %s, \"%(self.filename)+\n",
            "\n",
            "WARNING:py.warnings:/usr/local/lib/python3.10/dist-packages/moviepy/video/io/ffmpeg_reader.py:123: UserWarning: Warning: in file /content/drive/MyDrive/siwake/video/takahiro (6) (8).MTS, 6220800 bytes wanted but 0 bytes read,at frame 414/693, at time 6.91/11.55 sec. Using the last valid frame instead.\n",
            "  warnings.warn(\"Warning: in file %s, \"%(self.filename)+\n",
            "\n",
            "t:  99%|█████████▉| 416/420 [01:04<00:00, 13.00it/s, now=None]WARNING:py.warnings:/usr/local/lib/python3.10/dist-packages/moviepy/video/io/ffmpeg_reader.py:123: UserWarning: Warning: in file /content/drive/MyDrive/siwake/video/takahiro (6) (8).MTS, 6220800 bytes wanted but 0 bytes read,at frame 415/693, at time 6.92/11.55 sec. Using the last valid frame instead.\n",
            "  warnings.warn(\"Warning: in file %s, \"%(self.filename)+\n",
            "\n",
            "WARNING:py.warnings:/usr/local/lib/python3.10/dist-packages/moviepy/video/io/ffmpeg_reader.py:123: UserWarning: Warning: in file /content/drive/MyDrive/siwake/video/takahiro (6) (8).MTS, 6220800 bytes wanted but 0 bytes read,at frame 416/693, at time 6.94/11.55 sec. Using the last valid frame instead.\n",
            "  warnings.warn(\"Warning: in file %s, \"%(self.filename)+\n",
            "\n",
            "t: 100%|█████████▉| 418/420 [01:04<00:00, 13.70it/s, now=None]WARNING:py.warnings:/usr/local/lib/python3.10/dist-packages/moviepy/video/io/ffmpeg_reader.py:123: UserWarning: Warning: in file /content/drive/MyDrive/siwake/video/takahiro (6) (8).MTS, 6220800 bytes wanted but 0 bytes read,at frame 417/693, at time 6.96/11.55 sec. Using the last valid frame instead.\n",
            "  warnings.warn(\"Warning: in file %s, \"%(self.filename)+\n",
            "\n",
            "WARNING:py.warnings:/usr/local/lib/python3.10/dist-packages/moviepy/video/io/ffmpeg_reader.py:123: UserWarning: Warning: in file /content/drive/MyDrive/siwake/video/takahiro (6) (8).MTS, 6220800 bytes wanted but 0 bytes read,at frame 418/693, at time 6.97/11.55 sec. Using the last valid frame instead.\n",
            "  warnings.warn(\"Warning: in file %s, \"%(self.filename)+\n",
            "\n",
            "t: 100%|██████████| 420/420 [01:04<00:00, 14.08it/s, now=None]WARNING:py.warnings:/usr/local/lib/python3.10/dist-packages/moviepy/video/io/ffmpeg_reader.py:123: UserWarning: Warning: in file /content/drive/MyDrive/siwake/video/takahiro (6) (8).MTS, 6220800 bytes wanted but 0 bytes read,at frame 419/693, at time 6.99/11.55 sec. Using the last valid frame instead.\n",
            "  warnings.warn(\"Warning: in file %s, \"%(self.filename)+\n",
            "\n"
          ]
        },
        {
          "output_type": "stream",
          "name": "stdout",
          "text": [
            "Moviepy - Done !\n",
            "Moviepy - video ready /content/drive/MyDrive/siwake/data/temp_video.mp4\n",
            "MoviePy - Writing audio in /content/drive/MyDrive/siwake/data/temp_audio.wav\n"
          ]
        },
        {
          "output_type": "stream",
          "name": "stderr",
          "text": [
            "                                                                    "
          ]
        },
        {
          "output_type": "stream",
          "name": "stdout",
          "text": [
            "MoviePy - Done.\n"
          ]
        },
        {
          "output_type": "stream",
          "name": "stderr",
          "text": [
            "\r"
          ]
        },
        {
          "output_type": "stream",
          "name": "stdout",
          "text": [
            "Moviepy - Building video /content/drive/MyDrive/siwake/data/temp_video.mp4.\n",
            "MoviePy - Writing audio in temp_videoTEMP_MPY_wvf_snd.mp4\n"
          ]
        },
        {
          "output_type": "stream",
          "name": "stderr",
          "text": []
        },
        {
          "output_type": "stream",
          "name": "stdout",
          "text": [
            "MoviePy - Done.\n",
            "Moviepy - Writing video /content/drive/MyDrive/siwake/data/temp_video.mp4\n",
            "\n"
          ]
        },
        {
          "output_type": "stream",
          "name": "stderr",
          "text": [
            "t:  86%|████████▌ | 362/420 [01:15<00:14,  3.98it/s, now=None]WARNING:py.warnings:/usr/local/lib/python3.10/dist-packages/moviepy/video/io/ffmpeg_reader.py:123: UserWarning: Warning: in file /content/drive/MyDrive/siwake/video/takahiro (6).MTS, 6220800 bytes wanted but 0 bytes read,at frame 361/723, at time 6.02/12.06 sec. Using the last valid frame instead.\n",
            "  warnings.warn(\"Warning: in file %s, \"%(self.filename)+\n",
            "\n",
            "WARNING:py.warnings:/usr/local/lib/python3.10/dist-packages/moviepy/video/io/ffmpeg_reader.py:123: UserWarning: Warning: in file /content/drive/MyDrive/siwake/video/takahiro (6).MTS, 6220800 bytes wanted but 0 bytes read,at frame 362/723, at time 6.04/12.06 sec. Using the last valid frame instead.\n",
            "  warnings.warn(\"Warning: in file %s, \"%(self.filename)+\n",
            "\n",
            "t:  87%|████████▋ | 364/420 [01:16<00:14,  3.89it/s, now=None]WARNING:py.warnings:/usr/local/lib/python3.10/dist-packages/moviepy/video/io/ffmpeg_reader.py:123: UserWarning: Warning: in file /content/drive/MyDrive/siwake/video/takahiro (6).MTS, 6220800 bytes wanted but 0 bytes read,at frame 363/723, at time 6.06/12.06 sec. Using the last valid frame instead.\n",
            "  warnings.warn(\"Warning: in file %s, \"%(self.filename)+\n",
            "\n",
            "t:  87%|████████▋ | 365/420 [01:16<00:13,  4.22it/s, now=None]WARNING:py.warnings:/usr/local/lib/python3.10/dist-packages/moviepy/video/io/ffmpeg_reader.py:123: UserWarning: Warning: in file /content/drive/MyDrive/siwake/video/takahiro (6).MTS, 6220800 bytes wanted but 0 bytes read,at frame 364/723, at time 6.07/12.06 sec. Using the last valid frame instead.\n",
            "  warnings.warn(\"Warning: in file %s, \"%(self.filename)+\n",
            "\n",
            "t:  87%|████████▋ | 366/420 [01:16<00:12,  4.26it/s, now=None]WARNING:py.warnings:/usr/local/lib/python3.10/dist-packages/moviepy/video/io/ffmpeg_reader.py:123: UserWarning: Warning: in file /content/drive/MyDrive/siwake/video/takahiro (6).MTS, 6220800 bytes wanted but 0 bytes read,at frame 365/723, at time 6.09/12.06 sec. Using the last valid frame instead.\n",
            "  warnings.warn(\"Warning: in file %s, \"%(self.filename)+\n",
            "\n",
            "t:  87%|████████▋ | 367/420 [01:16<00:11,  4.51it/s, now=None]WARNING:py.warnings:/usr/local/lib/python3.10/dist-packages/moviepy/video/io/ffmpeg_reader.py:123: UserWarning: Warning: in file /content/drive/MyDrive/siwake/video/takahiro (6).MTS, 6220800 bytes wanted but 0 bytes read,at frame 366/723, at time 6.11/12.06 sec. Using the last valid frame instead.\n",
            "  warnings.warn(\"Warning: in file %s, \"%(self.filename)+\n",
            "\n",
            "t:  88%|████████▊ | 368/420 [01:17<00:12,  4.16it/s, now=None]WARNING:py.warnings:/usr/local/lib/python3.10/dist-packages/moviepy/video/io/ffmpeg_reader.py:123: UserWarning: Warning: in file /content/drive/MyDrive/siwake/video/takahiro (6).MTS, 6220800 bytes wanted but 0 bytes read,at frame 367/723, at time 6.12/12.06 sec. Using the last valid frame instead.\n",
            "  warnings.warn(\"Warning: in file %s, \"%(self.filename)+\n",
            "\n",
            "t:  88%|████████▊ | 369/420 [01:17<00:11,  4.60it/s, now=None]WARNING:py.warnings:/usr/local/lib/python3.10/dist-packages/moviepy/video/io/ffmpeg_reader.py:123: UserWarning: Warning: in file /content/drive/MyDrive/siwake/video/takahiro (6).MTS, 6220800 bytes wanted but 0 bytes read,at frame 368/723, at time 6.14/12.06 sec. Using the last valid frame instead.\n",
            "  warnings.warn(\"Warning: in file %s, \"%(self.filename)+\n",
            "\n",
            "t:  88%|████████▊ | 370/420 [01:17<00:12,  4.13it/s, now=None]WARNING:py.warnings:/usr/local/lib/python3.10/dist-packages/moviepy/video/io/ffmpeg_reader.py:123: UserWarning: Warning: in file /content/drive/MyDrive/siwake/video/takahiro (6).MTS, 6220800 bytes wanted but 0 bytes read,at frame 369/723, at time 6.16/12.06 sec. Using the last valid frame instead.\n",
            "  warnings.warn(\"Warning: in file %s, \"%(self.filename)+\n",
            "\n",
            "t:  88%|████████▊ | 371/420 [01:17<00:12,  3.82it/s, now=None]WARNING:py.warnings:/usr/local/lib/python3.10/dist-packages/moviepy/video/io/ffmpeg_reader.py:123: UserWarning: Warning: in file /content/drive/MyDrive/siwake/video/takahiro (6).MTS, 6220800 bytes wanted but 0 bytes read,at frame 370/723, at time 6.17/12.06 sec. Using the last valid frame instead.\n",
            "  warnings.warn(\"Warning: in file %s, \"%(self.filename)+\n",
            "\n",
            "t:  89%|████████▊ | 372/420 [01:18<00:13,  3.64it/s, now=None]WARNING:py.warnings:/usr/local/lib/python3.10/dist-packages/moviepy/video/io/ffmpeg_reader.py:123: UserWarning: Warning: in file /content/drive/MyDrive/siwake/video/takahiro (6).MTS, 6220800 bytes wanted but 0 bytes read,at frame 371/723, at time 6.19/12.06 sec. Using the last valid frame instead.\n",
            "  warnings.warn(\"Warning: in file %s, \"%(self.filename)+\n",
            "\n",
            "t:  89%|████████▉ | 373/420 [01:18<00:13,  3.54it/s, now=None]WARNING:py.warnings:/usr/local/lib/python3.10/dist-packages/moviepy/video/io/ffmpeg_reader.py:123: UserWarning: Warning: in file /content/drive/MyDrive/siwake/video/takahiro (6).MTS, 6220800 bytes wanted but 0 bytes read,at frame 372/723, at time 6.21/12.06 sec. Using the last valid frame instead.\n",
            "  warnings.warn(\"Warning: in file %s, \"%(self.filename)+\n",
            "\n",
            "t:  89%|████████▉ | 374/420 [01:18<00:12,  3.57it/s, now=None]WARNING:py.warnings:/usr/local/lib/python3.10/dist-packages/moviepy/video/io/ffmpeg_reader.py:123: UserWarning: Warning: in file /content/drive/MyDrive/siwake/video/takahiro (6).MTS, 6220800 bytes wanted but 0 bytes read,at frame 373/723, at time 6.22/12.06 sec. Using the last valid frame instead.\n",
            "  warnings.warn(\"Warning: in file %s, \"%(self.filename)+\n",
            "\n",
            "t:  89%|████████▉ | 375/420 [01:19<00:13,  3.35it/s, now=None]WARNING:py.warnings:/usr/local/lib/python3.10/dist-packages/moviepy/video/io/ffmpeg_reader.py:123: UserWarning: Warning: in file /content/drive/MyDrive/siwake/video/takahiro (6).MTS, 6220800 bytes wanted but 0 bytes read,at frame 374/723, at time 6.24/12.06 sec. Using the last valid frame instead.\n",
            "  warnings.warn(\"Warning: in file %s, \"%(self.filename)+\n",
            "\n",
            "t:  90%|████████▉ | 376/420 [01:19<00:12,  3.42it/s, now=None]WARNING:py.warnings:/usr/local/lib/python3.10/dist-packages/moviepy/video/io/ffmpeg_reader.py:123: UserWarning: Warning: in file /content/drive/MyDrive/siwake/video/takahiro (6).MTS, 6220800 bytes wanted but 0 bytes read,at frame 375/723, at time 6.26/12.06 sec. Using the last valid frame instead.\n",
            "  warnings.warn(\"Warning: in file %s, \"%(self.filename)+\n",
            "\n",
            "t:  90%|████████▉ | 377/420 [01:19<00:10,  3.97it/s, now=None]WARNING:py.warnings:/usr/local/lib/python3.10/dist-packages/moviepy/video/io/ffmpeg_reader.py:123: UserWarning: Warning: in file /content/drive/MyDrive/siwake/video/takahiro (6).MTS, 6220800 bytes wanted but 0 bytes read,at frame 376/723, at time 6.27/12.06 sec. Using the last valid frame instead.\n",
            "  warnings.warn(\"Warning: in file %s, \"%(self.filename)+\n",
            "\n",
            "WARNING:py.warnings:/usr/local/lib/python3.10/dist-packages/moviepy/video/io/ffmpeg_reader.py:123: UserWarning: Warning: in file /content/drive/MyDrive/siwake/video/takahiro (6).MTS, 6220800 bytes wanted but 0 bytes read,at frame 377/723, at time 6.29/12.06 sec. Using the last valid frame instead.\n",
            "  warnings.warn(\"Warning: in file %s, \"%(self.filename)+\n",
            "\n",
            "t:  90%|█████████ | 379/420 [01:20<00:10,  3.76it/s, now=None]WARNING:py.warnings:/usr/local/lib/python3.10/dist-packages/moviepy/video/io/ffmpeg_reader.py:123: UserWarning: Warning: in file /content/drive/MyDrive/siwake/video/takahiro (6).MTS, 6220800 bytes wanted but 0 bytes read,at frame 378/723, at time 6.31/12.06 sec. Using the last valid frame instead.\n",
            "  warnings.warn(\"Warning: in file %s, \"%(self.filename)+\n",
            "\n",
            "t:  90%|█████████ | 380/420 [01:20<00:09,  4.29it/s, now=None]WARNING:py.warnings:/usr/local/lib/python3.10/dist-packages/moviepy/video/io/ffmpeg_reader.py:123: UserWarning: Warning: in file /content/drive/MyDrive/siwake/video/takahiro (6).MTS, 6220800 bytes wanted but 0 bytes read,at frame 379/723, at time 6.32/12.06 sec. Using the last valid frame instead.\n",
            "  warnings.warn(\"Warning: in file %s, \"%(self.filename)+\n",
            "\n",
            "t:  91%|█████████ | 381/420 [01:20<00:09,  3.99it/s, now=None]WARNING:py.warnings:/usr/local/lib/python3.10/dist-packages/moviepy/video/io/ffmpeg_reader.py:123: UserWarning: Warning: in file /content/drive/MyDrive/siwake/video/takahiro (6).MTS, 6220800 bytes wanted but 0 bytes read,at frame 380/723, at time 6.34/12.06 sec. Using the last valid frame instead.\n",
            "  warnings.warn(\"Warning: in file %s, \"%(self.filename)+\n",
            "\n",
            "t:  91%|█████████ | 382/420 [01:20<00:10,  3.77it/s, now=None]WARNING:py.warnings:/usr/local/lib/python3.10/dist-packages/moviepy/video/io/ffmpeg_reader.py:123: UserWarning: Warning: in file /content/drive/MyDrive/siwake/video/takahiro (6).MTS, 6220800 bytes wanted but 0 bytes read,at frame 381/723, at time 6.36/12.06 sec. Using the last valid frame instead.\n",
            "  warnings.warn(\"Warning: in file %s, \"%(self.filename)+\n",
            "\n",
            "t:  91%|█████████ | 383/420 [01:21<00:13,  2.80it/s, now=None]WARNING:py.warnings:/usr/local/lib/python3.10/dist-packages/moviepy/video/io/ffmpeg_reader.py:123: UserWarning: Warning: in file /content/drive/MyDrive/siwake/video/takahiro (6).MTS, 6220800 bytes wanted but 0 bytes read,at frame 382/723, at time 6.37/12.06 sec. Using the last valid frame instead.\n",
            "  warnings.warn(\"Warning: in file %s, \"%(self.filename)+\n",
            "\n",
            "t:  91%|█████████▏| 384/420 [01:21<00:11,  3.11it/s, now=None]WARNING:py.warnings:/usr/local/lib/python3.10/dist-packages/moviepy/video/io/ffmpeg_reader.py:123: UserWarning: Warning: in file /content/drive/MyDrive/siwake/video/takahiro (6).MTS, 6220800 bytes wanted but 0 bytes read,at frame 383/723, at time 6.39/12.06 sec. Using the last valid frame instead.\n",
            "  warnings.warn(\"Warning: in file %s, \"%(self.filename)+\n",
            "\n",
            "t:  92%|█████████▏| 385/420 [01:21<00:10,  3.49it/s, now=None]WARNING:py.warnings:/usr/local/lib/python3.10/dist-packages/moviepy/video/io/ffmpeg_reader.py:123: UserWarning: Warning: in file /content/drive/MyDrive/siwake/video/takahiro (6).MTS, 6220800 bytes wanted but 0 bytes read,at frame 384/723, at time 6.41/12.06 sec. Using the last valid frame instead.\n",
            "  warnings.warn(\"Warning: in file %s, \"%(self.filename)+\n",
            "\n",
            "t:  92%|█████████▏| 386/420 [01:22<00:09,  3.63it/s, now=None]WARNING:py.warnings:/usr/local/lib/python3.10/dist-packages/moviepy/video/io/ffmpeg_reader.py:123: UserWarning: Warning: in file /content/drive/MyDrive/siwake/video/takahiro (6).MTS, 6220800 bytes wanted but 0 bytes read,at frame 385/723, at time 6.42/12.06 sec. Using the last valid frame instead.\n",
            "  warnings.warn(\"Warning: in file %s, \"%(self.filename)+\n",
            "\n",
            "t:  92%|█████████▏| 387/420 [01:22<00:12,  2.54it/s, now=None]WARNING:py.warnings:/usr/local/lib/python3.10/dist-packages/moviepy/video/io/ffmpeg_reader.py:123: UserWarning: Warning: in file /content/drive/MyDrive/siwake/video/takahiro (6).MTS, 6220800 bytes wanted but 0 bytes read,at frame 386/723, at time 6.44/12.06 sec. Using the last valid frame instead.\n",
            "  warnings.warn(\"Warning: in file %s, \"%(self.filename)+\n",
            "\n",
            "t:  92%|█████████▏| 388/420 [01:23<00:10,  3.00it/s, now=None]WARNING:py.warnings:/usr/local/lib/python3.10/dist-packages/moviepy/video/io/ffmpeg_reader.py:123: UserWarning: Warning: in file /content/drive/MyDrive/siwake/video/takahiro (6).MTS, 6220800 bytes wanted but 0 bytes read,at frame 387/723, at time 6.46/12.06 sec. Using the last valid frame instead.\n",
            "  warnings.warn(\"Warning: in file %s, \"%(self.filename)+\n",
            "\n",
            "t:  93%|█████████▎| 389/420 [01:23<00:08,  3.60it/s, now=None]WARNING:py.warnings:/usr/local/lib/python3.10/dist-packages/moviepy/video/io/ffmpeg_reader.py:123: UserWarning: Warning: in file /content/drive/MyDrive/siwake/video/takahiro (6).MTS, 6220800 bytes wanted but 0 bytes read,at frame 388/723, at time 6.47/12.06 sec. Using the last valid frame instead.\n",
            "  warnings.warn(\"Warning: in file %s, \"%(self.filename)+\n",
            "\n",
            "t:  93%|█████████▎| 390/420 [01:23<00:09,  3.20it/s, now=None]WARNING:py.warnings:/usr/local/lib/python3.10/dist-packages/moviepy/video/io/ffmpeg_reader.py:123: UserWarning: Warning: in file /content/drive/MyDrive/siwake/video/takahiro (6).MTS, 6220800 bytes wanted but 0 bytes read,at frame 389/723, at time 6.49/12.06 sec. Using the last valid frame instead.\n",
            "  warnings.warn(\"Warning: in file %s, \"%(self.filename)+\n",
            "\n",
            "WARNING:py.warnings:/usr/local/lib/python3.10/dist-packages/moviepy/video/io/ffmpeg_reader.py:123: UserWarning: Warning: in file /content/drive/MyDrive/siwake/video/takahiro (6).MTS, 6220800 bytes wanted but 0 bytes read,at frame 390/723, at time 6.51/12.06 sec. Using the last valid frame instead.\n",
            "  warnings.warn(\"Warning: in file %s, \"%(self.filename)+\n",
            "\n",
            "t:  93%|█████████▎| 392/420 [01:24<00:07,  3.72it/s, now=None]WARNING:py.warnings:/usr/local/lib/python3.10/dist-packages/moviepy/video/io/ffmpeg_reader.py:123: UserWarning: Warning: in file /content/drive/MyDrive/siwake/video/takahiro (6).MTS, 6220800 bytes wanted but 0 bytes read,at frame 391/723, at time 6.52/12.06 sec. Using the last valid frame instead.\n",
            "  warnings.warn(\"Warning: in file %s, \"%(self.filename)+\n",
            "\n",
            "t:  94%|█████████▎| 393/420 [01:24<00:06,  3.96it/s, now=None]WARNING:py.warnings:/usr/local/lib/python3.10/dist-packages/moviepy/video/io/ffmpeg_reader.py:123: UserWarning: Warning: in file /content/drive/MyDrive/siwake/video/takahiro (6).MTS, 6220800 bytes wanted but 0 bytes read,at frame 392/723, at time 6.54/12.06 sec. Using the last valid frame instead.\n",
            "  warnings.warn(\"Warning: in file %s, \"%(self.filename)+\n",
            "\n",
            "WARNING:py.warnings:/usr/local/lib/python3.10/dist-packages/moviepy/video/io/ffmpeg_reader.py:123: UserWarning: Warning: in file /content/drive/MyDrive/siwake/video/takahiro (6).MTS, 6220800 bytes wanted but 0 bytes read,at frame 393/723, at time 6.56/12.06 sec. Using the last valid frame instead.\n",
            "  warnings.warn(\"Warning: in file %s, \"%(self.filename)+\n",
            "\n",
            "t:  94%|█████████▍| 395/420 [01:24<00:04,  5.52it/s, now=None]WARNING:py.warnings:/usr/local/lib/python3.10/dist-packages/moviepy/video/io/ffmpeg_reader.py:123: UserWarning: Warning: in file /content/drive/MyDrive/siwake/video/takahiro (6).MTS, 6220800 bytes wanted but 0 bytes read,at frame 394/723, at time 6.57/12.06 sec. Using the last valid frame instead.\n",
            "  warnings.warn(\"Warning: in file %s, \"%(self.filename)+\n",
            "\n",
            "t:  94%|█████████▍| 396/420 [01:24<00:05,  4.36it/s, now=None]WARNING:py.warnings:/usr/local/lib/python3.10/dist-packages/moviepy/video/io/ffmpeg_reader.py:123: UserWarning: Warning: in file /content/drive/MyDrive/siwake/video/takahiro (6).MTS, 6220800 bytes wanted but 0 bytes read,at frame 395/723, at time 6.59/12.06 sec. Using the last valid frame instead.\n",
            "  warnings.warn(\"Warning: in file %s, \"%(self.filename)+\n",
            "\n",
            "t:  95%|█████████▍| 397/420 [01:24<00:04,  5.04it/s, now=None]WARNING:py.warnings:/usr/local/lib/python3.10/dist-packages/moviepy/video/io/ffmpeg_reader.py:123: UserWarning: Warning: in file /content/drive/MyDrive/siwake/video/takahiro (6).MTS, 6220800 bytes wanted but 0 bytes read,at frame 396/723, at time 6.61/12.06 sec. Using the last valid frame instead.\n",
            "  warnings.warn(\"Warning: in file %s, \"%(self.filename)+\n",
            "\n",
            "t:  95%|█████████▍| 398/420 [01:25<00:04,  5.47it/s, now=None]WARNING:py.warnings:/usr/local/lib/python3.10/dist-packages/moviepy/video/io/ffmpeg_reader.py:123: UserWarning: Warning: in file /content/drive/MyDrive/siwake/video/takahiro (6).MTS, 6220800 bytes wanted but 0 bytes read,at frame 397/723, at time 6.62/12.06 sec. Using the last valid frame instead.\n",
            "  warnings.warn(\"Warning: in file %s, \"%(self.filename)+\n",
            "\n",
            "t:  95%|█████████▌| 399/420 [01:25<00:03,  5.27it/s, now=None]WARNING:py.warnings:/usr/local/lib/python3.10/dist-packages/moviepy/video/io/ffmpeg_reader.py:123: UserWarning: Warning: in file /content/drive/MyDrive/siwake/video/takahiro (6).MTS, 6220800 bytes wanted but 0 bytes read,at frame 398/723, at time 6.64/12.06 sec. Using the last valid frame instead.\n",
            "  warnings.warn(\"Warning: in file %s, \"%(self.filename)+\n",
            "\n",
            "t:  95%|█████████▌| 400/420 [01:25<00:03,  5.93it/s, now=None]WARNING:py.warnings:/usr/local/lib/python3.10/dist-packages/moviepy/video/io/ffmpeg_reader.py:123: UserWarning: Warning: in file /content/drive/MyDrive/siwake/video/takahiro (6).MTS, 6220800 bytes wanted but 0 bytes read,at frame 399/723, at time 6.66/12.06 sec. Using the last valid frame instead.\n",
            "  warnings.warn(\"Warning: in file %s, \"%(self.filename)+\n",
            "\n",
            "t:  95%|█████████▌| 401/420 [01:25<00:03,  4.85it/s, now=None]WARNING:py.warnings:/usr/local/lib/python3.10/dist-packages/moviepy/video/io/ffmpeg_reader.py:123: UserWarning: Warning: in file /content/drive/MyDrive/siwake/video/takahiro (6).MTS, 6220800 bytes wanted but 0 bytes read,at frame 400/723, at time 6.67/12.06 sec. Using the last valid frame instead.\n",
            "  warnings.warn(\"Warning: in file %s, \"%(self.filename)+\n",
            "\n",
            "t:  96%|█████████▌| 402/420 [01:25<00:03,  4.94it/s, now=None]WARNING:py.warnings:/usr/local/lib/python3.10/dist-packages/moviepy/video/io/ffmpeg_reader.py:123: UserWarning: Warning: in file /content/drive/MyDrive/siwake/video/takahiro (6).MTS, 6220800 bytes wanted but 0 bytes read,at frame 401/723, at time 6.69/12.06 sec. Using the last valid frame instead.\n",
            "  warnings.warn(\"Warning: in file %s, \"%(self.filename)+\n",
            "\n",
            "t:  96%|█████████▌| 403/420 [01:25<00:03,  5.63it/s, now=None]WARNING:py.warnings:/usr/local/lib/python3.10/dist-packages/moviepy/video/io/ffmpeg_reader.py:123: UserWarning: Warning: in file /content/drive/MyDrive/siwake/video/takahiro (6).MTS, 6220800 bytes wanted but 0 bytes read,at frame 402/723, at time 6.71/12.06 sec. Using the last valid frame instead.\n",
            "  warnings.warn(\"Warning: in file %s, \"%(self.filename)+\n",
            "\n",
            "WARNING:py.warnings:/usr/local/lib/python3.10/dist-packages/moviepy/video/io/ffmpeg_reader.py:123: UserWarning: Warning: in file /content/drive/MyDrive/siwake/video/takahiro (6).MTS, 6220800 bytes wanted but 0 bytes read,at frame 403/723, at time 6.72/12.06 sec. Using the last valid frame instead.\n",
            "  warnings.warn(\"Warning: in file %s, \"%(self.filename)+\n",
            "\n",
            "t:  96%|█████████▋| 405/420 [01:26<00:02,  5.30it/s, now=None]WARNING:py.warnings:/usr/local/lib/python3.10/dist-packages/moviepy/video/io/ffmpeg_reader.py:123: UserWarning: Warning: in file /content/drive/MyDrive/siwake/video/takahiro (6).MTS, 6220800 bytes wanted but 0 bytes read,at frame 404/723, at time 6.74/12.06 sec. Using the last valid frame instead.\n",
            "  warnings.warn(\"Warning: in file %s, \"%(self.filename)+\n",
            "\n",
            "WARNING:py.warnings:/usr/local/lib/python3.10/dist-packages/moviepy/video/io/ffmpeg_reader.py:123: UserWarning: Warning: in file /content/drive/MyDrive/siwake/video/takahiro (6).MTS, 6220800 bytes wanted but 0 bytes read,at frame 405/723, at time 6.76/12.06 sec. Using the last valid frame instead.\n",
            "  warnings.warn(\"Warning: in file %s, \"%(self.filename)+\n",
            "\n",
            "t:  97%|█████████▋| 407/420 [01:26<00:02,  6.35it/s, now=None]WARNING:py.warnings:/usr/local/lib/python3.10/dist-packages/moviepy/video/io/ffmpeg_reader.py:123: UserWarning: Warning: in file /content/drive/MyDrive/siwake/video/takahiro (6).MTS, 6220800 bytes wanted but 0 bytes read,at frame 406/723, at time 6.77/12.06 sec. Using the last valid frame instead.\n",
            "  warnings.warn(\"Warning: in file %s, \"%(self.filename)+\n",
            "\n",
            "t:  97%|█████████▋| 408/420 [01:26<00:01,  6.63it/s, now=None]WARNING:py.warnings:/usr/local/lib/python3.10/dist-packages/moviepy/video/io/ffmpeg_reader.py:123: UserWarning: Warning: in file /content/drive/MyDrive/siwake/video/takahiro (6).MTS, 6220800 bytes wanted but 0 bytes read,at frame 407/723, at time 6.79/12.06 sec. Using the last valid frame instead.\n",
            "  warnings.warn(\"Warning: in file %s, \"%(self.filename)+\n",
            "\n",
            "t:  97%|█████████▋| 409/420 [01:26<00:01,  6.37it/s, now=None]WARNING:py.warnings:/usr/local/lib/python3.10/dist-packages/moviepy/video/io/ffmpeg_reader.py:123: UserWarning: Warning: in file /content/drive/MyDrive/siwake/video/takahiro (6).MTS, 6220800 bytes wanted but 0 bytes read,at frame 408/723, at time 6.81/12.06 sec. Using the last valid frame instead.\n",
            "  warnings.warn(\"Warning: in file %s, \"%(self.filename)+\n",
            "\n",
            "t:  98%|█████████▊| 410/420 [01:26<00:01,  6.92it/s, now=None]WARNING:py.warnings:/usr/local/lib/python3.10/dist-packages/moviepy/video/io/ffmpeg_reader.py:123: UserWarning: Warning: in file /content/drive/MyDrive/siwake/video/takahiro (6).MTS, 6220800 bytes wanted but 0 bytes read,at frame 409/723, at time 6.82/12.06 sec. Using the last valid frame instead.\n",
            "  warnings.warn(\"Warning: in file %s, \"%(self.filename)+\n",
            "\n",
            "WARNING:py.warnings:/usr/local/lib/python3.10/dist-packages/moviepy/video/io/ffmpeg_reader.py:123: UserWarning: Warning: in file /content/drive/MyDrive/siwake/video/takahiro (6).MTS, 6220800 bytes wanted but 0 bytes read,at frame 410/723, at time 6.84/12.06 sec. Using the last valid frame instead.\n",
            "  warnings.warn(\"Warning: in file %s, \"%(self.filename)+\n",
            "\n",
            "t:  98%|█████████▊| 412/420 [01:27<00:01,  6.37it/s, now=None]WARNING:py.warnings:/usr/local/lib/python3.10/dist-packages/moviepy/video/io/ffmpeg_reader.py:123: UserWarning: Warning: in file /content/drive/MyDrive/siwake/video/takahiro (6).MTS, 6220800 bytes wanted but 0 bytes read,at frame 411/723, at time 6.86/12.06 sec. Using the last valid frame instead.\n",
            "  warnings.warn(\"Warning: in file %s, \"%(self.filename)+\n",
            "\n",
            "t:  98%|█████████▊| 413/420 [01:27<00:01,  5.10it/s, now=None]WARNING:py.warnings:/usr/local/lib/python3.10/dist-packages/moviepy/video/io/ffmpeg_reader.py:123: UserWarning: Warning: in file /content/drive/MyDrive/siwake/video/takahiro (6).MTS, 6220800 bytes wanted but 0 bytes read,at frame 412/723, at time 6.87/12.06 sec. Using the last valid frame instead.\n",
            "  warnings.warn(\"Warning: in file %s, \"%(self.filename)+\n",
            "\n",
            "t:  99%|█████████▊| 414/420 [01:27<00:01,  5.16it/s, now=None]WARNING:py.warnings:/usr/local/lib/python3.10/dist-packages/moviepy/video/io/ffmpeg_reader.py:123: UserWarning: Warning: in file /content/drive/MyDrive/siwake/video/takahiro (6).MTS, 6220800 bytes wanted but 0 bytes read,at frame 413/723, at time 6.89/12.06 sec. Using the last valid frame instead.\n",
            "  warnings.warn(\"Warning: in file %s, \"%(self.filename)+\n",
            "\n",
            "t:  99%|█████████▉| 415/420 [01:27<00:00,  5.56it/s, now=None]WARNING:py.warnings:/usr/local/lib/python3.10/dist-packages/moviepy/video/io/ffmpeg_reader.py:123: UserWarning: Warning: in file /content/drive/MyDrive/siwake/video/takahiro (6).MTS, 6220800 bytes wanted but 0 bytes read,at frame 414/723, at time 6.91/12.06 sec. Using the last valid frame instead.\n",
            "  warnings.warn(\"Warning: in file %s, \"%(self.filename)+\n",
            "\n",
            "WARNING:py.warnings:/usr/local/lib/python3.10/dist-packages/moviepy/video/io/ffmpeg_reader.py:123: UserWarning: Warning: in file /content/drive/MyDrive/siwake/video/takahiro (6).MTS, 6220800 bytes wanted but 0 bytes read,at frame 415/723, at time 6.92/12.06 sec. Using the last valid frame instead.\n",
            "  warnings.warn(\"Warning: in file %s, \"%(self.filename)+\n",
            "\n",
            "t:  99%|█████████▉| 417/420 [01:28<00:00,  4.08it/s, now=None]WARNING:py.warnings:/usr/local/lib/python3.10/dist-packages/moviepy/video/io/ffmpeg_reader.py:123: UserWarning: Warning: in file /content/drive/MyDrive/siwake/video/takahiro (6).MTS, 6220800 bytes wanted but 0 bytes read,at frame 416/723, at time 6.94/12.06 sec. Using the last valid frame instead.\n",
            "  warnings.warn(\"Warning: in file %s, \"%(self.filename)+\n",
            "\n",
            "t: 100%|█████████▉| 418/420 [01:28<00:00,  4.47it/s, now=None]WARNING:py.warnings:/usr/local/lib/python3.10/dist-packages/moviepy/video/io/ffmpeg_reader.py:123: UserWarning: Warning: in file /content/drive/MyDrive/siwake/video/takahiro (6).MTS, 6220800 bytes wanted but 0 bytes read,at frame 417/723, at time 6.96/12.06 sec. Using the last valid frame instead.\n",
            "  warnings.warn(\"Warning: in file %s, \"%(self.filename)+\n",
            "\n",
            "WARNING:py.warnings:/usr/local/lib/python3.10/dist-packages/moviepy/video/io/ffmpeg_reader.py:123: UserWarning: Warning: in file /content/drive/MyDrive/siwake/video/takahiro (6).MTS, 6220800 bytes wanted but 0 bytes read,at frame 418/723, at time 6.97/12.06 sec. Using the last valid frame instead.\n",
            "  warnings.warn(\"Warning: in file %s, \"%(self.filename)+\n",
            "\n",
            "t: 100%|██████████| 420/420 [01:28<00:00,  6.45it/s, now=None]WARNING:py.warnings:/usr/local/lib/python3.10/dist-packages/moviepy/video/io/ffmpeg_reader.py:123: UserWarning: Warning: in file /content/drive/MyDrive/siwake/video/takahiro (6).MTS, 6220800 bytes wanted but 0 bytes read,at frame 419/723, at time 6.99/12.06 sec. Using the last valid frame instead.\n",
            "  warnings.warn(\"Warning: in file %s, \"%(self.filename)+\n",
            "\n"
          ]
        },
        {
          "output_type": "stream",
          "name": "stdout",
          "text": [
            "Moviepy - Done !\n",
            "Moviepy - video ready /content/drive/MyDrive/siwake/data/temp_video.mp4\n",
            "MoviePy - Writing audio in /content/drive/MyDrive/siwake/data/temp_audio.wav\n"
          ]
        },
        {
          "output_type": "stream",
          "name": "stderr",
          "text": [
            "                                                        "
          ]
        },
        {
          "output_type": "stream",
          "name": "stdout",
          "text": [
            "MoviePy - Done.\n"
          ]
        },
        {
          "output_type": "stream",
          "name": "stderr",
          "text": [
            "\r"
          ]
        },
        {
          "output_type": "stream",
          "name": "stdout",
          "text": [
            "Moviepy - Building video /content/drive/MyDrive/siwake/data/temp_video.mp4.\n",
            "MoviePy - Writing audio in temp_videoTEMP_MPY_wvf_snd.mp4\n"
          ]
        },
        {
          "output_type": "stream",
          "name": "stderr",
          "text": []
        },
        {
          "output_type": "stream",
          "name": "stdout",
          "text": [
            "MoviePy - Done.\n",
            "Moviepy - Writing video /content/drive/MyDrive/siwake/data/temp_video.mp4\n",
            "\n"
          ]
        },
        {
          "output_type": "stream",
          "name": "stderr",
          "text": []
        },
        {
          "output_type": "stream",
          "name": "stdout",
          "text": [
            "Moviepy - Done !\n",
            "Moviepy - video ready /content/drive/MyDrive/siwake/data/temp_video.mp4\n",
            "MoviePy - Writing audio in /content/drive/MyDrive/siwake/data/temp_audio.wav\n"
          ]
        },
        {
          "output_type": "stream",
          "name": "stderr",
          "text": [
            "                                                        "
          ]
        },
        {
          "output_type": "stream",
          "name": "stdout",
          "text": [
            "MoviePy - Done.\n"
          ]
        },
        {
          "output_type": "stream",
          "name": "stderr",
          "text": [
            "\r"
          ]
        },
        {
          "output_type": "stream",
          "name": "stdout",
          "text": [
            "動画 takahiro (7) (4).MTS の処理中にエラーが発生しました: \n",
            "Moviepy - Building video /content/drive/MyDrive/siwake/data/temp_video.mp4.\n",
            "MoviePy - Writing audio in temp_videoTEMP_MPY_wvf_snd.mp4\n"
          ]
        },
        {
          "output_type": "stream",
          "name": "stderr",
          "text": []
        },
        {
          "output_type": "stream",
          "name": "stdout",
          "text": [
            "MoviePy - Done.\n",
            "Moviepy - Writing video /content/drive/MyDrive/siwake/data/temp_video.mp4\n",
            "\n"
          ]
        },
        {
          "output_type": "stream",
          "name": "stderr",
          "text": []
        },
        {
          "output_type": "stream",
          "name": "stdout",
          "text": [
            "Moviepy - Done !\n",
            "Moviepy - video ready /content/drive/MyDrive/siwake/data/temp_video.mp4\n",
            "MoviePy - Writing audio in /content/drive/MyDrive/siwake/data/temp_audio.wav\n"
          ]
        },
        {
          "output_type": "stream",
          "name": "stderr",
          "text": [
            "                                                        "
          ]
        },
        {
          "output_type": "stream",
          "name": "stdout",
          "text": [
            "MoviePy - Done.\n"
          ]
        },
        {
          "output_type": "stream",
          "name": "stderr",
          "text": [
            "\r"
          ]
        },
        {
          "output_type": "stream",
          "name": "stdout",
          "text": [
            "Moviepy - Building video /content/drive/MyDrive/siwake/data/temp_video.mp4.\n",
            "MoviePy - Writing audio in temp_videoTEMP_MPY_wvf_snd.mp4\n"
          ]
        },
        {
          "output_type": "stream",
          "name": "stderr",
          "text": []
        },
        {
          "output_type": "stream",
          "name": "stdout",
          "text": [
            "MoviePy - Done.\n",
            "Moviepy - Writing video /content/drive/MyDrive/siwake/data/temp_video.mp4\n",
            "\n"
          ]
        },
        {
          "output_type": "stream",
          "name": "stderr",
          "text": []
        },
        {
          "output_type": "stream",
          "name": "stdout",
          "text": [
            "Moviepy - Done !\n",
            "Moviepy - video ready /content/drive/MyDrive/siwake/data/temp_video.mp4\n",
            "MoviePy - Writing audio in /content/drive/MyDrive/siwake/data/temp_audio.wav\n"
          ]
        },
        {
          "output_type": "stream",
          "name": "stderr",
          "text": [
            "                                                        "
          ]
        },
        {
          "output_type": "stream",
          "name": "stdout",
          "text": [
            "MoviePy - Done.\n"
          ]
        },
        {
          "output_type": "stream",
          "name": "stderr",
          "text": [
            "\r"
          ]
        },
        {
          "output_type": "stream",
          "name": "stdout",
          "text": [
            "Moviepy - Building video /content/drive/MyDrive/siwake/data/temp_video.mp4.\n",
            "MoviePy - Writing audio in temp_videoTEMP_MPY_wvf_snd.mp4\n"
          ]
        },
        {
          "output_type": "stream",
          "name": "stderr",
          "text": []
        },
        {
          "output_type": "stream",
          "name": "stdout",
          "text": [
            "MoviePy - Done.\n",
            "Moviepy - Writing video /content/drive/MyDrive/siwake/data/temp_video.mp4\n",
            "\n"
          ]
        },
        {
          "output_type": "stream",
          "name": "stderr",
          "text": []
        },
        {
          "output_type": "stream",
          "name": "stdout",
          "text": [
            "Moviepy - Done !\n",
            "Moviepy - video ready /content/drive/MyDrive/siwake/data/temp_video.mp4\n",
            "MoviePy - Writing audio in /content/drive/MyDrive/siwake/data/temp_audio.wav\n"
          ]
        },
        {
          "output_type": "stream",
          "name": "stderr",
          "text": [
            "                                                        "
          ]
        },
        {
          "output_type": "stream",
          "name": "stdout",
          "text": [
            "MoviePy - Done.\n"
          ]
        },
        {
          "output_type": "stream",
          "name": "stderr",
          "text": [
            "\r"
          ]
        },
        {
          "output_type": "stream",
          "name": "stdout",
          "text": [
            "Moviepy - Building video /content/drive/MyDrive/siwake/data/temp_video.mp4.\n",
            "MoviePy - Writing audio in temp_videoTEMP_MPY_wvf_snd.mp4\n"
          ]
        },
        {
          "output_type": "stream",
          "name": "stderr",
          "text": []
        },
        {
          "output_type": "stream",
          "name": "stdout",
          "text": [
            "MoviePy - Done.\n",
            "Moviepy - Writing video /content/drive/MyDrive/siwake/data/temp_video.mp4\n",
            "\n"
          ]
        },
        {
          "output_type": "stream",
          "name": "stderr",
          "text": []
        },
        {
          "output_type": "stream",
          "name": "stdout",
          "text": [
            "Moviepy - Done !\n",
            "Moviepy - video ready /content/drive/MyDrive/siwake/data/temp_video.mp4\n",
            "MoviePy - Writing audio in /content/drive/MyDrive/siwake/data/temp_audio.wav\n"
          ]
        },
        {
          "output_type": "stream",
          "name": "stderr",
          "text": [
            "                                                                    "
          ]
        },
        {
          "output_type": "stream",
          "name": "stdout",
          "text": [
            "MoviePy - Done.\n"
          ]
        },
        {
          "output_type": "stream",
          "name": "stderr",
          "text": [
            "\r"
          ]
        },
        {
          "output_type": "stream",
          "name": "stdout",
          "text": [
            "Moviepy - Building video /content/drive/MyDrive/siwake/data/temp_video.mp4.\n",
            "MoviePy - Writing audio in temp_videoTEMP_MPY_wvf_snd.mp4\n"
          ]
        },
        {
          "output_type": "stream",
          "name": "stderr",
          "text": []
        },
        {
          "output_type": "stream",
          "name": "stdout",
          "text": [
            "MoviePy - Done.\n",
            "Moviepy - Writing video /content/drive/MyDrive/siwake/data/temp_video.mp4\n",
            "\n"
          ]
        },
        {
          "output_type": "stream",
          "name": "stderr",
          "text": [
            "t:  75%|███████▌  | 317/420 [01:12<00:19,  5.22it/s, now=None]WARNING:py.warnings:/usr/local/lib/python3.10/dist-packages/moviepy/video/io/ffmpeg_reader.py:123: UserWarning: Warning: in file /content/drive/MyDrive/siwake/video/takahiro (9) (3).MTS, 6220800 bytes wanted but 0 bytes read,at frame 316/633, at time 5.27/10.56 sec. Using the last valid frame instead.\n",
            "  warnings.warn(\"Warning: in file %s, \"%(self.filename)+\n",
            "\n",
            "t:  76%|███████▌  | 318/420 [01:12<00:24,  4.11it/s, now=None]WARNING:py.warnings:/usr/local/lib/python3.10/dist-packages/moviepy/video/io/ffmpeg_reader.py:123: UserWarning: Warning: in file /content/drive/MyDrive/siwake/video/takahiro (9) (3).MTS, 6220800 bytes wanted but 0 bytes read,at frame 317/633, at time 5.29/10.56 sec. Using the last valid frame instead.\n",
            "  warnings.warn(\"Warning: in file %s, \"%(self.filename)+\n",
            "\n",
            "t:  76%|███████▌  | 319/420 [01:13<00:21,  4.66it/s, now=None]WARNING:py.warnings:/usr/local/lib/python3.10/dist-packages/moviepy/video/io/ffmpeg_reader.py:123: UserWarning: Warning: in file /content/drive/MyDrive/siwake/video/takahiro (9) (3).MTS, 6220800 bytes wanted but 0 bytes read,at frame 318/633, at time 5.31/10.56 sec. Using the last valid frame instead.\n",
            "  warnings.warn(\"Warning: in file %s, \"%(self.filename)+\n",
            "\n",
            "WARNING:py.warnings:/usr/local/lib/python3.10/dist-packages/moviepy/video/io/ffmpeg_reader.py:123: UserWarning: Warning: in file /content/drive/MyDrive/siwake/video/takahiro (9) (3).MTS, 6220800 bytes wanted but 0 bytes read,at frame 319/633, at time 5.32/10.56 sec. Using the last valid frame instead.\n",
            "  warnings.warn(\"Warning: in file %s, \"%(self.filename)+\n",
            "\n",
            "t:  76%|███████▋  | 321/420 [01:13<00:19,  5.05it/s, now=None]WARNING:py.warnings:/usr/local/lib/python3.10/dist-packages/moviepy/video/io/ffmpeg_reader.py:123: UserWarning: Warning: in file /content/drive/MyDrive/siwake/video/takahiro (9) (3).MTS, 6220800 bytes wanted but 0 bytes read,at frame 320/633, at time 5.34/10.56 sec. Using the last valid frame instead.\n",
            "  warnings.warn(\"Warning: in file %s, \"%(self.filename)+\n",
            "\n",
            "t:  77%|███████▋  | 322/420 [01:13<00:22,  4.37it/s, now=None]WARNING:py.warnings:/usr/local/lib/python3.10/dist-packages/moviepy/video/io/ffmpeg_reader.py:123: UserWarning: Warning: in file /content/drive/MyDrive/siwake/video/takahiro (9) (3).MTS, 6220800 bytes wanted but 0 bytes read,at frame 321/633, at time 5.36/10.56 sec. Using the last valid frame instead.\n",
            "  warnings.warn(\"Warning: in file %s, \"%(self.filename)+\n",
            "\n",
            "t:  77%|███████▋  | 323/420 [01:13<00:20,  4.74it/s, now=None]WARNING:py.warnings:/usr/local/lib/python3.10/dist-packages/moviepy/video/io/ffmpeg_reader.py:123: UserWarning: Warning: in file /content/drive/MyDrive/siwake/video/takahiro (9) (3).MTS, 6220800 bytes wanted but 0 bytes read,at frame 322/633, at time 5.37/10.56 sec. Using the last valid frame instead.\n",
            "  warnings.warn(\"Warning: in file %s, \"%(self.filename)+\n",
            "\n",
            "t:  77%|███████▋  | 324/420 [01:14<00:19,  5.01it/s, now=None]WARNING:py.warnings:/usr/local/lib/python3.10/dist-packages/moviepy/video/io/ffmpeg_reader.py:123: UserWarning: Warning: in file /content/drive/MyDrive/siwake/video/takahiro (9) (3).MTS, 6220800 bytes wanted but 0 bytes read,at frame 323/633, at time 5.39/10.56 sec. Using the last valid frame instead.\n",
            "  warnings.warn(\"Warning: in file %s, \"%(self.filename)+\n",
            "\n",
            "WARNING:py.warnings:/usr/local/lib/python3.10/dist-packages/moviepy/video/io/ffmpeg_reader.py:123: UserWarning: Warning: in file /content/drive/MyDrive/siwake/video/takahiro (9) (3).MTS, 6220800 bytes wanted but 0 bytes read,at frame 324/633, at time 5.41/10.56 sec. Using the last valid frame instead.\n",
            "  warnings.warn(\"Warning: in file %s, \"%(self.filename)+\n",
            "\n",
            "t:  78%|███████▊  | 326/420 [01:14<00:22,  4.18it/s, now=None]WARNING:py.warnings:/usr/local/lib/python3.10/dist-packages/moviepy/video/io/ffmpeg_reader.py:123: UserWarning: Warning: in file /content/drive/MyDrive/siwake/video/takahiro (9) (3).MTS, 6220800 bytes wanted but 0 bytes read,at frame 325/633, at time 5.42/10.56 sec. Using the last valid frame instead.\n",
            "  warnings.warn(\"Warning: in file %s, \"%(self.filename)+\n",
            "\n",
            "t:  78%|███████▊  | 327/420 [01:14<00:20,  4.48it/s, now=None]WARNING:py.warnings:/usr/local/lib/python3.10/dist-packages/moviepy/video/io/ffmpeg_reader.py:123: UserWarning: Warning: in file /content/drive/MyDrive/siwake/video/takahiro (9) (3).MTS, 6220800 bytes wanted but 0 bytes read,at frame 326/633, at time 5.44/10.56 sec. Using the last valid frame instead.\n",
            "  warnings.warn(\"Warning: in file %s, \"%(self.filename)+\n",
            "\n",
            "t:  78%|███████▊  | 328/420 [01:15<00:21,  4.33it/s, now=None]WARNING:py.warnings:/usr/local/lib/python3.10/dist-packages/moviepy/video/io/ffmpeg_reader.py:123: UserWarning: Warning: in file /content/drive/MyDrive/siwake/video/takahiro (9) (3).MTS, 6220800 bytes wanted but 0 bytes read,at frame 327/633, at time 5.46/10.56 sec. Using the last valid frame instead.\n",
            "  warnings.warn(\"Warning: in file %s, \"%(self.filename)+\n",
            "\n",
            "t:  78%|███████▊  | 329/420 [01:15<00:19,  4.56it/s, now=None]WARNING:py.warnings:/usr/local/lib/python3.10/dist-packages/moviepy/video/io/ffmpeg_reader.py:123: UserWarning: Warning: in file /content/drive/MyDrive/siwake/video/takahiro (9) (3).MTS, 6220800 bytes wanted but 0 bytes read,at frame 328/633, at time 5.47/10.56 sec. Using the last valid frame instead.\n",
            "  warnings.warn(\"Warning: in file %s, \"%(self.filename)+\n",
            "\n",
            "t:  79%|███████▊  | 330/420 [01:15<00:31,  2.83it/s, now=None]WARNING:py.warnings:/usr/local/lib/python3.10/dist-packages/moviepy/video/io/ffmpeg_reader.py:123: UserWarning: Warning: in file /content/drive/MyDrive/siwake/video/takahiro (9) (3).MTS, 6220800 bytes wanted but 0 bytes read,at frame 329/633, at time 5.49/10.56 sec. Using the last valid frame instead.\n",
            "  warnings.warn(\"Warning: in file %s, \"%(self.filename)+\n",
            "\n",
            "t:  79%|███████▉  | 331/420 [01:16<00:26,  3.42it/s, now=None]WARNING:py.warnings:/usr/local/lib/python3.10/dist-packages/moviepy/video/io/ffmpeg_reader.py:123: UserWarning: Warning: in file /content/drive/MyDrive/siwake/video/takahiro (9) (3).MTS, 6220800 bytes wanted but 0 bytes read,at frame 330/633, at time 5.51/10.56 sec. Using the last valid frame instead.\n",
            "  warnings.warn(\"Warning: in file %s, \"%(self.filename)+\n",
            "\n",
            "t:  79%|███████▉  | 332/420 [01:16<00:22,  3.90it/s, now=None]WARNING:py.warnings:/usr/local/lib/python3.10/dist-packages/moviepy/video/io/ffmpeg_reader.py:123: UserWarning: Warning: in file /content/drive/MyDrive/siwake/video/takahiro (9) (3).MTS, 6220800 bytes wanted but 0 bytes read,at frame 331/633, at time 5.52/10.56 sec. Using the last valid frame instead.\n",
            "  warnings.warn(\"Warning: in file %s, \"%(self.filename)+\n",
            "\n",
            "t:  79%|███████▉  | 333/420 [01:16<00:23,  3.65it/s, now=None]WARNING:py.warnings:/usr/local/lib/python3.10/dist-packages/moviepy/video/io/ffmpeg_reader.py:123: UserWarning: Warning: in file /content/drive/MyDrive/siwake/video/takahiro (9) (3).MTS, 6220800 bytes wanted but 0 bytes read,at frame 332/633, at time 5.54/10.56 sec. Using the last valid frame instead.\n",
            "  warnings.warn(\"Warning: in file %s, \"%(self.filename)+\n",
            "\n",
            "t:  80%|███████▉  | 334/420 [01:17<00:30,  2.86it/s, now=None]WARNING:py.warnings:/usr/local/lib/python3.10/dist-packages/moviepy/video/io/ffmpeg_reader.py:123: UserWarning: Warning: in file /content/drive/MyDrive/siwake/video/takahiro (9) (3).MTS, 6220800 bytes wanted but 0 bytes read,at frame 333/633, at time 5.56/10.56 sec. Using the last valid frame instead.\n",
            "  warnings.warn(\"Warning: in file %s, \"%(self.filename)+\n",
            "\n",
            "t:  80%|███████▉  | 335/420 [01:17<00:24,  3.43it/s, now=None]WARNING:py.warnings:/usr/local/lib/python3.10/dist-packages/moviepy/video/io/ffmpeg_reader.py:123: UserWarning: Warning: in file /content/drive/MyDrive/siwake/video/takahiro (9) (3).MTS, 6220800 bytes wanted but 0 bytes read,at frame 334/633, at time 5.57/10.56 sec. Using the last valid frame instead.\n",
            "  warnings.warn(\"Warning: in file %s, \"%(self.filename)+\n",
            "\n",
            "t:  80%|████████  | 336/420 [01:17<00:21,  3.96it/s, now=None]WARNING:py.warnings:/usr/local/lib/python3.10/dist-packages/moviepy/video/io/ffmpeg_reader.py:123: UserWarning: Warning: in file /content/drive/MyDrive/siwake/video/takahiro (9) (3).MTS, 6220800 bytes wanted but 0 bytes read,at frame 335/633, at time 5.59/10.56 sec. Using the last valid frame instead.\n",
            "  warnings.warn(\"Warning: in file %s, \"%(self.filename)+\n",
            "\n",
            "t:  80%|████████  | 337/420 [01:17<00:22,  3.71it/s, now=None]WARNING:py.warnings:/usr/local/lib/python3.10/dist-packages/moviepy/video/io/ffmpeg_reader.py:123: UserWarning: Warning: in file /content/drive/MyDrive/siwake/video/takahiro (9) (3).MTS, 6220800 bytes wanted but 0 bytes read,at frame 336/633, at time 5.61/10.56 sec. Using the last valid frame instead.\n",
            "  warnings.warn(\"Warning: in file %s, \"%(self.filename)+\n",
            "\n",
            "t:  80%|████████  | 338/420 [01:18<00:31,  2.60it/s, now=None]WARNING:py.warnings:/usr/local/lib/python3.10/dist-packages/moviepy/video/io/ffmpeg_reader.py:123: UserWarning: Warning: in file /content/drive/MyDrive/siwake/video/takahiro (9) (3).MTS, 6220800 bytes wanted but 0 bytes read,at frame 337/633, at time 5.62/10.56 sec. Using the last valid frame instead.\n",
            "  warnings.warn(\"Warning: in file %s, \"%(self.filename)+\n",
            "\n",
            "t:  81%|████████  | 339/420 [01:18<00:24,  3.26it/s, now=None]WARNING:py.warnings:/usr/local/lib/python3.10/dist-packages/moviepy/video/io/ffmpeg_reader.py:123: UserWarning: Warning: in file /content/drive/MyDrive/siwake/video/takahiro (9) (3).MTS, 6220800 bytes wanted but 0 bytes read,at frame 338/633, at time 5.64/10.56 sec. Using the last valid frame instead.\n",
            "  warnings.warn(\"Warning: in file %s, \"%(self.filename)+\n",
            "\n",
            "t:  81%|████████  | 340/420 [01:18<00:23,  3.43it/s, now=None]WARNING:py.warnings:/usr/local/lib/python3.10/dist-packages/moviepy/video/io/ffmpeg_reader.py:123: UserWarning: Warning: in file /content/drive/MyDrive/siwake/video/takahiro (9) (3).MTS, 6220800 bytes wanted but 0 bytes read,at frame 339/633, at time 5.66/10.56 sec. Using the last valid frame instead.\n",
            "  warnings.warn(\"Warning: in file %s, \"%(self.filename)+\n",
            "\n",
            "t:  81%|████████  | 341/420 [01:18<00:21,  3.76it/s, now=None]WARNING:py.warnings:/usr/local/lib/python3.10/dist-packages/moviepy/video/io/ffmpeg_reader.py:123: UserWarning: Warning: in file /content/drive/MyDrive/siwake/video/takahiro (9) (3).MTS, 6220800 bytes wanted but 0 bytes read,at frame 340/633, at time 5.67/10.56 sec. Using the last valid frame instead.\n",
            "  warnings.warn(\"Warning: in file %s, \"%(self.filename)+\n",
            "\n",
            "t:  81%|████████▏ | 342/420 [01:19<00:28,  2.74it/s, now=None]WARNING:py.warnings:/usr/local/lib/python3.10/dist-packages/moviepy/video/io/ffmpeg_reader.py:123: UserWarning: Warning: in file /content/drive/MyDrive/siwake/video/takahiro (9) (3).MTS, 6220800 bytes wanted but 0 bytes read,at frame 341/633, at time 5.69/10.56 sec. Using the last valid frame instead.\n",
            "  warnings.warn(\"Warning: in file %s, \"%(self.filename)+\n",
            "\n",
            "t:  82%|████████▏ | 343/420 [01:19<00:22,  3.38it/s, now=None]WARNING:py.warnings:/usr/local/lib/python3.10/dist-packages/moviepy/video/io/ffmpeg_reader.py:123: UserWarning: Warning: in file /content/drive/MyDrive/siwake/video/takahiro (9) (3).MTS, 6220800 bytes wanted but 0 bytes read,at frame 342/633, at time 5.71/10.56 sec. Using the last valid frame instead.\n",
            "  warnings.warn(\"Warning: in file %s, \"%(self.filename)+\n",
            "\n",
            "t:  82%|████████▏ | 344/420 [01:19<00:18,  4.06it/s, now=None]WARNING:py.warnings:/usr/local/lib/python3.10/dist-packages/moviepy/video/io/ffmpeg_reader.py:123: UserWarning: Warning: in file /content/drive/MyDrive/siwake/video/takahiro (9) (3).MTS, 6220800 bytes wanted but 0 bytes read,at frame 343/633, at time 5.72/10.56 sec. Using the last valid frame instead.\n",
            "  warnings.warn(\"Warning: in file %s, \"%(self.filename)+\n",
            "\n",
            "t:  82%|████████▏ | 345/420 [01:20<00:18,  4.05it/s, now=None]WARNING:py.warnings:/usr/local/lib/python3.10/dist-packages/moviepy/video/io/ffmpeg_reader.py:123: UserWarning: Warning: in file /content/drive/MyDrive/siwake/video/takahiro (9) (3).MTS, 6220800 bytes wanted but 0 bytes read,at frame 344/633, at time 5.74/10.56 sec. Using the last valid frame instead.\n",
            "  warnings.warn(\"Warning: in file %s, \"%(self.filename)+\n",
            "\n",
            "t:  82%|████████▏ | 346/420 [01:20<00:25,  2.89it/s, now=None]WARNING:py.warnings:/usr/local/lib/python3.10/dist-packages/moviepy/video/io/ffmpeg_reader.py:123: UserWarning: Warning: in file /content/drive/MyDrive/siwake/video/takahiro (9) (3).MTS, 6220800 bytes wanted but 0 bytes read,at frame 345/633, at time 5.76/10.56 sec. Using the last valid frame instead.\n",
            "  warnings.warn(\"Warning: in file %s, \"%(self.filename)+\n",
            "\n",
            "t:  83%|████████▎ | 347/420 [01:20<00:20,  3.55it/s, now=None]WARNING:py.warnings:/usr/local/lib/python3.10/dist-packages/moviepy/video/io/ffmpeg_reader.py:123: UserWarning: Warning: in file /content/drive/MyDrive/siwake/video/takahiro (9) (3).MTS, 6220800 bytes wanted but 0 bytes read,at frame 346/633, at time 5.77/10.56 sec. Using the last valid frame instead.\n",
            "  warnings.warn(\"Warning: in file %s, \"%(self.filename)+\n",
            "\n",
            "t:  83%|████████▎ | 348/420 [01:20<00:17,  4.19it/s, now=None]WARNING:py.warnings:/usr/local/lib/python3.10/dist-packages/moviepy/video/io/ffmpeg_reader.py:123: UserWarning: Warning: in file /content/drive/MyDrive/siwake/video/takahiro (9) (3).MTS, 6220800 bytes wanted but 0 bytes read,at frame 347/633, at time 5.79/10.56 sec. Using the last valid frame instead.\n",
            "  warnings.warn(\"Warning: in file %s, \"%(self.filename)+\n",
            "\n",
            "t:  83%|████████▎ | 349/420 [01:21<00:18,  3.88it/s, now=None]WARNING:py.warnings:/usr/local/lib/python3.10/dist-packages/moviepy/video/io/ffmpeg_reader.py:123: UserWarning: Warning: in file /content/drive/MyDrive/siwake/video/takahiro (9) (3).MTS, 6220800 bytes wanted but 0 bytes read,at frame 348/633, at time 5.81/10.56 sec. Using the last valid frame instead.\n",
            "  warnings.warn(\"Warning: in file %s, \"%(self.filename)+\n",
            "\n",
            "t:  83%|████████▎ | 350/420 [01:21<00:22,  3.16it/s, now=None]WARNING:py.warnings:/usr/local/lib/python3.10/dist-packages/moviepy/video/io/ffmpeg_reader.py:123: UserWarning: Warning: in file /content/drive/MyDrive/siwake/video/takahiro (9) (3).MTS, 6220800 bytes wanted but 0 bytes read,at frame 349/633, at time 5.82/10.56 sec. Using the last valid frame instead.\n",
            "  warnings.warn(\"Warning: in file %s, \"%(self.filename)+\n",
            "\n",
            "t:  84%|████████▎ | 351/420 [01:21<00:17,  3.96it/s, now=None]WARNING:py.warnings:/usr/local/lib/python3.10/dist-packages/moviepy/video/io/ffmpeg_reader.py:123: UserWarning: Warning: in file /content/drive/MyDrive/siwake/video/takahiro (9) (3).MTS, 6220800 bytes wanted but 0 bytes read,at frame 350/633, at time 5.84/10.56 sec. Using the last valid frame instead.\n",
            "  warnings.warn(\"Warning: in file %s, \"%(self.filename)+\n",
            "\n",
            "WARNING:py.warnings:/usr/local/lib/python3.10/dist-packages/moviepy/video/io/ffmpeg_reader.py:123: UserWarning: Warning: in file /content/drive/MyDrive/siwake/video/takahiro (9) (3).MTS, 6220800 bytes wanted but 0 bytes read,at frame 351/633, at time 5.86/10.56 sec. Using the last valid frame instead.\n",
            "  warnings.warn(\"Warning: in file %s, \"%(self.filename)+\n",
            "\n",
            "t:  84%|████████▍ | 353/420 [01:22<00:12,  5.20it/s, now=None]WARNING:py.warnings:/usr/local/lib/python3.10/dist-packages/moviepy/video/io/ffmpeg_reader.py:123: UserWarning: Warning: in file /content/drive/MyDrive/siwake/video/takahiro (9) (3).MTS, 6220800 bytes wanted but 0 bytes read,at frame 352/633, at time 5.87/10.56 sec. Using the last valid frame instead.\n",
            "  warnings.warn(\"Warning: in file %s, \"%(self.filename)+\n",
            "\n",
            "t:  84%|████████▍ | 354/420 [01:22<00:15,  4.23it/s, now=None]WARNING:py.warnings:/usr/local/lib/python3.10/dist-packages/moviepy/video/io/ffmpeg_reader.py:123: UserWarning: Warning: in file /content/drive/MyDrive/siwake/video/takahiro (9) (3).MTS, 6220800 bytes wanted but 0 bytes read,at frame 353/633, at time 5.89/10.56 sec. Using the last valid frame instead.\n",
            "  warnings.warn(\"Warning: in file %s, \"%(self.filename)+\n",
            "\n",
            "t:  85%|████████▍ | 355/420 [01:22<00:13,  4.77it/s, now=None]WARNING:py.warnings:/usr/local/lib/python3.10/dist-packages/moviepy/video/io/ffmpeg_reader.py:123: UserWarning: Warning: in file /content/drive/MyDrive/siwake/video/takahiro (9) (3).MTS, 6220800 bytes wanted but 0 bytes read,at frame 354/633, at time 5.91/10.56 sec. Using the last valid frame instead.\n",
            "  warnings.warn(\"Warning: in file %s, \"%(self.filename)+\n",
            "\n",
            "t:  85%|████████▍ | 356/420 [01:22<00:11,  5.48it/s, now=None]WARNING:py.warnings:/usr/local/lib/python3.10/dist-packages/moviepy/video/io/ffmpeg_reader.py:123: UserWarning: Warning: in file /content/drive/MyDrive/siwake/video/takahiro (9) (3).MTS, 6220800 bytes wanted but 0 bytes read,at frame 355/633, at time 5.92/10.56 sec. Using the last valid frame instead.\n",
            "  warnings.warn(\"Warning: in file %s, \"%(self.filename)+\n",
            "\n",
            "t:  85%|████████▌ | 357/420 [01:22<00:11,  5.61it/s, now=None]WARNING:py.warnings:/usr/local/lib/python3.10/dist-packages/moviepy/video/io/ffmpeg_reader.py:123: UserWarning: Warning: in file /content/drive/MyDrive/siwake/video/takahiro (9) (3).MTS, 6220800 bytes wanted but 0 bytes read,at frame 356/633, at time 5.94/10.56 sec. Using the last valid frame instead.\n",
            "  warnings.warn(\"Warning: in file %s, \"%(self.filename)+\n",
            "\n",
            "t:  85%|████████▌ | 358/420 [01:23<00:14,  4.14it/s, now=None]WARNING:py.warnings:/usr/local/lib/python3.10/dist-packages/moviepy/video/io/ffmpeg_reader.py:123: UserWarning: Warning: in file /content/drive/MyDrive/siwake/video/takahiro (9) (3).MTS, 6220800 bytes wanted but 0 bytes read,at frame 357/633, at time 5.96/10.56 sec. Using the last valid frame instead.\n",
            "  warnings.warn(\"Warning: in file %s, \"%(self.filename)+\n",
            "\n",
            "t:  85%|████████▌ | 359/420 [01:23<00:12,  4.79it/s, now=None]WARNING:py.warnings:/usr/local/lib/python3.10/dist-packages/moviepy/video/io/ffmpeg_reader.py:123: UserWarning: Warning: in file /content/drive/MyDrive/siwake/video/takahiro (9) (3).MTS, 6220800 bytes wanted but 0 bytes read,at frame 358/633, at time 5.97/10.56 sec. Using the last valid frame instead.\n",
            "  warnings.warn(\"Warning: in file %s, \"%(self.filename)+\n",
            "\n",
            "WARNING:py.warnings:/usr/local/lib/python3.10/dist-packages/moviepy/video/io/ffmpeg_reader.py:123: UserWarning: Warning: in file /content/drive/MyDrive/siwake/video/takahiro (9) (3).MTS, 6220800 bytes wanted but 0 bytes read,at frame 359/633, at time 5.99/10.56 sec. Using the last valid frame instead.\n",
            "  warnings.warn(\"Warning: in file %s, \"%(self.filename)+\n",
            "\n",
            "t:  86%|████████▌ | 361/420 [01:23<00:09,  6.04it/s, now=None]WARNING:py.warnings:/usr/local/lib/python3.10/dist-packages/moviepy/video/io/ffmpeg_reader.py:123: UserWarning: Warning: in file /content/drive/MyDrive/siwake/video/takahiro (9) (3).MTS, 6220800 bytes wanted but 0 bytes read,at frame 360/633, at time 6.01/10.56 sec. Using the last valid frame instead.\n",
            "  warnings.warn(\"Warning: in file %s, \"%(self.filename)+\n",
            "\n",
            "t:  86%|████████▌ | 362/420 [01:23<00:12,  4.57it/s, now=None]WARNING:py.warnings:/usr/local/lib/python3.10/dist-packages/moviepy/video/io/ffmpeg_reader.py:123: UserWarning: Warning: in file /content/drive/MyDrive/siwake/video/takahiro (9) (3).MTS, 6220800 bytes wanted but 0 bytes read,at frame 361/633, at time 6.02/10.56 sec. Using the last valid frame instead.\n",
            "  warnings.warn(\"Warning: in file %s, \"%(self.filename)+\n",
            "\n",
            "t:  86%|████████▋ | 363/420 [01:24<00:10,  5.19it/s, now=None]WARNING:py.warnings:/usr/local/lib/python3.10/dist-packages/moviepy/video/io/ffmpeg_reader.py:123: UserWarning: Warning: in file /content/drive/MyDrive/siwake/video/takahiro (9) (3).MTS, 6220800 bytes wanted but 0 bytes read,at frame 362/633, at time 6.04/10.56 sec. Using the last valid frame instead.\n",
            "  warnings.warn(\"Warning: in file %s, \"%(self.filename)+\n",
            "\n",
            "WARNING:py.warnings:/usr/local/lib/python3.10/dist-packages/moviepy/video/io/ffmpeg_reader.py:123: UserWarning: Warning: in file /content/drive/MyDrive/siwake/video/takahiro (9) (3).MTS, 6220800 bytes wanted but 0 bytes read,at frame 363/633, at time 6.06/10.56 sec. Using the last valid frame instead.\n",
            "  warnings.warn(\"Warning: in file %s, \"%(self.filename)+\n",
            "\n",
            "t:  87%|████████▋ | 365/420 [01:24<00:11,  4.94it/s, now=None]WARNING:py.warnings:/usr/local/lib/python3.10/dist-packages/moviepy/video/io/ffmpeg_reader.py:123: UserWarning: Warning: in file /content/drive/MyDrive/siwake/video/takahiro (9) (3).MTS, 6220800 bytes wanted but 0 bytes read,at frame 364/633, at time 6.07/10.56 sec. Using the last valid frame instead.\n",
            "  warnings.warn(\"Warning: in file %s, \"%(self.filename)+\n",
            "\n",
            "t:  87%|████████▋ | 366/420 [01:24<00:10,  5.36it/s, now=None]WARNING:py.warnings:/usr/local/lib/python3.10/dist-packages/moviepy/video/io/ffmpeg_reader.py:123: UserWarning: Warning: in file /content/drive/MyDrive/siwake/video/takahiro (9) (3).MTS, 6220800 bytes wanted but 0 bytes read,at frame 365/633, at time 6.09/10.56 sec. Using the last valid frame instead.\n",
            "  warnings.warn(\"Warning: in file %s, \"%(self.filename)+\n",
            "\n",
            "WARNING:py.warnings:/usr/local/lib/python3.10/dist-packages/moviepy/video/io/ffmpeg_reader.py:123: UserWarning: Warning: in file /content/drive/MyDrive/siwake/video/takahiro (9) (3).MTS, 6220800 bytes wanted but 0 bytes read,at frame 366/633, at time 6.11/10.56 sec. Using the last valid frame instead.\n",
            "  warnings.warn(\"Warning: in file %s, \"%(self.filename)+\n",
            "\n",
            "t:  88%|████████▊ | 368/420 [01:24<00:07,  6.86it/s, now=None]WARNING:py.warnings:/usr/local/lib/python3.10/dist-packages/moviepy/video/io/ffmpeg_reader.py:123: UserWarning: Warning: in file /content/drive/MyDrive/siwake/video/takahiro (9) (3).MTS, 6220800 bytes wanted but 0 bytes read,at frame 367/633, at time 6.12/10.56 sec. Using the last valid frame instead.\n",
            "  warnings.warn(\"Warning: in file %s, \"%(self.filename)+\n",
            "\n",
            "t:  88%|████████▊ | 369/420 [01:25<00:10,  5.05it/s, now=None]WARNING:py.warnings:/usr/local/lib/python3.10/dist-packages/moviepy/video/io/ffmpeg_reader.py:123: UserWarning: Warning: in file /content/drive/MyDrive/siwake/video/takahiro (9) (3).MTS, 6220800 bytes wanted but 0 bytes read,at frame 368/633, at time 6.14/10.56 sec. Using the last valid frame instead.\n",
            "  warnings.warn(\"Warning: in file %s, \"%(self.filename)+\n",
            "\n",
            "t:  88%|████████▊ | 370/420 [01:25<00:09,  5.43it/s, now=None]WARNING:py.warnings:/usr/local/lib/python3.10/dist-packages/moviepy/video/io/ffmpeg_reader.py:123: UserWarning: Warning: in file /content/drive/MyDrive/siwake/video/takahiro (9) (3).MTS, 6220800 bytes wanted but 0 bytes read,at frame 369/633, at time 6.16/10.56 sec. Using the last valid frame instead.\n",
            "  warnings.warn(\"Warning: in file %s, \"%(self.filename)+\n",
            "\n",
            "WARNING:py.warnings:/usr/local/lib/python3.10/dist-packages/moviepy/video/io/ffmpeg_reader.py:123: UserWarning: Warning: in file /content/drive/MyDrive/siwake/video/takahiro (9) (3).MTS, 6220800 bytes wanted but 0 bytes read,at frame 370/633, at time 6.17/10.56 sec. Using the last valid frame instead.\n",
            "  warnings.warn(\"Warning: in file %s, \"%(self.filename)+\n",
            "\n",
            "t:  89%|████████▊ | 372/420 [01:25<00:06,  7.00it/s, now=None]WARNING:py.warnings:/usr/local/lib/python3.10/dist-packages/moviepy/video/io/ffmpeg_reader.py:123: UserWarning: Warning: in file /content/drive/MyDrive/siwake/video/takahiro (9) (3).MTS, 6220800 bytes wanted but 0 bytes read,at frame 371/633, at time 6.19/10.56 sec. Using the last valid frame instead.\n",
            "  warnings.warn(\"Warning: in file %s, \"%(self.filename)+\n",
            "\n",
            "t:  89%|████████▉ | 373/420 [01:26<00:11,  4.21it/s, now=None]WARNING:py.warnings:/usr/local/lib/python3.10/dist-packages/moviepy/video/io/ffmpeg_reader.py:123: UserWarning: Warning: in file /content/drive/MyDrive/siwake/video/takahiro (9) (3).MTS, 6220800 bytes wanted but 0 bytes read,at frame 372/633, at time 6.21/10.56 sec. Using the last valid frame instead.\n",
            "  warnings.warn(\"Warning: in file %s, \"%(self.filename)+\n",
            "\n",
            "t:  89%|████████▉ | 374/420 [01:26<00:09,  4.81it/s, now=None]WARNING:py.warnings:/usr/local/lib/python3.10/dist-packages/moviepy/video/io/ffmpeg_reader.py:123: UserWarning: Warning: in file /content/drive/MyDrive/siwake/video/takahiro (9) (3).MTS, 6220800 bytes wanted but 0 bytes read,at frame 373/633, at time 6.22/10.56 sec. Using the last valid frame instead.\n",
            "  warnings.warn(\"Warning: in file %s, \"%(self.filename)+\n",
            "\n",
            "WARNING:py.warnings:/usr/local/lib/python3.10/dist-packages/moviepy/video/io/ffmpeg_reader.py:123: UserWarning: Warning: in file /content/drive/MyDrive/siwake/video/takahiro (9) (3).MTS, 6220800 bytes wanted but 0 bytes read,at frame 374/633, at time 6.24/10.56 sec. Using the last valid frame instead.\n",
            "  warnings.warn(\"Warning: in file %s, \"%(self.filename)+\n",
            "\n",
            "WARNING:py.warnings:/usr/local/lib/python3.10/dist-packages/moviepy/video/io/ffmpeg_reader.py:123: UserWarning: Warning: in file /content/drive/MyDrive/siwake/video/takahiro (9) (3).MTS, 6220800 bytes wanted but 0 bytes read,at frame 375/633, at time 6.26/10.56 sec. Using the last valid frame instead.\n",
            "  warnings.warn(\"Warning: in file %s, \"%(self.filename)+\n",
            "\n",
            "t:  90%|████████▉ | 377/420 [01:26<00:05,  7.47it/s, now=None]WARNING:py.warnings:/usr/local/lib/python3.10/dist-packages/moviepy/video/io/ffmpeg_reader.py:123: UserWarning: Warning: in file /content/drive/MyDrive/siwake/video/takahiro (9) (3).MTS, 6220800 bytes wanted but 0 bytes read,at frame 376/633, at time 6.27/10.56 sec. Using the last valid frame instead.\n",
            "  warnings.warn(\"Warning: in file %s, \"%(self.filename)+\n",
            "\n",
            "t:  90%|█████████ | 378/420 [01:26<00:05,  7.67it/s, now=None]WARNING:py.warnings:/usr/local/lib/python3.10/dist-packages/moviepy/video/io/ffmpeg_reader.py:123: UserWarning: Warning: in file /content/drive/MyDrive/siwake/video/takahiro (9) (3).MTS, 6220800 bytes wanted but 0 bytes read,at frame 377/633, at time 6.29/10.56 sec. Using the last valid frame instead.\n",
            "  warnings.warn(\"Warning: in file %s, \"%(self.filename)+\n",
            "\n",
            "WARNING:py.warnings:/usr/local/lib/python3.10/dist-packages/moviepy/video/io/ffmpeg_reader.py:123: UserWarning: Warning: in file /content/drive/MyDrive/siwake/video/takahiro (9) (3).MTS, 6220800 bytes wanted but 0 bytes read,at frame 378/633, at time 6.31/10.56 sec. Using the last valid frame instead.\n",
            "  warnings.warn(\"Warning: in file %s, \"%(self.filename)+\n",
            "\n",
            "WARNING:py.warnings:/usr/local/lib/python3.10/dist-packages/moviepy/video/io/ffmpeg_reader.py:123: UserWarning: Warning: in file /content/drive/MyDrive/siwake/video/takahiro (9) (3).MTS, 6220800 bytes wanted but 0 bytes read,at frame 379/633, at time 6.32/10.56 sec. Using the last valid frame instead.\n",
            "  warnings.warn(\"Warning: in file %s, \"%(self.filename)+\n",
            "\n",
            "t:  91%|█████████ | 381/420 [01:26<00:03, 10.20it/s, now=None]WARNING:py.warnings:/usr/local/lib/python3.10/dist-packages/moviepy/video/io/ffmpeg_reader.py:123: UserWarning: Warning: in file /content/drive/MyDrive/siwake/video/takahiro (9) (3).MTS, 6220800 bytes wanted but 0 bytes read,at frame 380/633, at time 6.34/10.56 sec. Using the last valid frame instead.\n",
            "  warnings.warn(\"Warning: in file %s, \"%(self.filename)+\n",
            "\n",
            "WARNING:py.warnings:/usr/local/lib/python3.10/dist-packages/moviepy/video/io/ffmpeg_reader.py:123: UserWarning: Warning: in file /content/drive/MyDrive/siwake/video/takahiro (9) (3).MTS, 6220800 bytes wanted but 0 bytes read,at frame 381/633, at time 6.36/10.56 sec. Using the last valid frame instead.\n",
            "  warnings.warn(\"Warning: in file %s, \"%(self.filename)+\n",
            "\n",
            "t:  91%|█████████ | 383/420 [01:26<00:03, 10.88it/s, now=None]WARNING:py.warnings:/usr/local/lib/python3.10/dist-packages/moviepy/video/io/ffmpeg_reader.py:123: UserWarning: Warning: in file /content/drive/MyDrive/siwake/video/takahiro (9) (3).MTS, 6220800 bytes wanted but 0 bytes read,at frame 382/633, at time 6.37/10.56 sec. Using the last valid frame instead.\n",
            "  warnings.warn(\"Warning: in file %s, \"%(self.filename)+\n",
            "\n",
            "WARNING:py.warnings:/usr/local/lib/python3.10/dist-packages/moviepy/video/io/ffmpeg_reader.py:123: UserWarning: Warning: in file /content/drive/MyDrive/siwake/video/takahiro (9) (3).MTS, 6220800 bytes wanted but 0 bytes read,at frame 383/633, at time 6.39/10.56 sec. Using the last valid frame instead.\n",
            "  warnings.warn(\"Warning: in file %s, \"%(self.filename)+\n",
            "\n",
            "t:  92%|█████████▏| 385/420 [01:26<00:03, 11.28it/s, now=None]WARNING:py.warnings:/usr/local/lib/python3.10/dist-packages/moviepy/video/io/ffmpeg_reader.py:123: UserWarning: Warning: in file /content/drive/MyDrive/siwake/video/takahiro (9) (3).MTS, 6220800 bytes wanted but 0 bytes read,at frame 384/633, at time 6.41/10.56 sec. Using the last valid frame instead.\n",
            "  warnings.warn(\"Warning: in file %s, \"%(self.filename)+\n",
            "\n",
            "WARNING:py.warnings:/usr/local/lib/python3.10/dist-packages/moviepy/video/io/ffmpeg_reader.py:123: UserWarning: Warning: in file /content/drive/MyDrive/siwake/video/takahiro (9) (3).MTS, 6220800 bytes wanted but 0 bytes read,at frame 385/633, at time 6.42/10.56 sec. Using the last valid frame instead.\n",
            "  warnings.warn(\"Warning: in file %s, \"%(self.filename)+\n",
            "\n",
            "t:  92%|█████████▏| 387/420 [01:27<00:02, 12.29it/s, now=None]WARNING:py.warnings:/usr/local/lib/python3.10/dist-packages/moviepy/video/io/ffmpeg_reader.py:123: UserWarning: Warning: in file /content/drive/MyDrive/siwake/video/takahiro (9) (3).MTS, 6220800 bytes wanted but 0 bytes read,at frame 386/633, at time 6.44/10.56 sec. Using the last valid frame instead.\n",
            "  warnings.warn(\"Warning: in file %s, \"%(self.filename)+\n",
            "\n",
            "WARNING:py.warnings:/usr/local/lib/python3.10/dist-packages/moviepy/video/io/ffmpeg_reader.py:123: UserWarning: Warning: in file /content/drive/MyDrive/siwake/video/takahiro (9) (3).MTS, 6220800 bytes wanted but 0 bytes read,at frame 387/633, at time 6.46/10.56 sec. Using the last valid frame instead.\n",
            "  warnings.warn(\"Warning: in file %s, \"%(self.filename)+\n",
            "\n",
            "t:  93%|█████████▎| 389/420 [01:27<00:02, 12.71it/s, now=None]WARNING:py.warnings:/usr/local/lib/python3.10/dist-packages/moviepy/video/io/ffmpeg_reader.py:123: UserWarning: Warning: in file /content/drive/MyDrive/siwake/video/takahiro (9) (3).MTS, 6220800 bytes wanted but 0 bytes read,at frame 388/633, at time 6.47/10.56 sec. Using the last valid frame instead.\n",
            "  warnings.warn(\"Warning: in file %s, \"%(self.filename)+\n",
            "\n",
            "WARNING:py.warnings:/usr/local/lib/python3.10/dist-packages/moviepy/video/io/ffmpeg_reader.py:123: UserWarning: Warning: in file /content/drive/MyDrive/siwake/video/takahiro (9) (3).MTS, 6220800 bytes wanted but 0 bytes read,at frame 389/633, at time 6.49/10.56 sec. Using the last valid frame instead.\n",
            "  warnings.warn(\"Warning: in file %s, \"%(self.filename)+\n",
            "\n",
            "t:  93%|█████████▎| 391/420 [01:27<00:02, 14.01it/s, now=None]WARNING:py.warnings:/usr/local/lib/python3.10/dist-packages/moviepy/video/io/ffmpeg_reader.py:123: UserWarning: Warning: in file /content/drive/MyDrive/siwake/video/takahiro (9) (3).MTS, 6220800 bytes wanted but 0 bytes read,at frame 390/633, at time 6.51/10.56 sec. Using the last valid frame instead.\n",
            "  warnings.warn(\"Warning: in file %s, \"%(self.filename)+\n",
            "\n",
            "WARNING:py.warnings:/usr/local/lib/python3.10/dist-packages/moviepy/video/io/ffmpeg_reader.py:123: UserWarning: Warning: in file /content/drive/MyDrive/siwake/video/takahiro (9) (3).MTS, 6220800 bytes wanted but 0 bytes read,at frame 391/633, at time 6.52/10.56 sec. Using the last valid frame instead.\n",
            "  warnings.warn(\"Warning: in file %s, \"%(self.filename)+\n",
            "\n",
            "t:  94%|█████████▎| 393/420 [01:27<00:01, 13.95it/s, now=None]WARNING:py.warnings:/usr/local/lib/python3.10/dist-packages/moviepy/video/io/ffmpeg_reader.py:123: UserWarning: Warning: in file /content/drive/MyDrive/siwake/video/takahiro (9) (3).MTS, 6220800 bytes wanted but 0 bytes read,at frame 392/633, at time 6.54/10.56 sec. Using the last valid frame instead.\n",
            "  warnings.warn(\"Warning: in file %s, \"%(self.filename)+\n",
            "\n",
            "WARNING:py.warnings:/usr/local/lib/python3.10/dist-packages/moviepy/video/io/ffmpeg_reader.py:123: UserWarning: Warning: in file /content/drive/MyDrive/siwake/video/takahiro (9) (3).MTS, 6220800 bytes wanted but 0 bytes read,at frame 393/633, at time 6.56/10.56 sec. Using the last valid frame instead.\n",
            "  warnings.warn(\"Warning: in file %s, \"%(self.filename)+\n",
            "\n",
            "t:  94%|█████████▍| 395/420 [01:27<00:01, 14.27it/s, now=None]WARNING:py.warnings:/usr/local/lib/python3.10/dist-packages/moviepy/video/io/ffmpeg_reader.py:123: UserWarning: Warning: in file /content/drive/MyDrive/siwake/video/takahiro (9) (3).MTS, 6220800 bytes wanted but 0 bytes read,at frame 394/633, at time 6.57/10.56 sec. Using the last valid frame instead.\n",
            "  warnings.warn(\"Warning: in file %s, \"%(self.filename)+\n",
            "\n",
            "WARNING:py.warnings:/usr/local/lib/python3.10/dist-packages/moviepy/video/io/ffmpeg_reader.py:123: UserWarning: Warning: in file /content/drive/MyDrive/siwake/video/takahiro (9) (3).MTS, 6220800 bytes wanted but 0 bytes read,at frame 395/633, at time 6.59/10.56 sec. Using the last valid frame instead.\n",
            "  warnings.warn(\"Warning: in file %s, \"%(self.filename)+\n",
            "\n",
            "t:  95%|█████████▍| 397/420 [01:27<00:01, 13.03it/s, now=None]WARNING:py.warnings:/usr/local/lib/python3.10/dist-packages/moviepy/video/io/ffmpeg_reader.py:123: UserWarning: Warning: in file /content/drive/MyDrive/siwake/video/takahiro (9) (3).MTS, 6220800 bytes wanted but 0 bytes read,at frame 396/633, at time 6.61/10.56 sec. Using the last valid frame instead.\n",
            "  warnings.warn(\"Warning: in file %s, \"%(self.filename)+\n",
            "\n",
            "WARNING:py.warnings:/usr/local/lib/python3.10/dist-packages/moviepy/video/io/ffmpeg_reader.py:123: UserWarning: Warning: in file /content/drive/MyDrive/siwake/video/takahiro (9) (3).MTS, 6220800 bytes wanted but 0 bytes read,at frame 397/633, at time 6.62/10.56 sec. Using the last valid frame instead.\n",
            "  warnings.warn(\"Warning: in file %s, \"%(self.filename)+\n",
            "\n",
            "t:  95%|█████████▌| 399/420 [01:27<00:01, 14.30it/s, now=None]WARNING:py.warnings:/usr/local/lib/python3.10/dist-packages/moviepy/video/io/ffmpeg_reader.py:123: UserWarning: Warning: in file /content/drive/MyDrive/siwake/video/takahiro (9) (3).MTS, 6220800 bytes wanted but 0 bytes read,at frame 398/633, at time 6.64/10.56 sec. Using the last valid frame instead.\n",
            "  warnings.warn(\"Warning: in file %s, \"%(self.filename)+\n",
            "\n",
            "WARNING:py.warnings:/usr/local/lib/python3.10/dist-packages/moviepy/video/io/ffmpeg_reader.py:123: UserWarning: Warning: in file /content/drive/MyDrive/siwake/video/takahiro (9) (3).MTS, 6220800 bytes wanted but 0 bytes read,at frame 399/633, at time 6.66/10.56 sec. Using the last valid frame instead.\n",
            "  warnings.warn(\"Warning: in file %s, \"%(self.filename)+\n",
            "\n",
            "t:  95%|█████████▌| 401/420 [01:28<00:01, 14.12it/s, now=None]WARNING:py.warnings:/usr/local/lib/python3.10/dist-packages/moviepy/video/io/ffmpeg_reader.py:123: UserWarning: Warning: in file /content/drive/MyDrive/siwake/video/takahiro (9) (3).MTS, 6220800 bytes wanted but 0 bytes read,at frame 400/633, at time 6.67/10.56 sec. Using the last valid frame instead.\n",
            "  warnings.warn(\"Warning: in file %s, \"%(self.filename)+\n",
            "\n",
            "WARNING:py.warnings:/usr/local/lib/python3.10/dist-packages/moviepy/video/io/ffmpeg_reader.py:123: UserWarning: Warning: in file /content/drive/MyDrive/siwake/video/takahiro (9) (3).MTS, 6220800 bytes wanted but 0 bytes read,at frame 401/633, at time 6.69/10.56 sec. Using the last valid frame instead.\n",
            "  warnings.warn(\"Warning: in file %s, \"%(self.filename)+\n",
            "\n",
            "t:  96%|█████████▌| 403/420 [01:28<00:01, 14.74it/s, now=None]WARNING:py.warnings:/usr/local/lib/python3.10/dist-packages/moviepy/video/io/ffmpeg_reader.py:123: UserWarning: Warning: in file /content/drive/MyDrive/siwake/video/takahiro (9) (3).MTS, 6220800 bytes wanted but 0 bytes read,at frame 402/633, at time 6.71/10.56 sec. Using the last valid frame instead.\n",
            "  warnings.warn(\"Warning: in file %s, \"%(self.filename)+\n",
            "\n",
            "WARNING:py.warnings:/usr/local/lib/python3.10/dist-packages/moviepy/video/io/ffmpeg_reader.py:123: UserWarning: Warning: in file /content/drive/MyDrive/siwake/video/takahiro (9) (3).MTS, 6220800 bytes wanted but 0 bytes read,at frame 403/633, at time 6.72/10.56 sec. Using the last valid frame instead.\n",
            "  warnings.warn(\"Warning: in file %s, \"%(self.filename)+\n",
            "\n",
            "t:  96%|█████████▋| 405/420 [01:28<00:01, 14.94it/s, now=None]WARNING:py.warnings:/usr/local/lib/python3.10/dist-packages/moviepy/video/io/ffmpeg_reader.py:123: UserWarning: Warning: in file /content/drive/MyDrive/siwake/video/takahiro (9) (3).MTS, 6220800 bytes wanted but 0 bytes read,at frame 404/633, at time 6.74/10.56 sec. Using the last valid frame instead.\n",
            "  warnings.warn(\"Warning: in file %s, \"%(self.filename)+\n",
            "\n",
            "WARNING:py.warnings:/usr/local/lib/python3.10/dist-packages/moviepy/video/io/ffmpeg_reader.py:123: UserWarning: Warning: in file /content/drive/MyDrive/siwake/video/takahiro (9) (3).MTS, 6220800 bytes wanted but 0 bytes read,at frame 405/633, at time 6.76/10.56 sec. Using the last valid frame instead.\n",
            "  warnings.warn(\"Warning: in file %s, \"%(self.filename)+\n",
            "\n",
            "t:  97%|█████████▋| 407/420 [01:28<00:00, 15.14it/s, now=None]WARNING:py.warnings:/usr/local/lib/python3.10/dist-packages/moviepy/video/io/ffmpeg_reader.py:123: UserWarning: Warning: in file /content/drive/MyDrive/siwake/video/takahiro (9) (3).MTS, 6220800 bytes wanted but 0 bytes read,at frame 406/633, at time 6.77/10.56 sec. Using the last valid frame instead.\n",
            "  warnings.warn(\"Warning: in file %s, \"%(self.filename)+\n",
            "\n",
            "WARNING:py.warnings:/usr/local/lib/python3.10/dist-packages/moviepy/video/io/ffmpeg_reader.py:123: UserWarning: Warning: in file /content/drive/MyDrive/siwake/video/takahiro (9) (3).MTS, 6220800 bytes wanted but 0 bytes read,at frame 407/633, at time 6.79/10.56 sec. Using the last valid frame instead.\n",
            "  warnings.warn(\"Warning: in file %s, \"%(self.filename)+\n",
            "\n",
            "t:  97%|█████████▋| 409/420 [01:28<00:00, 14.87it/s, now=None]WARNING:py.warnings:/usr/local/lib/python3.10/dist-packages/moviepy/video/io/ffmpeg_reader.py:123: UserWarning: Warning: in file /content/drive/MyDrive/siwake/video/takahiro (9) (3).MTS, 6220800 bytes wanted but 0 bytes read,at frame 408/633, at time 6.81/10.56 sec. Using the last valid frame instead.\n",
            "  warnings.warn(\"Warning: in file %s, \"%(self.filename)+\n",
            "\n",
            "WARNING:py.warnings:/usr/local/lib/python3.10/dist-packages/moviepy/video/io/ffmpeg_reader.py:123: UserWarning: Warning: in file /content/drive/MyDrive/siwake/video/takahiro (9) (3).MTS, 6220800 bytes wanted but 0 bytes read,at frame 409/633, at time 6.82/10.56 sec. Using the last valid frame instead.\n",
            "  warnings.warn(\"Warning: in file %s, \"%(self.filename)+\n",
            "\n",
            "t:  98%|█████████▊| 411/420 [01:28<00:00, 15.54it/s, now=None]WARNING:py.warnings:/usr/local/lib/python3.10/dist-packages/moviepy/video/io/ffmpeg_reader.py:123: UserWarning: Warning: in file /content/drive/MyDrive/siwake/video/takahiro (9) (3).MTS, 6220800 bytes wanted but 0 bytes read,at frame 410/633, at time 6.84/10.56 sec. Using the last valid frame instead.\n",
            "  warnings.warn(\"Warning: in file %s, \"%(self.filename)+\n",
            "\n",
            "WARNING:py.warnings:/usr/local/lib/python3.10/dist-packages/moviepy/video/io/ffmpeg_reader.py:123: UserWarning: Warning: in file /content/drive/MyDrive/siwake/video/takahiro (9) (3).MTS, 6220800 bytes wanted but 0 bytes read,at frame 411/633, at time 6.86/10.56 sec. Using the last valid frame instead.\n",
            "  warnings.warn(\"Warning: in file %s, \"%(self.filename)+\n",
            "\n",
            "t:  98%|█████████▊| 413/420 [01:28<00:00, 13.88it/s, now=None]WARNING:py.warnings:/usr/local/lib/python3.10/dist-packages/moviepy/video/io/ffmpeg_reader.py:123: UserWarning: Warning: in file /content/drive/MyDrive/siwake/video/takahiro (9) (3).MTS, 6220800 bytes wanted but 0 bytes read,at frame 412/633, at time 6.87/10.56 sec. Using the last valid frame instead.\n",
            "  warnings.warn(\"Warning: in file %s, \"%(self.filename)+\n",
            "\n",
            "WARNING:py.warnings:/usr/local/lib/python3.10/dist-packages/moviepy/video/io/ffmpeg_reader.py:123: UserWarning: Warning: in file /content/drive/MyDrive/siwake/video/takahiro (9) (3).MTS, 6220800 bytes wanted but 0 bytes read,at frame 413/633, at time 6.89/10.56 sec. Using the last valid frame instead.\n",
            "  warnings.warn(\"Warning: in file %s, \"%(self.filename)+\n",
            "\n",
            "WARNING:py.warnings:/usr/local/lib/python3.10/dist-packages/moviepy/video/io/ffmpeg_reader.py:123: UserWarning: Warning: in file /content/drive/MyDrive/siwake/video/takahiro (9) (3).MTS, 6220800 bytes wanted but 0 bytes read,at frame 414/633, at time 6.91/10.56 sec. Using the last valid frame instead.\n",
            "  warnings.warn(\"Warning: in file %s, \"%(self.filename)+\n",
            "\n",
            "t:  99%|█████████▉| 416/420 [01:29<00:00, 15.07it/s, now=None]WARNING:py.warnings:/usr/local/lib/python3.10/dist-packages/moviepy/video/io/ffmpeg_reader.py:123: UserWarning: Warning: in file /content/drive/MyDrive/siwake/video/takahiro (9) (3).MTS, 6220800 bytes wanted but 0 bytes read,at frame 415/633, at time 6.92/10.56 sec. Using the last valid frame instead.\n",
            "  warnings.warn(\"Warning: in file %s, \"%(self.filename)+\n",
            "\n",
            "WARNING:py.warnings:/usr/local/lib/python3.10/dist-packages/moviepy/video/io/ffmpeg_reader.py:123: UserWarning: Warning: in file /content/drive/MyDrive/siwake/video/takahiro (9) (3).MTS, 6220800 bytes wanted but 0 bytes read,at frame 416/633, at time 6.94/10.56 sec. Using the last valid frame instead.\n",
            "  warnings.warn(\"Warning: in file %s, \"%(self.filename)+\n",
            "\n",
            "t: 100%|█████████▉| 418/420 [01:29<00:00, 14.11it/s, now=None]WARNING:py.warnings:/usr/local/lib/python3.10/dist-packages/moviepy/video/io/ffmpeg_reader.py:123: UserWarning: Warning: in file /content/drive/MyDrive/siwake/video/takahiro (9) (3).MTS, 6220800 bytes wanted but 0 bytes read,at frame 417/633, at time 6.96/10.56 sec. Using the last valid frame instead.\n",
            "  warnings.warn(\"Warning: in file %s, \"%(self.filename)+\n",
            "\n",
            "WARNING:py.warnings:/usr/local/lib/python3.10/dist-packages/moviepy/video/io/ffmpeg_reader.py:123: UserWarning: Warning: in file /content/drive/MyDrive/siwake/video/takahiro (9) (3).MTS, 6220800 bytes wanted but 0 bytes read,at frame 418/633, at time 6.97/10.56 sec. Using the last valid frame instead.\n",
            "  warnings.warn(\"Warning: in file %s, \"%(self.filename)+\n",
            "\n",
            "WARNING:py.warnings:/usr/local/lib/python3.10/dist-packages/moviepy/video/io/ffmpeg_reader.py:123: UserWarning: Warning: in file /content/drive/MyDrive/siwake/video/takahiro (9) (3).MTS, 6220800 bytes wanted but 0 bytes read,at frame 419/633, at time 6.99/10.56 sec. Using the last valid frame instead.\n",
            "  warnings.warn(\"Warning: in file %s, \"%(self.filename)+\n",
            "\n"
          ]
        },
        {
          "output_type": "stream",
          "name": "stdout",
          "text": [
            "Moviepy - Done !\n",
            "Moviepy - video ready /content/drive/MyDrive/siwake/data/temp_video.mp4\n",
            "MoviePy - Writing audio in /content/drive/MyDrive/siwake/data/temp_audio.wav\n"
          ]
        },
        {
          "output_type": "stream",
          "name": "stderr",
          "text": [
            "                                                                    "
          ]
        },
        {
          "output_type": "stream",
          "name": "stdout",
          "text": [
            "MoviePy - Done.\n"
          ]
        },
        {
          "output_type": "stream",
          "name": "stderr",
          "text": [
            "\r"
          ]
        },
        {
          "output_type": "stream",
          "name": "stdout",
          "text": [
            "Moviepy - Building video /content/drive/MyDrive/siwake/data/temp_video.mp4.\n",
            "MoviePy - Writing audio in temp_videoTEMP_MPY_wvf_snd.mp4\n"
          ]
        },
        {
          "output_type": "stream",
          "name": "stderr",
          "text": []
        },
        {
          "output_type": "stream",
          "name": "stdout",
          "text": [
            "MoviePy - Done.\n",
            "Moviepy - Writing video /content/drive/MyDrive/siwake/data/temp_video.mp4\n",
            "\n"
          ]
        },
        {
          "output_type": "stream",
          "name": "stderr",
          "text": []
        },
        {
          "output_type": "stream",
          "name": "stdout",
          "text": [
            "Moviepy - Done !\n",
            "Moviepy - video ready /content/drive/MyDrive/siwake/data/temp_video.mp4\n",
            "MoviePy - Writing audio in /content/drive/MyDrive/siwake/data/temp_audio.wav\n"
          ]
        },
        {
          "output_type": "stream",
          "name": "stderr",
          "text": [
            "                                                        "
          ]
        },
        {
          "output_type": "stream",
          "name": "stdout",
          "text": [
            "MoviePy - Done.\n"
          ]
        },
        {
          "output_type": "stream",
          "name": "stderr",
          "text": [
            "\r"
          ]
        },
        {
          "output_type": "stream",
          "name": "stdout",
          "text": [
            "Moviepy - Building video /content/drive/MyDrive/siwake/data/temp_video.mp4.\n",
            "MoviePy - Writing audio in temp_videoTEMP_MPY_wvf_snd.mp4\n"
          ]
        },
        {
          "output_type": "stream",
          "name": "stderr",
          "text": []
        },
        {
          "output_type": "stream",
          "name": "stdout",
          "text": [
            "MoviePy - Done.\n",
            "Moviepy - Writing video /content/drive/MyDrive/siwake/data/temp_video.mp4\n",
            "\n"
          ]
        },
        {
          "output_type": "stream",
          "name": "stderr",
          "text": []
        },
        {
          "output_type": "stream",
          "name": "stdout",
          "text": [
            "Moviepy - Done !\n",
            "Moviepy - video ready /content/drive/MyDrive/siwake/data/temp_video.mp4\n",
            "MoviePy - Writing audio in /content/drive/MyDrive/siwake/data/temp_audio.wav\n"
          ]
        },
        {
          "output_type": "stream",
          "name": "stderr",
          "text": [
            "                                                        "
          ]
        },
        {
          "output_type": "stream",
          "name": "stdout",
          "text": [
            "MoviePy - Done.\n"
          ]
        },
        {
          "output_type": "stream",
          "name": "stderr",
          "text": [
            "\r"
          ]
        },
        {
          "output_type": "stream",
          "name": "stdout",
          "text": [
            "Moviepy - Building video /content/drive/MyDrive/siwake/data/temp_video.mp4.\n",
            "MoviePy - Writing audio in temp_videoTEMP_MPY_wvf_snd.mp4\n"
          ]
        },
        {
          "output_type": "stream",
          "name": "stderr",
          "text": []
        },
        {
          "output_type": "stream",
          "name": "stdout",
          "text": [
            "MoviePy - Done.\n",
            "Moviepy - Writing video /content/drive/MyDrive/siwake/data/temp_video.mp4\n",
            "\n"
          ]
        },
        {
          "output_type": "stream",
          "name": "stderr",
          "text": []
        },
        {
          "output_type": "stream",
          "name": "stdout",
          "text": [
            "Moviepy - Done !\n",
            "Moviepy - video ready /content/drive/MyDrive/siwake/data/temp_video.mp4\n",
            "MoviePy - Writing audio in /content/drive/MyDrive/siwake/data/temp_audio.wav\n"
          ]
        },
        {
          "output_type": "stream",
          "name": "stderr",
          "text": [
            "                                                                    "
          ]
        },
        {
          "output_type": "stream",
          "name": "stdout",
          "text": [
            "MoviePy - Done.\n"
          ]
        },
        {
          "output_type": "stream",
          "name": "stderr",
          "text": [
            "\r"
          ]
        },
        {
          "output_type": "stream",
          "name": "stdout",
          "text": [
            "Moviepy - Building video /content/drive/MyDrive/siwake/data/temp_video.mp4.\n",
            "MoviePy - Writing audio in temp_videoTEMP_MPY_wvf_snd.mp4\n"
          ]
        },
        {
          "output_type": "stream",
          "name": "stderr",
          "text": []
        },
        {
          "output_type": "stream",
          "name": "stdout",
          "text": [
            "MoviePy - Done.\n",
            "Moviepy - Writing video /content/drive/MyDrive/siwake/data/temp_video.mp4\n",
            "\n"
          ]
        },
        {
          "output_type": "stream",
          "name": "stderr",
          "text": [
            "t:  86%|████████▌ | 362/420 [00:59<00:07,  8.28it/s, now=None]WARNING:py.warnings:/usr/local/lib/python3.10/dist-packages/moviepy/video/io/ffmpeg_reader.py:123: UserWarning: Warning: in file /content/drive/MyDrive/siwake/video/takahiro (10) (6).MTS, 6220800 bytes wanted but 0 bytes read,at frame 361/723, at time 6.02/12.06 sec. Using the last valid frame instead.\n",
            "  warnings.warn(\"Warning: in file %s, \"%(self.filename)+\n",
            "\n",
            "t:  86%|████████▋ | 363/420 [01:00<00:08,  6.73it/s, now=None]WARNING:py.warnings:/usr/local/lib/python3.10/dist-packages/moviepy/video/io/ffmpeg_reader.py:123: UserWarning: Warning: in file /content/drive/MyDrive/siwake/video/takahiro (10) (6).MTS, 6220800 bytes wanted but 0 bytes read,at frame 362/723, at time 6.04/12.06 sec. Using the last valid frame instead.\n",
            "  warnings.warn(\"Warning: in file %s, \"%(self.filename)+\n",
            "\n",
            "t:  87%|████████▋ | 364/420 [01:00<00:08,  6.69it/s, now=None]WARNING:py.warnings:/usr/local/lib/python3.10/dist-packages/moviepy/video/io/ffmpeg_reader.py:123: UserWarning: Warning: in file /content/drive/MyDrive/siwake/video/takahiro (10) (6).MTS, 6220800 bytes wanted but 0 bytes read,at frame 363/723, at time 6.06/12.06 sec. Using the last valid frame instead.\n",
            "  warnings.warn(\"Warning: in file %s, \"%(self.filename)+\n",
            "\n",
            "WARNING:py.warnings:/usr/local/lib/python3.10/dist-packages/moviepy/video/io/ffmpeg_reader.py:123: UserWarning: Warning: in file /content/drive/MyDrive/siwake/video/takahiro (10) (6).MTS, 6220800 bytes wanted but 0 bytes read,at frame 364/723, at time 6.07/12.06 sec. Using the last valid frame instead.\n",
            "  warnings.warn(\"Warning: in file %s, \"%(self.filename)+\n",
            "\n",
            "t:  87%|████████▋ | 366/420 [01:00<00:07,  6.80it/s, now=None]WARNING:py.warnings:/usr/local/lib/python3.10/dist-packages/moviepy/video/io/ffmpeg_reader.py:123: UserWarning: Warning: in file /content/drive/MyDrive/siwake/video/takahiro (10) (6).MTS, 6220800 bytes wanted but 0 bytes read,at frame 365/723, at time 6.09/12.06 sec. Using the last valid frame instead.\n",
            "  warnings.warn(\"Warning: in file %s, \"%(self.filename)+\n",
            "\n",
            "WARNING:py.warnings:/usr/local/lib/python3.10/dist-packages/moviepy/video/io/ffmpeg_reader.py:123: UserWarning: Warning: in file /content/drive/MyDrive/siwake/video/takahiro (10) (6).MTS, 6220800 bytes wanted but 0 bytes read,at frame 366/723, at time 6.11/12.06 sec. Using the last valid frame instead.\n",
            "  warnings.warn(\"Warning: in file %s, \"%(self.filename)+\n",
            "\n",
            "t:  88%|████████▊ | 368/420 [01:00<00:07,  6.68it/s, now=None]WARNING:py.warnings:/usr/local/lib/python3.10/dist-packages/moviepy/video/io/ffmpeg_reader.py:123: UserWarning: Warning: in file /content/drive/MyDrive/siwake/video/takahiro (10) (6).MTS, 6220800 bytes wanted but 0 bytes read,at frame 367/723, at time 6.12/12.06 sec. Using the last valid frame instead.\n",
            "  warnings.warn(\"Warning: in file %s, \"%(self.filename)+\n",
            "\n",
            "t:  88%|████████▊ | 369/420 [01:00<00:07,  7.03it/s, now=None]WARNING:py.warnings:/usr/local/lib/python3.10/dist-packages/moviepy/video/io/ffmpeg_reader.py:123: UserWarning: Warning: in file /content/drive/MyDrive/siwake/video/takahiro (10) (6).MTS, 6220800 bytes wanted but 0 bytes read,at frame 368/723, at time 6.14/12.06 sec. Using the last valid frame instead.\n",
            "  warnings.warn(\"Warning: in file %s, \"%(self.filename)+\n",
            "\n",
            "t:  88%|████████▊ | 370/420 [01:01<00:07,  6.73it/s, now=None]WARNING:py.warnings:/usr/local/lib/python3.10/dist-packages/moviepy/video/io/ffmpeg_reader.py:123: UserWarning: Warning: in file /content/drive/MyDrive/siwake/video/takahiro (10) (6).MTS, 6220800 bytes wanted but 0 bytes read,at frame 369/723, at time 6.16/12.06 sec. Using the last valid frame instead.\n",
            "  warnings.warn(\"Warning: in file %s, \"%(self.filename)+\n",
            "\n",
            "t:  88%|████████▊ | 371/420 [01:01<00:10,  4.85it/s, now=None]WARNING:py.warnings:/usr/local/lib/python3.10/dist-packages/moviepy/video/io/ffmpeg_reader.py:123: UserWarning: Warning: in file /content/drive/MyDrive/siwake/video/takahiro (10) (6).MTS, 6220800 bytes wanted but 0 bytes read,at frame 370/723, at time 6.17/12.06 sec. Using the last valid frame instead.\n",
            "  warnings.warn(\"Warning: in file %s, \"%(self.filename)+\n",
            "\n",
            "t:  89%|████████▊ | 372/420 [01:01<00:09,  5.08it/s, now=None]WARNING:py.warnings:/usr/local/lib/python3.10/dist-packages/moviepy/video/io/ffmpeg_reader.py:123: UserWarning: Warning: in file /content/drive/MyDrive/siwake/video/takahiro (10) (6).MTS, 6220800 bytes wanted but 0 bytes read,at frame 371/723, at time 6.19/12.06 sec. Using the last valid frame instead.\n",
            "  warnings.warn(\"Warning: in file %s, \"%(self.filename)+\n",
            "\n",
            "WARNING:py.warnings:/usr/local/lib/python3.10/dist-packages/moviepy/video/io/ffmpeg_reader.py:123: UserWarning: Warning: in file /content/drive/MyDrive/siwake/video/takahiro (10) (6).MTS, 6220800 bytes wanted but 0 bytes read,at frame 372/723, at time 6.21/12.06 sec. Using the last valid frame instead.\n",
            "  warnings.warn(\"Warning: in file %s, \"%(self.filename)+\n",
            "\n",
            "t:  89%|████████▉ | 374/420 [01:01<00:07,  6.08it/s, now=None]WARNING:py.warnings:/usr/local/lib/python3.10/dist-packages/moviepy/video/io/ffmpeg_reader.py:123: UserWarning: Warning: in file /content/drive/MyDrive/siwake/video/takahiro (10) (6).MTS, 6220800 bytes wanted but 0 bytes read,at frame 373/723, at time 6.22/12.06 sec. Using the last valid frame instead.\n",
            "  warnings.warn(\"Warning: in file %s, \"%(self.filename)+\n",
            "\n",
            "t:  89%|████████▉ | 375/420 [01:02<00:09,  4.97it/s, now=None]WARNING:py.warnings:/usr/local/lib/python3.10/dist-packages/moviepy/video/io/ffmpeg_reader.py:123: UserWarning: Warning: in file /content/drive/MyDrive/siwake/video/takahiro (10) (6).MTS, 6220800 bytes wanted but 0 bytes read,at frame 374/723, at time 6.24/12.06 sec. Using the last valid frame instead.\n",
            "  warnings.warn(\"Warning: in file %s, \"%(self.filename)+\n",
            "\n",
            "WARNING:py.warnings:/usr/local/lib/python3.10/dist-packages/moviepy/video/io/ffmpeg_reader.py:123: UserWarning: Warning: in file /content/drive/MyDrive/siwake/video/takahiro (10) (6).MTS, 6220800 bytes wanted but 0 bytes read,at frame 375/723, at time 6.26/12.06 sec. Using the last valid frame instead.\n",
            "  warnings.warn(\"Warning: in file %s, \"%(self.filename)+\n",
            "\n",
            "t:  90%|████████▉ | 377/420 [01:02<00:07,  5.60it/s, now=None]WARNING:py.warnings:/usr/local/lib/python3.10/dist-packages/moviepy/video/io/ffmpeg_reader.py:123: UserWarning: Warning: in file /content/drive/MyDrive/siwake/video/takahiro (10) (6).MTS, 6220800 bytes wanted but 0 bytes read,at frame 376/723, at time 6.27/12.06 sec. Using the last valid frame instead.\n",
            "  warnings.warn(\"Warning: in file %s, \"%(self.filename)+\n",
            "\n",
            "t:  90%|█████████ | 378/420 [01:02<00:07,  5.95it/s, now=None]WARNING:py.warnings:/usr/local/lib/python3.10/dist-packages/moviepy/video/io/ffmpeg_reader.py:123: UserWarning: Warning: in file /content/drive/MyDrive/siwake/video/takahiro (10) (6).MTS, 6220800 bytes wanted but 0 bytes read,at frame 377/723, at time 6.29/12.06 sec. Using the last valid frame instead.\n",
            "  warnings.warn(\"Warning: in file %s, \"%(self.filename)+\n",
            "\n",
            "t:  90%|█████████ | 379/420 [01:02<00:07,  5.75it/s, now=None]WARNING:py.warnings:/usr/local/lib/python3.10/dist-packages/moviepy/video/io/ffmpeg_reader.py:123: UserWarning: Warning: in file /content/drive/MyDrive/siwake/video/takahiro (10) (6).MTS, 6220800 bytes wanted but 0 bytes read,at frame 378/723, at time 6.31/12.06 sec. Using the last valid frame instead.\n",
            "  warnings.warn(\"Warning: in file %s, \"%(self.filename)+\n",
            "\n",
            "WARNING:py.warnings:/usr/local/lib/python3.10/dist-packages/moviepy/video/io/ffmpeg_reader.py:123: UserWarning: Warning: in file /content/drive/MyDrive/siwake/video/takahiro (10) (6).MTS, 6220800 bytes wanted but 0 bytes read,at frame 379/723, at time 6.32/12.06 sec. Using the last valid frame instead.\n",
            "  warnings.warn(\"Warning: in file %s, \"%(self.filename)+\n",
            "\n",
            "WARNING:py.warnings:/usr/local/lib/python3.10/dist-packages/moviepy/video/io/ffmpeg_reader.py:123: UserWarning: Warning: in file /content/drive/MyDrive/siwake/video/takahiro (10) (6).MTS, 6220800 bytes wanted but 0 bytes read,at frame 380/723, at time 6.34/12.06 sec. Using the last valid frame instead.\n",
            "  warnings.warn(\"Warning: in file %s, \"%(self.filename)+\n",
            "\n",
            "t:  91%|█████████ | 382/420 [01:03<00:04,  7.73it/s, now=None]WARNING:py.warnings:/usr/local/lib/python3.10/dist-packages/moviepy/video/io/ffmpeg_reader.py:123: UserWarning: Warning: in file /content/drive/MyDrive/siwake/video/takahiro (10) (6).MTS, 6220800 bytes wanted but 0 bytes read,at frame 381/723, at time 6.36/12.06 sec. Using the last valid frame instead.\n",
            "  warnings.warn(\"Warning: in file %s, \"%(self.filename)+\n",
            "\n",
            "t:  91%|█████████ | 383/420 [01:03<00:05,  6.77it/s, now=None]WARNING:py.warnings:/usr/local/lib/python3.10/dist-packages/moviepy/video/io/ffmpeg_reader.py:123: UserWarning: Warning: in file /content/drive/MyDrive/siwake/video/takahiro (10) (6).MTS, 6220800 bytes wanted but 0 bytes read,at frame 382/723, at time 6.37/12.06 sec. Using the last valid frame instead.\n",
            "  warnings.warn(\"Warning: in file %s, \"%(self.filename)+\n",
            "\n",
            "WARNING:py.warnings:/usr/local/lib/python3.10/dist-packages/moviepy/video/io/ffmpeg_reader.py:123: UserWarning: Warning: in file /content/drive/MyDrive/siwake/video/takahiro (10) (6).MTS, 6220800 bytes wanted but 0 bytes read,at frame 383/723, at time 6.39/12.06 sec. Using the last valid frame instead.\n",
            "  warnings.warn(\"Warning: in file %s, \"%(self.filename)+\n",
            "\n",
            "t:  92%|█████████▏| 385/420 [01:03<00:04,  8.58it/s, now=None]WARNING:py.warnings:/usr/local/lib/python3.10/dist-packages/moviepy/video/io/ffmpeg_reader.py:123: UserWarning: Warning: in file /content/drive/MyDrive/siwake/video/takahiro (10) (6).MTS, 6220800 bytes wanted but 0 bytes read,at frame 384/723, at time 6.41/12.06 sec. Using the last valid frame instead.\n",
            "  warnings.warn(\"Warning: in file %s, \"%(self.filename)+\n",
            "\n",
            "t:  92%|█████████▏| 386/420 [01:03<00:05,  5.73it/s, now=None]WARNING:py.warnings:/usr/local/lib/python3.10/dist-packages/moviepy/video/io/ffmpeg_reader.py:123: UserWarning: Warning: in file /content/drive/MyDrive/siwake/video/takahiro (10) (6).MTS, 6220800 bytes wanted but 0 bytes read,at frame 385/723, at time 6.42/12.06 sec. Using the last valid frame instead.\n",
            "  warnings.warn(\"Warning: in file %s, \"%(self.filename)+\n",
            "\n",
            "t:  92%|█████████▏| 387/420 [01:03<00:05,  6.00it/s, now=None]WARNING:py.warnings:/usr/local/lib/python3.10/dist-packages/moviepy/video/io/ffmpeg_reader.py:123: UserWarning: Warning: in file /content/drive/MyDrive/siwake/video/takahiro (10) (6).MTS, 6220800 bytes wanted but 0 bytes read,at frame 386/723, at time 6.44/12.06 sec. Using the last valid frame instead.\n",
            "  warnings.warn(\"Warning: in file %s, \"%(self.filename)+\n",
            "\n",
            "WARNING:py.warnings:/usr/local/lib/python3.10/dist-packages/moviepy/video/io/ffmpeg_reader.py:123: UserWarning: Warning: in file /content/drive/MyDrive/siwake/video/takahiro (10) (6).MTS, 6220800 bytes wanted but 0 bytes read,at frame 387/723, at time 6.46/12.06 sec. Using the last valid frame instead.\n",
            "  warnings.warn(\"Warning: in file %s, \"%(self.filename)+\n",
            "\n",
            "t:  93%|█████████▎| 389/420 [01:04<00:05,  5.17it/s, now=None]WARNING:py.warnings:/usr/local/lib/python3.10/dist-packages/moviepy/video/io/ffmpeg_reader.py:123: UserWarning: Warning: in file /content/drive/MyDrive/siwake/video/takahiro (10) (6).MTS, 6220800 bytes wanted but 0 bytes read,at frame 388/723, at time 6.47/12.06 sec. Using the last valid frame instead.\n",
            "  warnings.warn(\"Warning: in file %s, \"%(self.filename)+\n",
            "\n",
            "t:  93%|█████████▎| 390/420 [01:04<00:05,  5.67it/s, now=None]WARNING:py.warnings:/usr/local/lib/python3.10/dist-packages/moviepy/video/io/ffmpeg_reader.py:123: UserWarning: Warning: in file /content/drive/MyDrive/siwake/video/takahiro (10) (6).MTS, 6220800 bytes wanted but 0 bytes read,at frame 389/723, at time 6.49/12.06 sec. Using the last valid frame instead.\n",
            "  warnings.warn(\"Warning: in file %s, \"%(self.filename)+\n",
            "\n",
            "t:  93%|█████████▎| 391/420 [01:04<00:05,  4.92it/s, now=None]WARNING:py.warnings:/usr/local/lib/python3.10/dist-packages/moviepy/video/io/ffmpeg_reader.py:123: UserWarning: Warning: in file /content/drive/MyDrive/siwake/video/takahiro (10) (6).MTS, 6220800 bytes wanted but 0 bytes read,at frame 390/723, at time 6.51/12.06 sec. Using the last valid frame instead.\n",
            "  warnings.warn(\"Warning: in file %s, \"%(self.filename)+\n",
            "\n",
            "t:  93%|█████████▎| 392/420 [01:05<00:06,  4.55it/s, now=None]WARNING:py.warnings:/usr/local/lib/python3.10/dist-packages/moviepy/video/io/ffmpeg_reader.py:123: UserWarning: Warning: in file /content/drive/MyDrive/siwake/video/takahiro (10) (6).MTS, 6220800 bytes wanted but 0 bytes read,at frame 391/723, at time 6.52/12.06 sec. Using the last valid frame instead.\n",
            "  warnings.warn(\"Warning: in file %s, \"%(self.filename)+\n",
            "\n",
            "WARNING:py.warnings:/usr/local/lib/python3.10/dist-packages/moviepy/video/io/ffmpeg_reader.py:123: UserWarning: Warning: in file /content/drive/MyDrive/siwake/video/takahiro (10) (6).MTS, 6220800 bytes wanted but 0 bytes read,at frame 392/723, at time 6.54/12.06 sec. Using the last valid frame instead.\n",
            "  warnings.warn(\"Warning: in file %s, \"%(self.filename)+\n",
            "\n",
            "t:  94%|█████████▍| 394/420 [01:05<00:05,  4.56it/s, now=None]WARNING:py.warnings:/usr/local/lib/python3.10/dist-packages/moviepy/video/io/ffmpeg_reader.py:123: UserWarning: Warning: in file /content/drive/MyDrive/siwake/video/takahiro (10) (6).MTS, 6220800 bytes wanted but 0 bytes read,at frame 393/723, at time 6.56/12.06 sec. Using the last valid frame instead.\n",
            "  warnings.warn(\"Warning: in file %s, \"%(self.filename)+\n",
            "\n",
            "WARNING:py.warnings:/usr/local/lib/python3.10/dist-packages/moviepy/video/io/ffmpeg_reader.py:123: UserWarning: Warning: in file /content/drive/MyDrive/siwake/video/takahiro (10) (6).MTS, 6220800 bytes wanted but 0 bytes read,at frame 394/723, at time 6.57/12.06 sec. Using the last valid frame instead.\n",
            "  warnings.warn(\"Warning: in file %s, \"%(self.filename)+\n",
            "\n",
            "t:  94%|█████████▍| 396/420 [01:05<00:03,  6.24it/s, now=None]WARNING:py.warnings:/usr/local/lib/python3.10/dist-packages/moviepy/video/io/ffmpeg_reader.py:123: UserWarning: Warning: in file /content/drive/MyDrive/siwake/video/takahiro (10) (6).MTS, 6220800 bytes wanted but 0 bytes read,at frame 395/723, at time 6.59/12.06 sec. Using the last valid frame instead.\n",
            "  warnings.warn(\"Warning: in file %s, \"%(self.filename)+\n",
            "\n",
            "t:  95%|█████████▍| 397/420 [01:06<00:04,  4.63it/s, now=None]WARNING:py.warnings:/usr/local/lib/python3.10/dist-packages/moviepy/video/io/ffmpeg_reader.py:123: UserWarning: Warning: in file /content/drive/MyDrive/siwake/video/takahiro (10) (6).MTS, 6220800 bytes wanted but 0 bytes read,at frame 396/723, at time 6.61/12.06 sec. Using the last valid frame instead.\n",
            "  warnings.warn(\"Warning: in file %s, \"%(self.filename)+\n",
            "\n",
            "t:  95%|█████████▍| 398/420 [01:06<00:05,  4.24it/s, now=None]WARNING:py.warnings:/usr/local/lib/python3.10/dist-packages/moviepy/video/io/ffmpeg_reader.py:123: UserWarning: Warning: in file /content/drive/MyDrive/siwake/video/takahiro (10) (6).MTS, 6220800 bytes wanted but 0 bytes read,at frame 397/723, at time 6.62/12.06 sec. Using the last valid frame instead.\n",
            "  warnings.warn(\"Warning: in file %s, \"%(self.filename)+\n",
            "\n",
            "WARNING:py.warnings:/usr/local/lib/python3.10/dist-packages/moviepy/video/io/ffmpeg_reader.py:123: UserWarning: Warning: in file /content/drive/MyDrive/siwake/video/takahiro (10) (6).MTS, 6220800 bytes wanted but 0 bytes read,at frame 398/723, at time 6.64/12.06 sec. Using the last valid frame instead.\n",
            "  warnings.warn(\"Warning: in file %s, \"%(self.filename)+\n",
            "\n",
            "t:  95%|█████████▌| 400/420 [01:06<00:03,  5.90it/s, now=None]WARNING:py.warnings:/usr/local/lib/python3.10/dist-packages/moviepy/video/io/ffmpeg_reader.py:123: UserWarning: Warning: in file /content/drive/MyDrive/siwake/video/takahiro (10) (6).MTS, 6220800 bytes wanted but 0 bytes read,at frame 399/723, at time 6.66/12.06 sec. Using the last valid frame instead.\n",
            "  warnings.warn(\"Warning: in file %s, \"%(self.filename)+\n",
            "\n",
            "t:  95%|█████████▌| 401/420 [01:06<00:04,  4.53it/s, now=None]WARNING:py.warnings:/usr/local/lib/python3.10/dist-packages/moviepy/video/io/ffmpeg_reader.py:123: UserWarning: Warning: in file /content/drive/MyDrive/siwake/video/takahiro (10) (6).MTS, 6220800 bytes wanted but 0 bytes read,at frame 400/723, at time 6.67/12.06 sec. Using the last valid frame instead.\n",
            "  warnings.warn(\"Warning: in file %s, \"%(self.filename)+\n",
            "\n",
            "t:  96%|█████████▌| 402/420 [01:07<00:04,  4.26it/s, now=None]WARNING:py.warnings:/usr/local/lib/python3.10/dist-packages/moviepy/video/io/ffmpeg_reader.py:123: UserWarning: Warning: in file /content/drive/MyDrive/siwake/video/takahiro (10) (6).MTS, 6220800 bytes wanted but 0 bytes read,at frame 401/723, at time 6.69/12.06 sec. Using the last valid frame instead.\n",
            "  warnings.warn(\"Warning: in file %s, \"%(self.filename)+\n",
            "\n",
            "WARNING:py.warnings:/usr/local/lib/python3.10/dist-packages/moviepy/video/io/ffmpeg_reader.py:123: UserWarning: Warning: in file /content/drive/MyDrive/siwake/video/takahiro (10) (6).MTS, 6220800 bytes wanted but 0 bytes read,at frame 402/723, at time 6.71/12.06 sec. Using the last valid frame instead.\n",
            "  warnings.warn(\"Warning: in file %s, \"%(self.filename)+\n",
            "\n",
            "t:  96%|█████████▌| 404/420 [01:07<00:03,  5.03it/s, now=None]WARNING:py.warnings:/usr/local/lib/python3.10/dist-packages/moviepy/video/io/ffmpeg_reader.py:123: UserWarning: Warning: in file /content/drive/MyDrive/siwake/video/takahiro (10) (6).MTS, 6220800 bytes wanted but 0 bytes read,at frame 403/723, at time 6.72/12.06 sec. Using the last valid frame instead.\n",
            "  warnings.warn(\"Warning: in file %s, \"%(self.filename)+\n",
            "\n",
            "t:  96%|█████████▋| 405/420 [01:07<00:03,  4.74it/s, now=None]WARNING:py.warnings:/usr/local/lib/python3.10/dist-packages/moviepy/video/io/ffmpeg_reader.py:123: UserWarning: Warning: in file /content/drive/MyDrive/siwake/video/takahiro (10) (6).MTS, 6220800 bytes wanted but 0 bytes read,at frame 404/723, at time 6.74/12.06 sec. Using the last valid frame instead.\n",
            "  warnings.warn(\"Warning: in file %s, \"%(self.filename)+\n",
            "\n",
            "WARNING:py.warnings:/usr/local/lib/python3.10/dist-packages/moviepy/video/io/ffmpeg_reader.py:123: UserWarning: Warning: in file /content/drive/MyDrive/siwake/video/takahiro (10) (6).MTS, 6220800 bytes wanted but 0 bytes read,at frame 405/723, at time 6.76/12.06 sec. Using the last valid frame instead.\n",
            "  warnings.warn(\"Warning: in file %s, \"%(self.filename)+\n",
            "\n",
            "WARNING:py.warnings:/usr/local/lib/python3.10/dist-packages/moviepy/video/io/ffmpeg_reader.py:123: UserWarning: Warning: in file /content/drive/MyDrive/siwake/video/takahiro (10) (6).MTS, 6220800 bytes wanted but 0 bytes read,at frame 406/723, at time 6.77/12.06 sec. Using the last valid frame instead.\n",
            "  warnings.warn(\"Warning: in file %s, \"%(self.filename)+\n",
            "\n",
            "t:  97%|█████████▋| 408/420 [01:08<00:02,  5.12it/s, now=None]WARNING:py.warnings:/usr/local/lib/python3.10/dist-packages/moviepy/video/io/ffmpeg_reader.py:123: UserWarning: Warning: in file /content/drive/MyDrive/siwake/video/takahiro (10) (6).MTS, 6220800 bytes wanted but 0 bytes read,at frame 407/723, at time 6.79/12.06 sec. Using the last valid frame instead.\n",
            "  warnings.warn(\"Warning: in file %s, \"%(self.filename)+\n",
            "\n",
            "WARNING:py.warnings:/usr/local/lib/python3.10/dist-packages/moviepy/video/io/ffmpeg_reader.py:123: UserWarning: Warning: in file /content/drive/MyDrive/siwake/video/takahiro (10) (6).MTS, 6220800 bytes wanted but 0 bytes read,at frame 408/723, at time 6.81/12.06 sec. Using the last valid frame instead.\n",
            "  warnings.warn(\"Warning: in file %s, \"%(self.filename)+\n",
            "\n",
            "t:  98%|█████████▊| 410/420 [01:08<00:01,  6.52it/s, now=None]WARNING:py.warnings:/usr/local/lib/python3.10/dist-packages/moviepy/video/io/ffmpeg_reader.py:123: UserWarning: Warning: in file /content/drive/MyDrive/siwake/video/takahiro (10) (6).MTS, 6220800 bytes wanted but 0 bytes read,at frame 409/723, at time 6.82/12.06 sec. Using the last valid frame instead.\n",
            "  warnings.warn(\"Warning: in file %s, \"%(self.filename)+\n",
            "\n",
            "t:  98%|█████████▊| 411/420 [01:08<00:01,  5.08it/s, now=None]WARNING:py.warnings:/usr/local/lib/python3.10/dist-packages/moviepy/video/io/ffmpeg_reader.py:123: UserWarning: Warning: in file /content/drive/MyDrive/siwake/video/takahiro (10) (6).MTS, 6220800 bytes wanted but 0 bytes read,at frame 410/723, at time 6.84/12.06 sec. Using the last valid frame instead.\n",
            "  warnings.warn(\"Warning: in file %s, \"%(self.filename)+\n",
            "\n",
            "t:  98%|█████████▊| 412/420 [01:09<00:01,  4.94it/s, now=None]WARNING:py.warnings:/usr/local/lib/python3.10/dist-packages/moviepy/video/io/ffmpeg_reader.py:123: UserWarning: Warning: in file /content/drive/MyDrive/siwake/video/takahiro (10) (6).MTS, 6220800 bytes wanted but 0 bytes read,at frame 411/723, at time 6.86/12.06 sec. Using the last valid frame instead.\n",
            "  warnings.warn(\"Warning: in file %s, \"%(self.filename)+\n",
            "\n",
            "t:  98%|█████████▊| 413/420 [01:09<00:01,  5.33it/s, now=None]WARNING:py.warnings:/usr/local/lib/python3.10/dist-packages/moviepy/video/io/ffmpeg_reader.py:123: UserWarning: Warning: in file /content/drive/MyDrive/siwake/video/takahiro (10) (6).MTS, 6220800 bytes wanted but 0 bytes read,at frame 412/723, at time 6.87/12.06 sec. Using the last valid frame instead.\n",
            "  warnings.warn(\"Warning: in file %s, \"%(self.filename)+\n",
            "\n",
            "WARNING:py.warnings:/usr/local/lib/python3.10/dist-packages/moviepy/video/io/ffmpeg_reader.py:123: UserWarning: Warning: in file /content/drive/MyDrive/siwake/video/takahiro (10) (6).MTS, 6220800 bytes wanted but 0 bytes read,at frame 413/723, at time 6.89/12.06 sec. Using the last valid frame instead.\n",
            "  warnings.warn(\"Warning: in file %s, \"%(self.filename)+\n",
            "\n",
            "t:  99%|█████████▉| 415/420 [01:09<00:01,  4.45it/s, now=None]WARNING:py.warnings:/usr/local/lib/python3.10/dist-packages/moviepy/video/io/ffmpeg_reader.py:123: UserWarning: Warning: in file /content/drive/MyDrive/siwake/video/takahiro (10) (6).MTS, 6220800 bytes wanted but 0 bytes read,at frame 414/723, at time 6.91/12.06 sec. Using the last valid frame instead.\n",
            "  warnings.warn(\"Warning: in file %s, \"%(self.filename)+\n",
            "\n",
            "t:  99%|█████████▉| 416/420 [01:09<00:00,  4.82it/s, now=None]WARNING:py.warnings:/usr/local/lib/python3.10/dist-packages/moviepy/video/io/ffmpeg_reader.py:123: UserWarning: Warning: in file /content/drive/MyDrive/siwake/video/takahiro (10) (6).MTS, 6220800 bytes wanted but 0 bytes read,at frame 415/723, at time 6.92/12.06 sec. Using the last valid frame instead.\n",
            "  warnings.warn(\"Warning: in file %s, \"%(self.filename)+\n",
            "\n",
            "t:  99%|█████████▉| 417/420 [01:09<00:00,  5.47it/s, now=None]WARNING:py.warnings:/usr/local/lib/python3.10/dist-packages/moviepy/video/io/ffmpeg_reader.py:123: UserWarning: Warning: in file /content/drive/MyDrive/siwake/video/takahiro (10) (6).MTS, 6220800 bytes wanted but 0 bytes read,at frame 416/723, at time 6.94/12.06 sec. Using the last valid frame instead.\n",
            "  warnings.warn(\"Warning: in file %s, \"%(self.filename)+\n",
            "\n",
            "t: 100%|█████████▉| 418/420 [01:10<00:00,  5.87it/s, now=None]WARNING:py.warnings:/usr/local/lib/python3.10/dist-packages/moviepy/video/io/ffmpeg_reader.py:123: UserWarning: Warning: in file /content/drive/MyDrive/siwake/video/takahiro (10) (6).MTS, 6220800 bytes wanted but 0 bytes read,at frame 417/723, at time 6.96/12.06 sec. Using the last valid frame instead.\n",
            "  warnings.warn(\"Warning: in file %s, \"%(self.filename)+\n",
            "\n",
            "t: 100%|█████████▉| 419/420 [01:10<00:00,  3.60it/s, now=None]WARNING:py.warnings:/usr/local/lib/python3.10/dist-packages/moviepy/video/io/ffmpeg_reader.py:123: UserWarning: Warning: in file /content/drive/MyDrive/siwake/video/takahiro (10) (6).MTS, 6220800 bytes wanted but 0 bytes read,at frame 418/723, at time 6.97/12.06 sec. Using the last valid frame instead.\n",
            "  warnings.warn(\"Warning: in file %s, \"%(self.filename)+\n",
            "\n",
            "WARNING:py.warnings:/usr/local/lib/python3.10/dist-packages/moviepy/video/io/ffmpeg_reader.py:123: UserWarning: Warning: in file /content/drive/MyDrive/siwake/video/takahiro (10) (6).MTS, 6220800 bytes wanted but 0 bytes read,at frame 419/723, at time 6.99/12.06 sec. Using the last valid frame instead.\n",
            "  warnings.warn(\"Warning: in file %s, \"%(self.filename)+\n",
            "\n"
          ]
        },
        {
          "output_type": "stream",
          "name": "stdout",
          "text": [
            "Moviepy - Done !\n",
            "Moviepy - video ready /content/drive/MyDrive/siwake/data/temp_video.mp4\n",
            "MoviePy - Writing audio in /content/drive/MyDrive/siwake/data/temp_audio.wav\n"
          ]
        },
        {
          "output_type": "stream",
          "name": "stderr",
          "text": [
            "                                                        "
          ]
        },
        {
          "output_type": "stream",
          "name": "stdout",
          "text": [
            "MoviePy - Done.\n"
          ]
        },
        {
          "output_type": "stream",
          "name": "stderr",
          "text": [
            "\r"
          ]
        },
        {
          "output_type": "stream",
          "name": "stdout",
          "text": [
            "Moviepy - Building video /content/drive/MyDrive/siwake/data/temp_video.mp4.\n",
            "MoviePy - Writing audio in temp_videoTEMP_MPY_wvf_snd.mp4\n"
          ]
        },
        {
          "output_type": "stream",
          "name": "stderr",
          "text": []
        },
        {
          "output_type": "stream",
          "name": "stdout",
          "text": [
            "MoviePy - Done.\n",
            "Moviepy - Writing video /content/drive/MyDrive/siwake/data/temp_video.mp4\n",
            "\n"
          ]
        },
        {
          "output_type": "stream",
          "name": "stderr",
          "text": []
        },
        {
          "output_type": "stream",
          "name": "stdout",
          "text": [
            "Moviepy - Done !\n",
            "Moviepy - video ready /content/drive/MyDrive/siwake/data/temp_video.mp4\n",
            "MoviePy - Writing audio in /content/drive/MyDrive/siwake/data/temp_audio.wav\n"
          ]
        },
        {
          "output_type": "stream",
          "name": "stderr",
          "text": [
            "                                                        "
          ]
        },
        {
          "output_type": "stream",
          "name": "stdout",
          "text": [
            "MoviePy - Done.\n"
          ]
        },
        {
          "output_type": "stream",
          "name": "stderr",
          "text": [
            "\r"
          ]
        },
        {
          "output_type": "stream",
          "name": "stdout",
          "text": [
            "Moviepy - Building video /content/drive/MyDrive/siwake/data/temp_video.mp4.\n",
            "MoviePy - Writing audio in temp_videoTEMP_MPY_wvf_snd.mp4\n"
          ]
        },
        {
          "output_type": "stream",
          "name": "stderr",
          "text": []
        },
        {
          "output_type": "stream",
          "name": "stdout",
          "text": [
            "MoviePy - Done.\n",
            "Moviepy - Writing video /content/drive/MyDrive/siwake/data/temp_video.mp4\n",
            "\n"
          ]
        },
        {
          "output_type": "stream",
          "name": "stderr",
          "text": []
        },
        {
          "output_type": "stream",
          "name": "stdout",
          "text": [
            "Moviepy - Done !\n",
            "Moviepy - video ready /content/drive/MyDrive/siwake/data/temp_video.mp4\n",
            "MoviePy - Writing audio in /content/drive/MyDrive/siwake/data/temp_audio.wav\n"
          ]
        },
        {
          "output_type": "stream",
          "name": "stderr",
          "text": [
            "                                                        "
          ]
        },
        {
          "output_type": "stream",
          "name": "stdout",
          "text": [
            "MoviePy - Done.\n"
          ]
        },
        {
          "output_type": "stream",
          "name": "stderr",
          "text": [
            "\r"
          ]
        },
        {
          "output_type": "stream",
          "name": "stdout",
          "text": [
            "Moviepy - Building video /content/drive/MyDrive/siwake/data/temp_video.mp4.\n",
            "MoviePy - Writing audio in temp_videoTEMP_MPY_wvf_snd.mp4\n"
          ]
        },
        {
          "output_type": "stream",
          "name": "stderr",
          "text": []
        },
        {
          "output_type": "stream",
          "name": "stdout",
          "text": [
            "MoviePy - Done.\n",
            "Moviepy - Writing video /content/drive/MyDrive/siwake/data/temp_video.mp4\n",
            "\n"
          ]
        },
        {
          "output_type": "stream",
          "name": "stderr",
          "text": []
        },
        {
          "output_type": "stream",
          "name": "stdout",
          "text": [
            "Moviepy - Done !\n",
            "Moviepy - video ready /content/drive/MyDrive/siwake/data/temp_video.mp4\n",
            "MoviePy - Writing audio in /content/drive/MyDrive/siwake/data/temp_audio.wav\n"
          ]
        },
        {
          "output_type": "stream",
          "name": "stderr",
          "text": []
        },
        {
          "output_type": "stream",
          "name": "stdout",
          "text": [
            "MoviePy - Done.\n",
            "Moviepy - Building video /content/drive/MyDrive/siwake/data/temp_video.mp4.\n",
            "MoviePy - Writing audio in temp_videoTEMP_MPY_wvf_snd.mp4\n"
          ]
        },
        {
          "output_type": "stream",
          "name": "stderr",
          "text": []
        },
        {
          "output_type": "stream",
          "name": "stdout",
          "text": [
            "MoviePy - Done.\n",
            "Moviepy - Writing video /content/drive/MyDrive/siwake/data/temp_video.mp4\n",
            "\n"
          ]
        },
        {
          "output_type": "stream",
          "name": "stderr",
          "text": []
        },
        {
          "output_type": "stream",
          "name": "stdout",
          "text": [
            "Moviepy - Done !\n",
            "Moviepy - video ready /content/drive/MyDrive/siwake/data/temp_video.mp4\n",
            "MoviePy - Writing audio in /content/drive/MyDrive/siwake/data/temp_audio.wav\n"
          ]
        },
        {
          "output_type": "stream",
          "name": "stderr",
          "text": [
            "                                                                    "
          ]
        },
        {
          "output_type": "stream",
          "name": "stdout",
          "text": [
            "MoviePy - Done.\n"
          ]
        },
        {
          "output_type": "stream",
          "name": "stderr",
          "text": [
            "\r"
          ]
        },
        {
          "output_type": "stream",
          "name": "stdout",
          "text": [
            "Moviepy - Building video /content/drive/MyDrive/siwake/data/temp_video.mp4.\n",
            "MoviePy - Writing audio in temp_videoTEMP_MPY_wvf_snd.mp4\n"
          ]
        },
        {
          "output_type": "stream",
          "name": "stderr",
          "text": []
        },
        {
          "output_type": "stream",
          "name": "stdout",
          "text": [
            "MoviePy - Done.\n",
            "Moviepy - Writing video /content/drive/MyDrive/siwake/data/temp_video.mp4\n",
            "\n"
          ]
        },
        {
          "output_type": "stream",
          "name": "stderr",
          "text": []
        },
        {
          "output_type": "stream",
          "name": "stdout",
          "text": [
            "Moviepy - Done !\n",
            "Moviepy - video ready /content/drive/MyDrive/siwake/data/temp_video.mp4\n",
            "MoviePy - Writing audio in /content/drive/MyDrive/siwake/data/temp_audio.wav\n"
          ]
        },
        {
          "output_type": "stream",
          "name": "stderr",
          "text": [
            "                                                        "
          ]
        },
        {
          "output_type": "stream",
          "name": "stdout",
          "text": [
            "MoviePy - Done.\n"
          ]
        },
        {
          "output_type": "stream",
          "name": "stderr",
          "text": [
            "\r"
          ]
        },
        {
          "output_type": "stream",
          "name": "stdout",
          "text": [
            "Moviepy - Building video /content/drive/MyDrive/siwake/data/temp_video.mp4.\n",
            "MoviePy - Writing audio in temp_videoTEMP_MPY_wvf_snd.mp4\n"
          ]
        },
        {
          "output_type": "stream",
          "name": "stderr",
          "text": []
        },
        {
          "output_type": "stream",
          "name": "stdout",
          "text": [
            "MoviePy - Done.\n",
            "Moviepy - Writing video /content/drive/MyDrive/siwake/data/temp_video.mp4\n",
            "\n"
          ]
        },
        {
          "output_type": "stream",
          "name": "stderr",
          "text": []
        },
        {
          "output_type": "stream",
          "name": "stdout",
          "text": [
            "Moviepy - Done !\n",
            "Moviepy - video ready /content/drive/MyDrive/siwake/data/temp_video.mp4\n",
            "MoviePy - Writing audio in /content/drive/MyDrive/siwake/data/temp_audio.wav\n"
          ]
        },
        {
          "output_type": "stream",
          "name": "stderr",
          "text": [
            "                                                                   "
          ]
        },
        {
          "output_type": "stream",
          "name": "stdout",
          "text": [
            "MoviePy - Done.\n"
          ]
        },
        {
          "output_type": "stream",
          "name": "stderr",
          "text": [
            "\r"
          ]
        },
        {
          "output_type": "stream",
          "name": "stdout",
          "text": [
            "Moviepy - Building video /content/drive/MyDrive/siwake/data/temp_video.mp4.\n",
            "MoviePy - Writing audio in temp_videoTEMP_MPY_wvf_snd.mp4\n"
          ]
        },
        {
          "output_type": "stream",
          "name": "stderr",
          "text": []
        },
        {
          "output_type": "stream",
          "name": "stdout",
          "text": [
            "MoviePy - Done.\n",
            "Moviepy - Writing video /content/drive/MyDrive/siwake/data/temp_video.mp4\n",
            "\n"
          ]
        },
        {
          "output_type": "stream",
          "name": "stderr",
          "text": []
        },
        {
          "output_type": "stream",
          "name": "stdout",
          "text": [
            "Moviepy - Done !\n",
            "Moviepy - video ready /content/drive/MyDrive/siwake/data/temp_video.mp4\n",
            "MoviePy - Writing audio in /content/drive/MyDrive/siwake/data/temp_audio.wav\n"
          ]
        },
        {
          "output_type": "stream",
          "name": "stderr",
          "text": [
            "                                                                    "
          ]
        },
        {
          "output_type": "stream",
          "name": "stdout",
          "text": [
            "MoviePy - Done.\n"
          ]
        },
        {
          "output_type": "stream",
          "name": "stderr",
          "text": [
            "\r"
          ]
        },
        {
          "output_type": "stream",
          "name": "stdout",
          "text": [
            "Moviepy - Building video /content/drive/MyDrive/siwake/data/temp_video.mp4.\n",
            "MoviePy - Writing audio in temp_videoTEMP_MPY_wvf_snd.mp4\n"
          ]
        },
        {
          "output_type": "stream",
          "name": "stderr",
          "text": []
        },
        {
          "output_type": "stream",
          "name": "stdout",
          "text": [
            "MoviePy - Done.\n",
            "Moviepy - Writing video /content/drive/MyDrive/siwake/data/temp_video.mp4\n",
            "\n"
          ]
        },
        {
          "output_type": "stream",
          "name": "stderr",
          "text": []
        },
        {
          "output_type": "stream",
          "name": "stdout",
          "text": [
            "Moviepy - Done !\n",
            "Moviepy - video ready /content/drive/MyDrive/siwake/data/temp_video.mp4\n",
            "MoviePy - Writing audio in /content/drive/MyDrive/siwake/data/temp_audio.wav\n"
          ]
        },
        {
          "output_type": "stream",
          "name": "stderr",
          "text": [
            "                                                        "
          ]
        },
        {
          "output_type": "stream",
          "name": "stdout",
          "text": [
            "MoviePy - Done.\n"
          ]
        },
        {
          "output_type": "stream",
          "name": "stderr",
          "text": [
            "\r"
          ]
        },
        {
          "output_type": "stream",
          "name": "stdout",
          "text": [
            "Moviepy - Building video /content/drive/MyDrive/siwake/data/temp_video.mp4.\n",
            "MoviePy - Writing audio in temp_videoTEMP_MPY_wvf_snd.mp4\n"
          ]
        },
        {
          "output_type": "stream",
          "name": "stderr",
          "text": []
        },
        {
          "output_type": "stream",
          "name": "stdout",
          "text": [
            "MoviePy - Done.\n",
            "Moviepy - Writing video /content/drive/MyDrive/siwake/data/temp_video.mp4\n",
            "\n"
          ]
        },
        {
          "output_type": "stream",
          "name": "stderr",
          "text": [
            "t:  97%|█████████▋| 406/420 [01:26<00:03,  4.34it/s, now=None]WARNING:py.warnings:/usr/local/lib/python3.10/dist-packages/moviepy/video/io/ffmpeg_reader.py:123: UserWarning: Warning: in file /content/drive/MyDrive/siwake/video/takahiro (20) (1).MTS, 6220800 bytes wanted but 0 bytes read,at frame 406/814, at time 6.77/13.57 sec. Using the last valid frame instead.\n",
            "  warnings.warn(\"Warning: in file %s, \"%(self.filename)+\n",
            "\n",
            "t:  97%|█████████▋| 408/420 [01:27<00:02,  4.74it/s, now=None]WARNING:py.warnings:/usr/local/lib/python3.10/dist-packages/moviepy/video/io/ffmpeg_reader.py:123: UserWarning: Warning: in file /content/drive/MyDrive/siwake/video/takahiro (20) (1).MTS, 6220800 bytes wanted but 0 bytes read,at frame 407/814, at time 6.79/13.57 sec. Using the last valid frame instead.\n",
            "  warnings.warn(\"Warning: in file %s, \"%(self.filename)+\n",
            "\n",
            "t:  97%|█████████▋| 409/420 [01:27<00:02,  5.06it/s, now=None]WARNING:py.warnings:/usr/local/lib/python3.10/dist-packages/moviepy/video/io/ffmpeg_reader.py:123: UserWarning: Warning: in file /content/drive/MyDrive/siwake/video/takahiro (20) (1).MTS, 6220800 bytes wanted but 0 bytes read,at frame 408/814, at time 6.81/13.57 sec. Using the last valid frame instead.\n",
            "  warnings.warn(\"Warning: in file %s, \"%(self.filename)+\n",
            "\n",
            "t:  98%|█████████▊| 410/420 [01:27<00:01,  5.54it/s, now=None]WARNING:py.warnings:/usr/local/lib/python3.10/dist-packages/moviepy/video/io/ffmpeg_reader.py:123: UserWarning: Warning: in file /content/drive/MyDrive/siwake/video/takahiro (20) (1).MTS, 6220800 bytes wanted but 0 bytes read,at frame 409/814, at time 6.82/13.57 sec. Using the last valid frame instead.\n",
            "  warnings.warn(\"Warning: in file %s, \"%(self.filename)+\n",
            "\n",
            "t:  98%|█████████▊| 411/420 [01:27<00:01,  6.17it/s, now=None]WARNING:py.warnings:/usr/local/lib/python3.10/dist-packages/moviepy/video/io/ffmpeg_reader.py:123: UserWarning: Warning: in file /content/drive/MyDrive/siwake/video/takahiro (20) (1).MTS, 6220800 bytes wanted but 0 bytes read,at frame 410/814, at time 6.84/13.57 sec. Using the last valid frame instead.\n",
            "  warnings.warn(\"Warning: in file %s, \"%(self.filename)+\n",
            "\n",
            "t:  98%|█████████▊| 412/420 [01:27<00:01,  5.21it/s, now=None]WARNING:py.warnings:/usr/local/lib/python3.10/dist-packages/moviepy/video/io/ffmpeg_reader.py:123: UserWarning: Warning: in file /content/drive/MyDrive/siwake/video/takahiro (20) (1).MTS, 6220800 bytes wanted but 0 bytes read,at frame 411/814, at time 6.86/13.57 sec. Using the last valid frame instead.\n",
            "  warnings.warn(\"Warning: in file %s, \"%(self.filename)+\n",
            "\n",
            "t:  98%|█████████▊| 413/420 [01:27<00:01,  5.10it/s, now=None]WARNING:py.warnings:/usr/local/lib/python3.10/dist-packages/moviepy/video/io/ffmpeg_reader.py:123: UserWarning: Warning: in file /content/drive/MyDrive/siwake/video/takahiro (20) (1).MTS, 6220800 bytes wanted but 0 bytes read,at frame 412/814, at time 6.87/13.57 sec. Using the last valid frame instead.\n",
            "  warnings.warn(\"Warning: in file %s, \"%(self.filename)+\n",
            "\n",
            "WARNING:py.warnings:/usr/local/lib/python3.10/dist-packages/moviepy/video/io/ffmpeg_reader.py:123: UserWarning: Warning: in file /content/drive/MyDrive/siwake/video/takahiro (20) (1).MTS, 6220800 bytes wanted but 0 bytes read,at frame 413/814, at time 6.89/13.57 sec. Using the last valid frame instead.\n",
            "  warnings.warn(\"Warning: in file %s, \"%(self.filename)+\n",
            "\n",
            "t:  99%|█████████▉| 415/420 [01:28<00:00,  6.00it/s, now=None]WARNING:py.warnings:/usr/local/lib/python3.10/dist-packages/moviepy/video/io/ffmpeg_reader.py:123: UserWarning: Warning: in file /content/drive/MyDrive/siwake/video/takahiro (20) (1).MTS, 6220800 bytes wanted but 0 bytes read,at frame 414/814, at time 6.91/13.57 sec. Using the last valid frame instead.\n",
            "  warnings.warn(\"Warning: in file %s, \"%(self.filename)+\n",
            "\n",
            "t:  99%|█████████▉| 416/420 [01:28<00:00,  4.70it/s, now=None]WARNING:py.warnings:/usr/local/lib/python3.10/dist-packages/moviepy/video/io/ffmpeg_reader.py:123: UserWarning: Warning: in file /content/drive/MyDrive/siwake/video/takahiro (20) (1).MTS, 6220800 bytes wanted but 0 bytes read,at frame 415/814, at time 6.92/13.57 sec. Using the last valid frame instead.\n",
            "  warnings.warn(\"Warning: in file %s, \"%(self.filename)+\n",
            "\n",
            "t:  99%|█████████▉| 417/420 [01:28<00:00,  5.01it/s, now=None]WARNING:py.warnings:/usr/local/lib/python3.10/dist-packages/moviepy/video/io/ffmpeg_reader.py:123: UserWarning: Warning: in file /content/drive/MyDrive/siwake/video/takahiro (20) (1).MTS, 6220800 bytes wanted but 0 bytes read,at frame 416/814, at time 6.94/13.57 sec. Using the last valid frame instead.\n",
            "  warnings.warn(\"Warning: in file %s, \"%(self.filename)+\n",
            "\n",
            "t: 100%|█████████▉| 418/420 [01:28<00:00,  4.90it/s, now=None]WARNING:py.warnings:/usr/local/lib/python3.10/dist-packages/moviepy/video/io/ffmpeg_reader.py:123: UserWarning: Warning: in file /content/drive/MyDrive/siwake/video/takahiro (20) (1).MTS, 6220800 bytes wanted but 0 bytes read,at frame 417/814, at time 6.96/13.57 sec. Using the last valid frame instead.\n",
            "  warnings.warn(\"Warning: in file %s, \"%(self.filename)+\n",
            "\n",
            "WARNING:py.warnings:/usr/local/lib/python3.10/dist-packages/moviepy/video/io/ffmpeg_reader.py:123: UserWarning: Warning: in file /content/drive/MyDrive/siwake/video/takahiro (20) (1).MTS, 6220800 bytes wanted but 0 bytes read,at frame 418/814, at time 6.97/13.57 sec. Using the last valid frame instead.\n",
            "  warnings.warn(\"Warning: in file %s, \"%(self.filename)+\n",
            "\n",
            "t: 100%|██████████| 420/420 [01:29<00:00,  4.35it/s, now=None]WARNING:py.warnings:/usr/local/lib/python3.10/dist-packages/moviepy/video/io/ffmpeg_reader.py:123: UserWarning: Warning: in file /content/drive/MyDrive/siwake/video/takahiro (20) (1).MTS, 6220800 bytes wanted but 0 bytes read,at frame 419/814, at time 6.99/13.57 sec. Using the last valid frame instead.\n",
            "  warnings.warn(\"Warning: in file %s, \"%(self.filename)+\n",
            "\n"
          ]
        },
        {
          "output_type": "stream",
          "name": "stdout",
          "text": [
            "Moviepy - Done !\n",
            "Moviepy - video ready /content/drive/MyDrive/siwake/data/temp_video.mp4\n",
            "MoviePy - Writing audio in /content/drive/MyDrive/siwake/data/temp_audio.wav\n"
          ]
        },
        {
          "output_type": "stream",
          "name": "stderr",
          "text": [
            "                                                        "
          ]
        },
        {
          "output_type": "stream",
          "name": "stdout",
          "text": [
            "MoviePy - Done.\n"
          ]
        },
        {
          "output_type": "stream",
          "name": "stderr",
          "text": [
            "\r"
          ]
        },
        {
          "output_type": "stream",
          "name": "stdout",
          "text": [
            "Moviepy - Building video /content/drive/MyDrive/siwake/data/temp_video.mp4.\n",
            "MoviePy - Writing audio in temp_videoTEMP_MPY_wvf_snd.mp4\n"
          ]
        },
        {
          "output_type": "stream",
          "name": "stderr",
          "text": []
        },
        {
          "output_type": "stream",
          "name": "stdout",
          "text": [
            "MoviePy - Done.\n",
            "Moviepy - Writing video /content/drive/MyDrive/siwake/data/temp_video.mp4\n",
            "\n"
          ]
        },
        {
          "output_type": "stream",
          "name": "stderr",
          "text": []
        },
        {
          "output_type": "stream",
          "name": "stdout",
          "text": [
            "Moviepy - Done !\n",
            "Moviepy - video ready /content/drive/MyDrive/siwake/data/temp_video.mp4\n",
            "MoviePy - Writing audio in /content/drive/MyDrive/siwake/data/temp_audio.wav\n"
          ]
        },
        {
          "output_type": "stream",
          "name": "stderr",
          "text": [
            "                                                        "
          ]
        },
        {
          "output_type": "stream",
          "name": "stdout",
          "text": [
            "MoviePy - Done.\n"
          ]
        },
        {
          "output_type": "stream",
          "name": "stderr",
          "text": [
            "\r"
          ]
        },
        {
          "output_type": "stream",
          "name": "stdout",
          "text": [
            "Moviepy - Building video /content/drive/MyDrive/siwake/data/temp_video.mp4.\n",
            "MoviePy - Writing audio in temp_videoTEMP_MPY_wvf_snd.mp4\n"
          ]
        },
        {
          "output_type": "stream",
          "name": "stderr",
          "text": []
        },
        {
          "output_type": "stream",
          "name": "stdout",
          "text": [
            "MoviePy - Done.\n",
            "Moviepy - Writing video /content/drive/MyDrive/siwake/data/temp_video.mp4\n",
            "\n"
          ]
        },
        {
          "output_type": "stream",
          "name": "stderr",
          "text": []
        },
        {
          "output_type": "stream",
          "name": "stdout",
          "text": [
            "Moviepy - Done !\n",
            "Moviepy - video ready /content/drive/MyDrive/siwake/data/temp_video.mp4\n",
            "MoviePy - Writing audio in /content/drive/MyDrive/siwake/data/temp_audio.wav\n"
          ]
        },
        {
          "output_type": "stream",
          "name": "stderr",
          "text": []
        },
        {
          "output_type": "stream",
          "name": "stdout",
          "text": [
            "MoviePy - Done.\n",
            "Moviepy - Building video /content/drive/MyDrive/siwake/data/temp_video.mp4.\n",
            "MoviePy - Writing audio in temp_videoTEMP_MPY_wvf_snd.mp4\n"
          ]
        },
        {
          "output_type": "stream",
          "name": "stderr",
          "text": []
        },
        {
          "output_type": "stream",
          "name": "stdout",
          "text": [
            "MoviePy - Done.\n",
            "Moviepy - Writing video /content/drive/MyDrive/siwake/data/temp_video.mp4\n",
            "\n"
          ]
        },
        {
          "output_type": "stream",
          "name": "stderr",
          "text": []
        },
        {
          "output_type": "stream",
          "name": "stdout",
          "text": [
            "Moviepy - Done !\n",
            "Moviepy - video ready /content/drive/MyDrive/siwake/data/temp_video.mp4\n",
            "MoviePy - Writing audio in /content/drive/MyDrive/siwake/data/temp_audio.wav\n"
          ]
        },
        {
          "output_type": "stream",
          "name": "stderr",
          "text": [
            "                                                        "
          ]
        },
        {
          "output_type": "stream",
          "name": "stdout",
          "text": [
            "MoviePy - Done.\n"
          ]
        },
        {
          "output_type": "stream",
          "name": "stderr",
          "text": [
            "\r"
          ]
        }
      ],
      "source": [
        "import os\n",
        "import moviepy.editor as mp\n",
        "import speech_recognition as sr\n",
        "from openpyxl import Workbook\n",
        "\n",
        "# フォルダのパスを指定\n",
        "video_folder = '/content/drive/MyDrive/siwake/video'\n",
        "output_folder = '/content/drive/MyDrive/siwake/data'\n",
        "\n",
        "# Excelファイルの作成\n",
        "wb = Workbook()\n",
        "ws = wb.active\n",
        "ws.append([\"ラベル\", \"テキスト\", \"元のファイル名\"])\n",
        "\n",
        "# 音声認識器の初期化（日本語用）\n",
        "recognizer = sr.Recognizer()\n",
        "\n",
        "# フォルダ内のファイルを走査\n",
        "for filename in os.listdir(video_folder):\n",
        "    if filename.endswith(\".MTS\") or filename.endswith(\".mp4\"):  # .MTSと.mp4の両方をチェック\n",
        "        video_path = os.path.join(video_folder, filename)\n",
        "\n",
        "        try:\n",
        "            # MTS動画を一時的に変換して処理しやすくする\n",
        "            temp_video_path = os.path.join(output_folder, \"temp_video.mp4\")\n",
        "            clip = mp.VideoFileClip(video_path)\n",
        "\n",
        "            # 最初の7秒のみを切り取る\n",
        "            clip = clip.subclip(0, 7)\n",
        "\n",
        "            clip.write_videofile(temp_video_path, codec='libx264', audio_codec='aac')\n",
        "\n",
        "            # 動画から音声を抽出\n",
        "            video_clip = mp.VideoFileClip(temp_video_path)\n",
        "            audio_clip = video_clip.audio\n",
        "\n",
        "            # 音声を一時ファイルに書き出す\n",
        "            temp_audio_path = os.path.join(output_folder, \"temp_audio.wav\")\n",
        "            audio_clip.write_audiofile(temp_audio_path)\n",
        "\n",
        "            # 音声ファイルを読み込み\n",
        "            with sr.AudioFile(temp_audio_path) as source:\n",
        "                audio = recognizer.record(source)\n",
        "\n",
        "            # 音声をテキストに変換\n",
        "            text = recognizer.recognize_google(audio, language=\"ja-JP\")\n",
        "\n",
        "            # Excelに記録（元のファイル名も追加）\n",
        "            ws.append([filename, text, filename])  # 3列目に元のファイル名を記録\n",
        "\n",
        "            # 一時的なファイルを削除\n",
        "            os.remove(temp_video_path)\n",
        "            os.remove(temp_audio_path)\n",
        "\n",
        "        except Exception as e:\n",
        "            # エラーが発生した場合は \"エラー\" を記録\n",
        "            print(f\"動画 {filename} の処理中にエラーが発生しました: {str(e)}\")\n",
        "            ws.append([filename, \"エラー\", filename])  # エラーが発生した場合も元のファイル名を記録\n",
        "            continue\n",
        "\n",
        "# Excelファイルを保存\n",
        "xlsx_save_path = os.path.join(output_folder, \"takahiro_text.xlsx\")\n",
        "wb.save(xlsx_save_path)"
      ]
    },
    {
      "cell_type": "code",
      "execution_count": null,
      "metadata": {
        "id": "OSPrSZhYQx5t"
      },
      "outputs": [],
      "source": [
        "import pandas as pd\n",
        "import re\n",
        "\n",
        "# Excelファイルのパスを指定\n",
        "excel_file_path = xlsx_save_path\n",
        "\n",
        "# 列の名前を指定\n",
        "column_name = 'ラベル'\n",
        "\n",
        "# Excelファイルを読み取り\n",
        "df = pd.read_excel(excel_file_path)\n",
        "\n",
        "# 正規表現を使用して番号と拡張子を削除\n",
        "df[column_name] = df[column_name].apply(lambda x: re.sub(r'\\s*\\(\\d+\\)', '', x))  # 番号の削除\n",
        "df[column_name] = df[column_name].apply(lambda x: re.sub(r'\\.\\w+$', '', x))  # 拡張子の削除\n",
        "\n",
        "# 結果を元のExcelファイルに上書き保存\n",
        "df.to_excel(excel_file_path, index=False)"
      ]
    },
    {
      "cell_type": "code",
      "execution_count": null,
      "metadata": {
        "id": "1Dz2FXb0EF-Y"
      },
      "outputs": [],
      "source": [
        "import openpyxl\n",
        "import jaconv\n",
        "\n",
        "# ワークブックを開く\n",
        "wb = openpyxl.load_workbook(excel_file_path)\n",
        "# アクティブなワークシートを選択\n",
        "ws = wb.active\n",
        "\n",
        "# 2列目以降のデータに対して処理を行う\n",
        "for row in ws.iter_rows(min_row=2, min_col=2, max_col=2):\n",
        "    for cell in row:\n",
        "        if cell.value:\n",
        "            # スペースを消去\n",
        "            no_space = cell.value.replace(' ', '')\n",
        "            # カタカナをひらがなに変換\n",
        "            to_hiragana = jaconv.kata2hira(no_space)\n",
        "            # 変換後の値をセルに設定\n",
        "            cell.value = to_hiragana\n",
        "\n",
        "# 変更を保存\n",
        "wb.save(excel_file_path)"
      ]
    }
  ],
  "metadata": {
    "colab": {
      "provenance": [],
      "mount_file_id": "1RR-wg-cga9HouWrl5ep1ZIchAQinVNK1",
      "authorship_tag": "ABX9TyPLMRjZAyxdBvr5wqhBUg97",
      "include_colab_link": true
    },
    "kernelspec": {
      "display_name": "Python 3",
      "name": "python3"
    },
    "language_info": {
      "name": "python"
    }
  },
  "nbformat": 4,
  "nbformat_minor": 0
}